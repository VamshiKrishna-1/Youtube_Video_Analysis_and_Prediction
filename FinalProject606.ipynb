{
 "cells": [
  {
   "cell_type": "code",
   "execution_count": 1,
   "id": "7972546a",
   "metadata": {},
   "outputs": [
    {
     "name": "stdout",
     "output_type": "stream",
     "text": [
      "Requirement already satisfied: opendatasets in c:\\programdata\\anaconda3\\lib\\site-packages (0.1.22)\n",
      "Requirement already satisfied: kaggle in c:\\programdata\\anaconda3\\lib\\site-packages (from opendatasets) (1.5.12)\n",
      "Requirement already satisfied: tqdm in c:\\programdata\\anaconda3\\lib\\site-packages (from opendatasets) (4.62.3)\n",
      "Requirement already satisfied: click in c:\\programdata\\anaconda3\\lib\\site-packages (from opendatasets) (8.0.3)\n",
      "Requirement already satisfied: colorama in c:\\programdata\\anaconda3\\lib\\site-packages (from click->opendatasets) (0.4.4)\n",
      "Requirement already satisfied: six>=1.10 in c:\\programdata\\anaconda3\\lib\\site-packages (from kaggle->opendatasets) (1.16.0)\n",
      "Requirement already satisfied: requests in c:\\programdata\\anaconda3\\lib\\site-packages (from kaggle->opendatasets) (2.26.0)\n",
      "Requirement already satisfied: certifi in c:\\programdata\\anaconda3\\lib\\site-packages (from kaggle->opendatasets) (2021.10.8)\n",
      "Requirement already satisfied: urllib3 in c:\\programdata\\anaconda3\\lib\\site-packages (from kaggle->opendatasets) (1.26.7)\n",
      "Requirement already satisfied: python-dateutil in c:\\programdata\\anaconda3\\lib\\site-packages (from kaggle->opendatasets) (2.8.2)\n",
      "Requirement already satisfied: python-slugify in c:\\programdata\\anaconda3\\lib\\site-packages (from kaggle->opendatasets) (5.0.2)\n",
      "Requirement already satisfied: text-unidecode>=1.3 in c:\\programdata\\anaconda3\\lib\\site-packages (from python-slugify->kaggle->opendatasets) (1.3)\n",
      "Requirement already satisfied: idna<4,>=2.5 in c:\\programdata\\anaconda3\\lib\\site-packages (from requests->kaggle->opendatasets) (3.2)\n",
      "Requirement already satisfied: charset-normalizer~=2.0.0 in c:\\programdata\\anaconda3\\lib\\site-packages (from requests->kaggle->opendatasets) (2.0.4)\n"
     ]
    },
    {
     "name": "stderr",
     "output_type": "stream",
     "text": [
      "WARNING: Ignoring invalid distribution -nyio (c:\\programdata\\anaconda3\\lib\\site-packages)\n",
      "WARNING: Ignoring invalid distribution -nyio (c:\\programdata\\anaconda3\\lib\\site-packages)\n",
      "WARNING: Ignoring invalid distribution -nyio (c:\\programdata\\anaconda3\\lib\\site-packages)\n",
      "WARNING: Ignoring invalid distribution -nyio (c:\\programdata\\anaconda3\\lib\\site-packages)\n",
      "WARNING: Ignoring invalid distribution -nyio (c:\\programdata\\anaconda3\\lib\\site-packages)\n",
      "WARNING: Ignoring invalid distribution -nyio (c:\\programdata\\anaconda3\\lib\\site-packages)\n"
     ]
    }
   ],
   "source": [
    "!pip install opendatasets"
   ]
  },
  {
   "cell_type": "code",
   "execution_count": 2,
   "id": "658d46eb",
   "metadata": {},
   "outputs": [],
   "source": [
    "import opendatasets as od"
   ]
  },
  {
   "cell_type": "code",
   "execution_count": 3,
   "id": "4b0cabd5",
   "metadata": {},
   "outputs": [
    {
     "name": "stdout",
     "output_type": "stream",
     "text": [
      "Help on function download in module opendatasets:\n",
      "\n",
      "download(dataset_id_or_url, data_dir='.', force=False, dry_run=False, **kwargs)\n",
      "\n"
     ]
    }
   ],
   "source": [
    "help(od.download)"
   ]
  },
  {
   "cell_type": "code",
   "execution_count": 4,
   "id": "7e4264b0",
   "metadata": {},
   "outputs": [
    {
     "data": {
      "text/plain": [
       "['All Users', 'Default', 'Default User', 'desktop.ini', 'pooja', 'Public']"
      ]
     },
     "execution_count": 4,
     "metadata": {},
     "output_type": "execute_result"
    }
   ],
   "source": [
    "import os\n",
    "os.listdir(\"C://Users\")"
   ]
  },
  {
   "cell_type": "code",
   "execution_count": 5,
   "id": "404c5ed5",
   "metadata": {},
   "outputs": [],
   "source": [
    "dataset = 'https://www.kaggle.com/datasets/rsrishav/youtube-trending-video-dataset?select=IN_youtube_trending_data.csv'"
   ]
  },
  {
   "cell_type": "code",
   "execution_count": 6,
   "id": "953c30b6",
   "metadata": {},
   "outputs": [
    {
     "ename": "SyntaxError",
     "evalue": "(unicode error) 'unicodeescape' codec can't decode bytes in position 2-3: truncated \\UXXXXXXXX escape (Temp/ipykernel_7264/4036904024.py, line 1)",
     "output_type": "error",
     "traceback": [
      "\u001b[1;36m  File \u001b[1;32m\"C:\\Users\\pooja\\AppData\\Local\\Temp/ipykernel_7264/4036904024.py\"\u001b[1;36m, line \u001b[1;32m1\u001b[0m\n\u001b[1;33m    od.download(dataset, data_dir='C:\\Users\\pooja\\Downloads')\u001b[0m\n\u001b[1;37m                                                            ^\u001b[0m\n\u001b[1;31mSyntaxError\u001b[0m\u001b[1;31m:\u001b[0m (unicode error) 'unicodeescape' codec can't decode bytes in position 2-3: truncated \\UXXXXXXXX escape\n"
     ]
    }
   ],
   "source": [
    "od.download(dataset, data_dir='C:\\Users\\pooja\\Downloads')"
   ]
  },
  {
   "cell_type": "code",
   "execution_count": null,
   "id": "dda5b6b1",
   "metadata": {},
   "outputs": [],
   "source": [
    "import os"
   ]
  },
  {
   "cell_type": "code",
   "execution_count": null,
   "id": "e1594f89",
   "metadata": {},
   "outputs": [],
   "source": [
    "data_dir = '.\\youtube-trending-video-dataset'"
   ]
  },
  {
   "cell_type": "code",
   "execution_count": null,
   "id": "e57b456a",
   "metadata": {},
   "outputs": [],
   "source": [
    "os.listdir(data_dir)"
   ]
  },
  {
   "cell_type": "code",
   "execution_count": null,
   "id": "a52b4f34",
   "metadata": {},
   "outputs": [],
   "source": [
    "import pandas as pd"
   ]
  },
  {
   "cell_type": "code",
   "execution_count": null,
   "id": "9828b819",
   "metadata": {},
   "outputs": [],
   "source": [
    "life_df = pd.read_csv('IN_youtube_trending_data.csv')\n",
    "life_df"
   ]
  },
  {
   "cell_type": "code",
   "execution_count": null,
   "id": "1f7aeffc",
   "metadata": {},
   "outputs": [],
   "source": [
    "import pandas as pd\n",
    "import matplotlib.pyplot as plt\n",
    "import seaborn as sns"
   ]
  },
  {
   "cell_type": "code",
   "execution_count": null,
   "id": "bfeedeac",
   "metadata": {},
   "outputs": [],
   "source": [
    "data = pd.read_csv('C://Users//timbe//Downloads//IN_youtube_trending_data.csv')"
   ]
  },
  {
   "cell_type": "code",
   "execution_count": null,
   "id": "249d97da",
   "metadata": {
    "scrolled": true
   },
   "outputs": [],
   "source": [
    "data.shape"
   ]
  },
  {
   "cell_type": "code",
   "execution_count": null,
   "id": "68b209c3",
   "metadata": {},
   "outputs": [],
   "source": [
    "data.describe()"
   ]
  },
  {
   "cell_type": "code",
   "execution_count": null,
   "id": "2fdf0b7f",
   "metadata": {},
   "outputs": [],
   "source": [
    "data.head(3)"
   ]
  },
  {
   "cell_type": "code",
   "execution_count": null,
   "id": "a7978bab",
   "metadata": {},
   "outputs": [],
   "source": [
    "data.drop(['video_id', 'channelId'], axis = 1, inplace = True)"
   ]
  },
  {
   "cell_type": "code",
   "execution_count": null,
   "id": "548624c8",
   "metadata": {},
   "outputs": [],
   "source": [
    "data.head(3)"
   ]
  },
  {
   "cell_type": "code",
   "execution_count": null,
   "id": "74c69cdf",
   "metadata": {},
   "outputs": [],
   "source": [
    "# Checking null values\n",
    "data.isna().sum()"
   ]
  },
  {
   "cell_type": "code",
   "execution_count": null,
   "id": "62c013d1",
   "metadata": {},
   "outputs": [],
   "source": [
    "data.info()"
   ]
  },
  {
   "cell_type": "code",
   "execution_count": null,
   "id": "9a1285b0",
   "metadata": {},
   "outputs": [],
   "source": [
    "# Converting 'publishedAt' and 'trending_date' to datetime objects\n",
    "\n",
    "data['publishedAt'] = pd.to_datetime(data['publishedAt'])\n",
    "data['trending_date'] = pd.to_datetime(data['trending_date'])"
   ]
  },
  {
   "cell_type": "code",
   "execution_count": null,
   "id": "e20fb677",
   "metadata": {},
   "outputs": [],
   "source": [
    "# Validating the above changes\n",
    "\n",
    "data.dtypes[['publishedAt', 'trending_date']]"
   ]
  },
  {
   "cell_type": "code",
   "execution_count": null,
   "id": "ca88e34c",
   "metadata": {},
   "outputs": [],
   "source": [
    "# Getting new column 'daysTakenToTrend' which gives us the information about the number of days taken by the video to get into the trending videos\n",
    "\n",
    "data['daysTakenToTrend'] = (data['trending_date'] - data['publishedAt']).dt.days\n",
    "\n",
    "# Validating the above code\n",
    "\n",
    "data.head()"
   ]
  },
  {
   "cell_type": "code",
   "execution_count": null,
   "id": "75b79c4a",
   "metadata": {},
   "outputs": [],
   "source": [
    "sns.histplot(data['daysTakenToTrend'], kde = True, bins = 20)"
   ]
  },
  {
   "cell_type": "markdown",
   "id": "7c02b348",
   "metadata": {},
   "source": [
    "From the above plot, "
   ]
  },
  {
   "cell_type": "markdown",
   "id": "5c0756c9",
   "metadata": {},
   "source": [
    "## EDA"
   ]
  },
  {
   "cell_type": "code",
   "execution_count": null,
   "id": "52a277a0",
   "metadata": {},
   "outputs": [],
   "source": []
  }
 ],
 "metadata": {
  "kernelspec": {
   "display_name": "Python 3 (ipykernel)",
   "language": "python",
   "name": "python3"
  },
  "language_info": {
   "codemirror_mode": {
    "name": "ipython",
    "version": 3
   },
   "file_extension": ".py",
   "mimetype": "text/x-python",
   "name": "python",
   "nbconvert_exporter": "python",
   "pygments_lexer": "ipython3",
   "version": "3.9.7"
  }
 },
 "nbformat": 4,
 "nbformat_minor": 5
}
