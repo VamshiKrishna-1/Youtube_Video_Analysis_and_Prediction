{
 "cells": [
  {
   "cell_type": "code",
   "execution_count": 1,
   "id": "77296f8b",
   "metadata": {},
   "outputs": [
    {
     "name": "stdout",
     "output_type": "stream",
     "text": [
      "Requirement already satisfied: opendatasets in c:\\users\\timbe\\anaconda3\\lib\\site-packages (0.1.22)\n",
      "Requirement already satisfied: tqdm in c:\\users\\timbe\\anaconda3\\lib\\site-packages (from opendatasets) (4.64.1)\n",
      "Requirement already satisfied: kaggle in c:\\users\\timbe\\anaconda3\\lib\\site-packages (from opendatasets) (1.5.12)\n",
      "Requirement already satisfied: click in c:\\users\\timbe\\anaconda3\\lib\\site-packages (from opendatasets) (8.0.4)\n",
      "Requirement already satisfied: colorama in c:\\users\\timbe\\anaconda3\\lib\\site-packages (from click->opendatasets) (0.4.5)\n",
      "Requirement already satisfied: certifi in c:\\users\\timbe\\anaconda3\\lib\\site-packages (from kaggle->opendatasets) (2022.9.14)\n",
      "Requirement already satisfied: python-slugify in c:\\users\\timbe\\anaconda3\\lib\\site-packages (from kaggle->opendatasets) (5.0.2)\n",
      "Requirement already satisfied: python-dateutil in c:\\users\\timbe\\anaconda3\\lib\\site-packages (from kaggle->opendatasets) (2.8.2)\n",
      "Requirement already satisfied: requests in c:\\users\\timbe\\anaconda3\\lib\\site-packages (from kaggle->opendatasets) (2.28.1)\n",
      "Requirement already satisfied: urllib3 in c:\\users\\timbe\\anaconda3\\lib\\site-packages (from kaggle->opendatasets) (1.26.11)\n",
      "Requirement already satisfied: six>=1.10 in c:\\users\\timbe\\anaconda3\\lib\\site-packages (from kaggle->opendatasets) (1.16.0)\n",
      "Requirement already satisfied: text-unidecode>=1.3 in c:\\users\\timbe\\anaconda3\\lib\\site-packages (from python-slugify->kaggle->opendatasets) (1.3)\n",
      "Requirement already satisfied: idna<4,>=2.5 in c:\\users\\timbe\\anaconda3\\lib\\site-packages (from requests->kaggle->opendatasets) (3.3)\n",
      "Requirement already satisfied: charset-normalizer<3,>=2 in c:\\users\\timbe\\anaconda3\\lib\\site-packages (from requests->kaggle->opendatasets) (2.0.4)\n"
     ]
    }
   ],
   "source": [
    "!pip install opendatasets"
   ]
  },
  {
   "cell_type": "code",
   "execution_count": 2,
   "id": "7d6298e1",
   "metadata": {},
   "outputs": [],
   "source": [
    "import opendatasets as od\n",
    "import os\n",
    "import pandas as pd\n",
    "import matplotlib.pyplot as plt\n",
    "import seaborn as sns\n",
    "import json\n",
    "import warnings\n",
    "import numpy as np\n",
    "\n",
    "warnings.filterwarnings('ignore')"
   ]
  },
  {
   "cell_type": "code",
   "execution_count": 3,
   "id": "2a51d955",
   "metadata": {},
   "outputs": [],
   "source": [
    "dataset = 'https://www.kaggle.com/datasets/rsrishav/youtube-trending-video-dataset?select=IN_youtube_trending_data.csv'\n",
    "\n",
    "final_dir = '\\\\'.join(os.getcwd().split('\\\\')[:-1])"
   ]
  },
  {
   "cell_type": "code",
   "execution_count": 4,
   "id": "7b76e40e",
   "metadata": {},
   "outputs": [
    {
     "name": "stdout",
     "output_type": "stream",
     "text": [
      "Skipping, found downloaded files in \"C:\\Users\\timbe\\Final Project\\youtube-trending-video-dataset\" (use force=True to force download)\n"
     ]
    }
   ],
   "source": [
    "od.download(dataset, data_dir=final_dir)\n",
    "\n",
    "final_dir += '\\\\youtube-trending-video-dataset\\\\US_youtube_trending_data.csv'"
   ]
  },
  {
   "cell_type": "code",
   "execution_count": 5,
   "id": "afd454e3",
   "metadata": {},
   "outputs": [
    {
     "data": {
      "text/html": [
       "<div>\n",
       "<style scoped>\n",
       "    .dataframe tbody tr th:only-of-type {\n",
       "        vertical-align: middle;\n",
       "    }\n",
       "\n",
       "    .dataframe tbody tr th {\n",
       "        vertical-align: top;\n",
       "    }\n",
       "\n",
       "    .dataframe thead th {\n",
       "        text-align: right;\n",
       "    }\n",
       "</style>\n",
       "<table border=\"1\" class=\"dataframe\">\n",
       "  <thead>\n",
       "    <tr style=\"text-align: right;\">\n",
       "      <th></th>\n",
       "      <th>video_id</th>\n",
       "      <th>title</th>\n",
       "      <th>publishedAt</th>\n",
       "      <th>channelId</th>\n",
       "      <th>channelTitle</th>\n",
       "      <th>categoryId</th>\n",
       "      <th>trending_date</th>\n",
       "      <th>tags</th>\n",
       "      <th>view_count</th>\n",
       "      <th>likes</th>\n",
       "      <th>dislikes</th>\n",
       "      <th>comment_count</th>\n",
       "      <th>thumbnail_link</th>\n",
       "      <th>comments_disabled</th>\n",
       "      <th>ratings_disabled</th>\n",
       "      <th>description</th>\n",
       "    </tr>\n",
       "  </thead>\n",
       "  <tbody>\n",
       "    <tr>\n",
       "      <th>0</th>\n",
       "      <td>3C66w5Z0ixs</td>\n",
       "      <td>I ASKED HER TO BE MY GIRLFRIEND...</td>\n",
       "      <td>2020-08-11T19:20:14Z</td>\n",
       "      <td>UCvtRTOMP2TqYqu51xNrqAzg</td>\n",
       "      <td>Brawadis</td>\n",
       "      <td>22</td>\n",
       "      <td>2020-08-12T00:00:00Z</td>\n",
       "      <td>brawadis|prank|basketball|skits|ghost|funny vi...</td>\n",
       "      <td>1514614</td>\n",
       "      <td>156908</td>\n",
       "      <td>5855</td>\n",
       "      <td>35313</td>\n",
       "      <td>https://i.ytimg.com/vi/3C66w5Z0ixs/default.jpg</td>\n",
       "      <td>False</td>\n",
       "      <td>False</td>\n",
       "      <td>SUBSCRIBE to BRAWADIS ▶ http://bit.ly/Subscrib...</td>\n",
       "    </tr>\n",
       "    <tr>\n",
       "      <th>1</th>\n",
       "      <td>M9Pmf9AB4Mo</td>\n",
       "      <td>Apex Legends | Stories from the Outlands – “Th...</td>\n",
       "      <td>2020-08-11T17:00:10Z</td>\n",
       "      <td>UC0ZV6M2THA81QT9hrVWJG3A</td>\n",
       "      <td>Apex Legends</td>\n",
       "      <td>20</td>\n",
       "      <td>2020-08-12T00:00:00Z</td>\n",
       "      <td>Apex Legends|Apex Legends characters|new Apex ...</td>\n",
       "      <td>2381688</td>\n",
       "      <td>146739</td>\n",
       "      <td>2794</td>\n",
       "      <td>16549</td>\n",
       "      <td>https://i.ytimg.com/vi/M9Pmf9AB4Mo/default.jpg</td>\n",
       "      <td>False</td>\n",
       "      <td>False</td>\n",
       "      <td>While running her own modding shop, Ramya Pare...</td>\n",
       "    </tr>\n",
       "    <tr>\n",
       "      <th>2</th>\n",
       "      <td>J78aPJ3VyNs</td>\n",
       "      <td>I left youtube for a month and THIS is what ha...</td>\n",
       "      <td>2020-08-11T16:34:06Z</td>\n",
       "      <td>UCYzPXprvl5Y-Sf0g4vX-m6g</td>\n",
       "      <td>jacksepticeye</td>\n",
       "      <td>24</td>\n",
       "      <td>2020-08-12T00:00:00Z</td>\n",
       "      <td>jacksepticeye|funny|funny meme|memes|jacksepti...</td>\n",
       "      <td>2038853</td>\n",
       "      <td>353787</td>\n",
       "      <td>2628</td>\n",
       "      <td>40221</td>\n",
       "      <td>https://i.ytimg.com/vi/J78aPJ3VyNs/default.jpg</td>\n",
       "      <td>False</td>\n",
       "      <td>False</td>\n",
       "      <td>I left youtube for a month and this is what ha...</td>\n",
       "    </tr>\n",
       "  </tbody>\n",
       "</table>\n",
       "</div>"
      ],
      "text/plain": [
       "      video_id                                              title  \\\n",
       "0  3C66w5Z0ixs                 I ASKED HER TO BE MY GIRLFRIEND...   \n",
       "1  M9Pmf9AB4Mo  Apex Legends | Stories from the Outlands – “Th...   \n",
       "2  J78aPJ3VyNs  I left youtube for a month and THIS is what ha...   \n",
       "\n",
       "            publishedAt                 channelId   channelTitle  categoryId  \\\n",
       "0  2020-08-11T19:20:14Z  UCvtRTOMP2TqYqu51xNrqAzg       Brawadis          22   \n",
       "1  2020-08-11T17:00:10Z  UC0ZV6M2THA81QT9hrVWJG3A   Apex Legends          20   \n",
       "2  2020-08-11T16:34:06Z  UCYzPXprvl5Y-Sf0g4vX-m6g  jacksepticeye          24   \n",
       "\n",
       "          trending_date                                               tags  \\\n",
       "0  2020-08-12T00:00:00Z  brawadis|prank|basketball|skits|ghost|funny vi...   \n",
       "1  2020-08-12T00:00:00Z  Apex Legends|Apex Legends characters|new Apex ...   \n",
       "2  2020-08-12T00:00:00Z  jacksepticeye|funny|funny meme|memes|jacksepti...   \n",
       "\n",
       "   view_count   likes  dislikes  comment_count  \\\n",
       "0     1514614  156908      5855          35313   \n",
       "1     2381688  146739      2794          16549   \n",
       "2     2038853  353787      2628          40221   \n",
       "\n",
       "                                   thumbnail_link  comments_disabled  \\\n",
       "0  https://i.ytimg.com/vi/3C66w5Z0ixs/default.jpg              False   \n",
       "1  https://i.ytimg.com/vi/M9Pmf9AB4Mo/default.jpg              False   \n",
       "2  https://i.ytimg.com/vi/J78aPJ3VyNs/default.jpg              False   \n",
       "\n",
       "   ratings_disabled                                        description  \n",
       "0             False  SUBSCRIBE to BRAWADIS ▶ http://bit.ly/Subscrib...  \n",
       "1             False  While running her own modding shop, Ramya Pare...  \n",
       "2             False  I left youtube for a month and this is what ha...  "
      ]
     },
     "execution_count": 5,
     "metadata": {},
     "output_type": "execute_result"
    }
   ],
   "source": [
    "data = pd.read_csv(final_dir)\n",
    "\n",
    "data.head(3)"
   ]
  },
  {
   "cell_type": "code",
   "execution_count": 6,
   "id": "88d1c708",
   "metadata": {},
   "outputs": [],
   "source": [
    "with open('VideoIDs.txt', 'w') as fp:\n",
    "    fp.write(\",\".join(data['video_id']))"
   ]
  },
  {
   "cell_type": "code",
   "execution_count": 7,
   "id": "29edbd8b-a57b-4c90-95e7-be8d4d822d44",
   "metadata": {},
   "outputs": [
    {
     "data": {
      "text/plain": [
       "(185990, 16)"
      ]
     },
     "execution_count": 7,
     "metadata": {},
     "output_type": "execute_result"
    }
   ],
   "source": [
    "data.shape"
   ]
  },
  {
   "cell_type": "code",
   "execution_count": 12,
   "id": "2d8a3a8c-58d4-4dcd-9c7b-15c657745ee7",
   "metadata": {},
   "outputs": [
    {
     "data": {
      "text/plain": [
       "838     2020-08-14T20:30:00Z\n",
       "1073    2020-08-14T20:30:00Z\n",
       "1315    2020-08-14T20:30:00Z\n",
       "1555    2020-08-14T20:30:00Z\n",
       "1791    2020-08-14T20:30:00Z\n",
       "Name: publishedAt, dtype: object"
      ]
     },
     "execution_count": 12,
     "metadata": {},
     "output_type": "execute_result"
    }
   ],
   "source": [
    "data[data['video_id'] == \"KOIgb6lQ1JY\"][\"publishedAt\"]"
   ]
  },
  {
   "cell_type": "code",
   "execution_count": null,
   "id": "dd8d016a",
   "metadata": {},
   "outputs": [],
   "source": [
    "data['video_id'][:2].to_list()*100"
   ]
  },
  {
   "cell_type": "code",
   "execution_count": null,
   "id": "249d97da",
   "metadata": {},
   "outputs": [],
   "source": [
    "# Checking the shape of the DataFrame\n",
    "data.shape"
   ]
  },
  {
   "cell_type": "code",
   "execution_count": null,
   "id": "a7978bab",
   "metadata": {},
   "outputs": [],
   "source": [
    "# Dropping ID columns as they are not necessary for the analysis and prediction\n",
    "\n",
    "data.drop(['video_id', 'channelId'], axis = 1, inplace = True)\n",
    "\n",
    "# Validating the above code\n",
    "\n",
    "data.head(3)"
   ]
  },
  {
   "cell_type": "code",
   "execution_count": null,
   "id": "74c69cdf",
   "metadata": {
    "scrolled": true
   },
   "outputs": [],
   "source": [
    "# Checking null values\n",
    "\n",
    "def null_values(df):\n",
    "    temp = df.isna().sum()\n",
    "    temp_1 = round(temp * 100 / df.shape[0], 2)\n",
    "    \n",
    "    return pd.DataFrame((temp, temp_1), index = ['Count', 'Percentage']).T.sort_values('Count', ascending = False)\n",
    "\n",
    "\n",
    "null_values(data)"
   ]
  },
  {
   "cell_type": "markdown",
   "id": "9e26903b",
   "metadata": {},
   "source": [
    "We can see that there are around 10% missing values in `description` column and only 1 missing value in `channelTitle` column.\n",
    "- We shall keep the `description` column as it is while analysis and do the null value treatment during model building.\n",
    "- We shall delete one row from which has the null value in `channelTitle` column."
   ]
  },
  {
   "cell_type": "code",
   "execution_count": null,
   "id": "8b237533",
   "metadata": {},
   "outputs": [],
   "source": [
    "# Deleting one row where there is null value in 'channelTitle' column\n",
    "\n",
    "data.dropna(subset = ['channelTitle'], how = 'any', inplace = True)\n",
    "\n",
    "# Validating the above code\n",
    "\n",
    "null_values(data).loc['channelTitle',:]"
   ]
  },
  {
   "cell_type": "code",
   "execution_count": null,
   "id": "62c013d1",
   "metadata": {},
   "outputs": [],
   "source": [
    "# Let's check the datatypes of each column in DataFrame\n",
    "\n",
    "data.dtypes"
   ]
  },
  {
   "cell_type": "markdown",
   "id": "e46f0419",
   "metadata": {},
   "source": [
    "- `publishedAt`, `trending_date` are object type. Let's convert it to Datetime format."
   ]
  },
  {
   "cell_type": "code",
   "execution_count": null,
   "id": "9a1285b0",
   "metadata": {},
   "outputs": [],
   "source": [
    "# Converting 'publishedAt' and 'trending_date' to datetime objects\n",
    "\n",
    "data['publishedAt'] = pd.to_datetime(data['publishedAt'])\n",
    "data['trending_date'] = pd.to_datetime(data['trending_date'])\n",
    "\n",
    "# Validating the above changes\n",
    "\n",
    "data.dtypes[['publishedAt', 'trending_date']]"
   ]
  },
  {
   "cell_type": "code",
   "execution_count": null,
   "id": "ca88e34c",
   "metadata": {},
   "outputs": [],
   "source": [
    "# Getting new column 'daysTakenToTrend' which gives us the information about the number of days taken by the video to get into the trending videos\n",
    "\n",
    "data['daysTakenToTrend'] = (data['trending_date'] - data['publishedAt']).dt.days\n",
    "\n",
    "# Validating the above code\n",
    "\n",
    "data.head(3)"
   ]
  },
  {
   "cell_type": "code",
   "execution_count": null,
   "id": "852d213d",
   "metadata": {},
   "outputs": [],
   "source": [
    "data['categoryId'].unique()"
   ]
  },
  {
   "cell_type": "markdown",
   "id": "6741d36a",
   "metadata": {},
   "source": [
    "We can see that `categoryId` column has id's of repective categories. We can access the description of categoryId from the `US_category_id.json` file."
   ]
  },
  {
   "cell_type": "code",
   "execution_count": null,
   "id": "5eadd0e7",
   "metadata": {},
   "outputs": [],
   "source": [
    "# Let's import US_category_id.json file and map the category id's respectively\n",
    "\n",
    "category_path = '\\\\'.join(final_dir.split('\\\\')[:-1]) + '\\\\US_category_id.json'\n",
    "\n",
    "\n",
    "# Creating a dictionary object which stores the category id and its respective category\n",
    "category_dict = {}\n",
    "\n",
    "with open(category_path, 'r') as file:\n",
    "    json_data = json.load(file)\n",
    "    for item in json_data['items']:\n",
    "        category_dict[int(item['id'])] = item['snippet']['title']\n",
    "    \n",
    "data['categoryId'] = data['categoryId'].apply(lambda x: category_dict[x])\n",
    "\n",
    "# Validating the above code\n",
    "data['categoryId'].head()"
   ]
  },
  {
   "cell_type": "markdown",
   "id": "88f70ef6",
   "metadata": {},
   "source": [
    "<b> Note: </b>\n",
    "- Although we were using IN data for analysis. The `IN_category_id.json` was missing some data.\n",
    "- Upon research, we found out that the `id` and `title` are same irrespective of the country.\n",
    "- Hence, we have used `US_category_id.json` in the above case."
   ]
  },
  {
   "cell_type": "code",
   "execution_count": null,
   "id": "6fd0e7f6",
   "metadata": {},
   "outputs": [],
   "source": [
    "# Checking the Dataframe after the changes\n",
    "\n",
    "data.head()"
   ]
  },
  {
   "cell_type": "code",
   "execution_count": null,
   "id": "48852f6e",
   "metadata": {},
   "outputs": [],
   "source": [
    "# Let's plot a Boxplot for 'daysTakenToTrend' column\n",
    "\n",
    "sns.boxplot(data['daysTakenToTrend'])\n",
    "plt.show()"
   ]
  },
  {
   "cell_type": "markdown",
   "id": "e1b61280",
   "metadata": {},
   "source": [
    "There are some values less than 0. It is impossible for a video to trend before it was published."
   ]
  },
  {
   "cell_type": "code",
   "execution_count": null,
   "id": "59274382",
   "metadata": {
    "scrolled": true
   },
   "outputs": [],
   "source": [
    "data[data['daysTakenToTrend'] < 0]['daysTakenToTrend'].plot.hist()"
   ]
  },
  {
   "cell_type": "markdown",
   "id": "6a54abe2",
   "metadata": {},
   "source": [
    "However, we can see that the negative days do no exceed -1.0. This might be because of some server lag or timezone difference. Let's conver those negative days to 0."
   ]
  },
  {
   "cell_type": "code",
   "execution_count": null,
   "id": "16f00759",
   "metadata": {},
   "outputs": [],
   "source": [
    "# Converting negative days in 'daysTakenToTrend' column to 0\n",
    "\n",
    "data['daysTakenToTrend'] = data['daysTakenToTrend'].apply(lambda x: x if x>0 else 0)"
   ]
  },
  {
   "cell_type": "code",
   "execution_count": null,
   "id": "a4f878c3",
   "metadata": {
    "scrolled": true
   },
   "outputs": [],
   "source": [
    "# Plotting boxplot after the changes\n",
    "\n",
    "sns.boxplot(data['daysTakenToTrend'])\n",
    "plt.show()"
   ]
  },
  {
   "cell_type": "code",
   "execution_count": null,
   "id": "e246a640",
   "metadata": {},
   "outputs": [],
   "source": [
    "data['tagCount'] = data['tags'].apply(lambda x: 0 if type(x) == float else len(list(x.split('|'))))"
   ]
  },
  {
   "cell_type": "code",
   "execution_count": null,
   "id": "12f195d4",
   "metadata": {},
   "outputs": [],
   "source": [
    "plt.figure(figsize = (10, 5))\n",
    "sns.histplot(data['tagCount'], kde = True)\n",
    "plt.show()"
   ]
  },
  {
   "cell_type": "code",
   "execution_count": null,
   "id": "7bcb169c",
   "metadata": {},
   "outputs": [],
   "source": [
    "# Let's check the correlation between the numerical columns\n",
    "\n",
    "plt.figure(figsize = (10, 8))\n",
    "sns.heatmap(data[['view_count', 'likes', 'dislikes', 'comment_count', 'daysTakenToTrend', 'tagCount']].corr(), linewidths=.5, annot=True, cmap='coolwarm')\n",
    "plt.show()"
   ]
  },
  {
   "cell_type": "markdown",
   "id": "477e3748",
   "metadata": {},
   "source": [
    "- `view_count` and `likes` are highly correlated. It is more likely that the video with more views has more likes.\n",
    "- `comment_count` and `likes` are relatively highly correlated when compared to `comment_count` and `views`.\n",
    "- `daysTakenToTrend` is not correlated to any feature. Which is interesting as it is impossible to correlate how many days the video will take to trend based on comment_count or dislikes or likes or view_count."
   ]
  },
  {
   "cell_type": "code",
   "execution_count": null,
   "id": "57d02477",
   "metadata": {},
   "outputs": [],
   "source": [
    "######################### likes per view"
   ]
  },
  {
   "cell_type": "code",
   "execution_count": null,
   "id": "a0ae50dc",
   "metadata": {},
   "outputs": [],
   "source": [
    "# Checking number of videos based on each Category\n",
    "\n",
    "plt.figure(figsize = (10, 4))\n",
    "sns.countplot(data['categoryId'], order = data['categoryId'].value_counts().sort_values(ascending = False).index)\n",
    "plt.xticks(rotation = 90)\n",
    "plt.show()"
   ]
  },
  {
   "cell_type": "markdown",
   "id": "ac88407a",
   "metadata": {},
   "source": [
    "There are more `Entertainment` videos and least type is `Nonprofits & Activism`"
   ]
  },
  {
   "cell_type": "code",
   "execution_count": null,
   "id": "c9e173a7",
   "metadata": {},
   "outputs": [],
   "source": [
    "plt.figure(figsize = (10, 6))\n",
    "sns.barplot(data = data, x = 'categoryId', y = 'likes',\n",
    "            order = data.groupby('categoryId')['likes'].mean().sort_values(ascending = False).index, ci = 0)\n",
    "\n",
    "plt.xticks(rotation = 90)\n",
    "plt.show()"
   ]
  },
  {
   "cell_type": "markdown",
   "id": "3e36e3b5",
   "metadata": {},
   "source": [
    "- `Pets & Animals` videos has most average likes and `New & Policts` videos has least average likes."
   ]
  },
  {
   "cell_type": "code",
   "execution_count": null,
   "id": "9358dfc4",
   "metadata": {},
   "outputs": [],
   "source": [
    "plt.figure(figsize = (10, 6))\n",
    "sns.barplot(data = data, x = 'categoryId', y = 'comment_count',\n",
    "            order = data.groupby('categoryId')['comment_count'].mean().sort_values(ascending = False).index, ci = 0)\n",
    "\n",
    "plt.xticks(rotation = 90)\n",
    "plt.show()"
   ]
  },
  {
   "cell_type": "markdown",
   "id": "9483b68e",
   "metadata": {},
   "source": [
    "`Music` videos has most average comment count and `Nonprofits & Activism` has least average comment count."
   ]
  },
  {
   "cell_type": "code",
   "execution_count": null,
   "id": "a37d9e8d",
   "metadata": {},
   "outputs": [],
   "source": [
    "plt.figure(figsize = (10, 6))\n",
    "sns.barplot(data = data, x = 'categoryId', y = 'daysTakenToTrend',\n",
    "            order = data.groupby('categoryId')['daysTakenToTrend'].mean().sort_values(ascending = False).index, ci = 0)\n",
    "\n",
    "plt.xticks(rotation = 90)\n",
    "plt.show()"
   ]
  },
  {
   "cell_type": "markdown",
   "id": "6a2d9e2d",
   "metadata": {},
   "source": [
    "It is interesting to note that `News & Politics` videos take less time to trend and `Music`, `Comedy` and `Pets & Animals` videos take more time to trend."
   ]
  },
  {
   "cell_type": "code",
   "execution_count": null,
   "id": "0ad6243d",
   "metadata": {},
   "outputs": [],
   "source": [
    "sns.countplot(data['comments_disabled'])\n",
    "plt.show()"
   ]
  },
  {
   "cell_type": "code",
   "execution_count": null,
   "id": "5669513f",
   "metadata": {},
   "outputs": [],
   "source": [
    "plt.figure(figsize = (10, 5))\n",
    "sns.countplot(data[data['ratings_disabled'] == True]['categoryId'], \n",
    "              order = data[data['ratings_disabled'] == True].groupby('categoryId')['ratings_disabled'].count().sort_values(ascending = False).index)\n",
    "plt.xticks(rotation = 90)\n",
    "plt.show()"
   ]
  },
  {
   "cell_type": "code",
   "execution_count": null,
   "id": "3b1812ae",
   "metadata": {},
   "outputs": [],
   "source": [
    "plt.figure(figsize = (10, 5))\n",
    "sns.countplot(data[data['tags'] == '[None]']['categoryId'], \n",
    "              order = data[data['tags'] == '[None]'].groupby('categoryId')['ratings_disabled'].count().sort_values(ascending = False).index)\n",
    "plt.xticks(rotation = 90)\n",
    "plt.show()"
   ]
  },
  {
   "cell_type": "code",
   "execution_count": null,
   "id": "f82e727d",
   "metadata": {},
   "outputs": [],
   "source": [
    "# Let's extract weekday from the trendingdate\n",
    "data['day'] = data['trending_date'].dt.day_name()"
   ]
  },
  {
   "cell_type": "code",
   "execution_count": null,
   "id": "a9a2fbd7",
   "metadata": {},
   "outputs": [],
   "source": [
    "# Let's plot number of trending videos for each day of the week\n",
    "sns.countplot(data['day'])\n",
    "plt.show()"
   ]
  },
  {
   "cell_type": "code",
   "execution_count": null,
   "id": "3cc1bf60",
   "metadata": {},
   "outputs": [],
   "source": [
    "plt.figure(figsize = (15,4))\n",
    "sns.countplot(data = data, x = 'categoryId', hue = 'day')"
   ]
  },
  {
   "cell_type": "code",
   "execution_count": null,
   "id": "e4af3994",
   "metadata": {},
   "outputs": [],
   "source": [
    "(data.groupby('categoryId')['daysTakenToTrend'].var().sort_values()).plot.bar()"
   ]
  },
  {
   "cell_type": "code",
   "execution_count": null,
   "id": "6cd10b95",
   "metadata": {},
   "outputs": [],
   "source": [
    "data['like/dislike ratio'] = round(data['likes']/data['dislikes'], 2)"
   ]
  },
  {
   "cell_type": "code",
   "execution_count": null,
   "id": "91a2db89",
   "metadata": {},
   "outputs": [],
   "source": [
    "plt.figure(figsize = (8, 10))\n",
    "sns.histplot(data = data, x = 'like/dislike ratio', y = 'categoryId')"
   ]
  },
  {
   "cell_type": "code",
   "execution_count": null,
   "id": "a0524158",
   "metadata": {},
   "outputs": [],
   "source": [
    "sns.boxplot(data = data, x = 'daysTakenToTrend', y = 'categoryId')"
   ]
  },
  {
   "cell_type": "code",
   "execution_count": null,
   "id": "b0c5b91b",
   "metadata": {},
   "outputs": [],
   "source": []
  },
  {
   "cell_type": "code",
   "execution_count": null,
   "id": "1296684f",
   "metadata": {},
   "outputs": [],
   "source": []
  }
 ],
 "metadata": {
  "kernelspec": {
   "display_name": "Python 3 (ipykernel)",
   "language": "python",
   "name": "python3"
  },
  "language_info": {
   "codemirror_mode": {
    "name": "ipython",
    "version": 3
   },
   "file_extension": ".py",
   "mimetype": "text/x-python",
   "name": "python",
   "nbconvert_exporter": "python",
   "pygments_lexer": "ipython3",
   "version": "3.9.13"
  }
 },
 "nbformat": 4,
 "nbformat_minor": 5
}
