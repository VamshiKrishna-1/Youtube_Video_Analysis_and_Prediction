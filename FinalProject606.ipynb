{
 "cells": [
  {
   "cell_type": "markdown",
   "id": "284fe48e",
   "metadata": {},
   "source": [
    "### Importing necessary libraries"
   ]
  },
  {
   "cell_type": "code",
   "execution_count": 1,
   "id": "bdb5da19",
   "metadata": {},
   "outputs": [
    {
     "name": "stdout",
     "output_type": "stream",
     "text": [
      "Collecting wordcloud\n",
      "  Using cached wordcloud-1.8.2.2.tar.gz (220 kB)\n",
      "  Preparing metadata (setup.py): started\n",
      "  Preparing metadata (setup.py): finished with status 'done'\n",
      "Requirement already satisfied: numpy>=1.6.1 in c:\\users\\timbe\\appdata\\local\\programs\\python\\python311\\lib\\site-packages (from wordcloud) (1.23.5)\n",
      "Requirement already satisfied: pillow in c:\\users\\timbe\\appdata\\local\\programs\\python\\python311\\lib\\site-packages (from wordcloud) (9.4.0)\n",
      "Requirement already satisfied: matplotlib in c:\\users\\timbe\\appdata\\local\\programs\\python\\python311\\lib\\site-packages (from wordcloud) (3.7.1)\n",
      "Requirement already satisfied: contourpy>=1.0.1 in c:\\users\\timbe\\appdata\\local\\programs\\python\\python311\\lib\\site-packages (from matplotlib->wordcloud) (1.0.7)\n",
      "Requirement already satisfied: cycler>=0.10 in c:\\users\\timbe\\appdata\\local\\programs\\python\\python311\\lib\\site-packages (from matplotlib->wordcloud) (0.11.0)\n",
      "Requirement already satisfied: fonttools>=4.22.0 in c:\\users\\timbe\\appdata\\local\\programs\\python\\python311\\lib\\site-packages (from matplotlib->wordcloud) (4.39.2)\n",
      "Requirement already satisfied: kiwisolver>=1.0.1 in c:\\users\\timbe\\appdata\\local\\programs\\python\\python311\\lib\\site-packages (from matplotlib->wordcloud) (1.4.4)\n",
      "Requirement already satisfied: packaging>=20.0 in c:\\users\\timbe\\appdata\\local\\programs\\python\\python311\\lib\\site-packages (from matplotlib->wordcloud) (23.0)\n",
      "Requirement already satisfied: pyparsing>=2.3.1 in c:\\users\\timbe\\appdata\\local\\programs\\python\\python311\\lib\\site-packages (from matplotlib->wordcloud) (3.0.9)\n",
      "Requirement already satisfied: python-dateutil>=2.7 in c:\\users\\timbe\\appdata\\local\\programs\\python\\python311\\lib\\site-packages (from matplotlib->wordcloud) (2.8.2)\n",
      "Requirement already satisfied: six>=1.5 in c:\\users\\timbe\\appdata\\local\\programs\\python\\python311\\lib\\site-packages (from python-dateutil>=2.7->matplotlib->wordcloud) (1.16.0)\n",
      "Building wheels for collected packages: wordcloud\n",
      "  Building wheel for wordcloud (setup.py): started\n",
      "  Building wheel for wordcloud (setup.py): finished with status 'error'\n",
      "  Running setup.py clean for wordcloud\n",
      "Failed to build wordcloud\n",
      "Installing collected packages: wordcloud\n",
      "  Running setup.py install for wordcloud: started\n",
      "  Running setup.py install for wordcloud: finished with status 'error'\n"
     ]
    },
    {
     "name": "stderr",
     "output_type": "stream",
     "text": [
      "  error: subprocess-exited-with-error\n",
      "  \n",
      "  python setup.py bdist_wheel did not run successfully.\n",
      "  exit code: 1\n",
      "  \n",
      "  [20 lines of output]\n",
      "  running bdist_wheel\n",
      "  running build\n",
      "  running build_py\n",
      "  creating build\n",
      "  creating build\\lib.win-amd64-cpython-311\n",
      "  creating build\\lib.win-amd64-cpython-311\\wordcloud\n",
      "  copying wordcloud\\color_from_image.py -> build\\lib.win-amd64-cpython-311\\wordcloud\n",
      "  copying wordcloud\\tokenization.py -> build\\lib.win-amd64-cpython-311\\wordcloud\n",
      "  copying wordcloud\\wordcloud.py -> build\\lib.win-amd64-cpython-311\\wordcloud\n",
      "  copying wordcloud\\wordcloud_cli.py -> build\\lib.win-amd64-cpython-311\\wordcloud\n",
      "  copying wordcloud\\_version.py -> build\\lib.win-amd64-cpython-311\\wordcloud\n",
      "  copying wordcloud\\__init__.py -> build\\lib.win-amd64-cpython-311\\wordcloud\n",
      "  copying wordcloud\\__main__.py -> build\\lib.win-amd64-cpython-311\\wordcloud\n",
      "  copying wordcloud\\stopwords -> build\\lib.win-amd64-cpython-311\\wordcloud\n",
      "  copying wordcloud\\DroidSansMono.ttf -> build\\lib.win-amd64-cpython-311\\wordcloud\n",
      "  UPDATING build\\lib.win-amd64-cpython-311\\wordcloud/_version.py\n",
      "  set build\\lib.win-amd64-cpython-311\\wordcloud/_version.py to '1.8.2.2'\n",
      "  running build_ext\n",
      "  building 'wordcloud.query_integral_image' extension\n",
      "  error: Microsoft Visual C++ 14.0 or greater is required. Get it with \"Microsoft C++ Build Tools\": https://visualstudio.microsoft.com/visual-cpp-build-tools/\n",
      "  [end of output]\n",
      "  \n",
      "  note: This error originates from a subprocess, and is likely not a problem with pip.\n",
      "  ERROR: Failed building wheel for wordcloud\n",
      "  error: subprocess-exited-with-error\n",
      "  \n",
      "  Running setup.py install for wordcloud did not run successfully.\n",
      "  exit code: 1\n",
      "  \n",
      "  [22 lines of output]\n",
      "  running install\n",
      "  C:\\Users\\timbe\\AppData\\Local\\Programs\\Python\\Python311\\Lib\\site-packages\\setuptools\\command\\install.py:34: SetuptoolsDeprecationWarning: setup.py install is deprecated. Use build and pip and other standards-based tools.\n",
      "    warnings.warn(\n",
      "  running build\n",
      "  running build_py\n",
      "  creating build\n",
      "  creating build\\lib.win-amd64-cpython-311\n",
      "  creating build\\lib.win-amd64-cpython-311\\wordcloud\n",
      "  copying wordcloud\\color_from_image.py -> build\\lib.win-amd64-cpython-311\\wordcloud\n",
      "  copying wordcloud\\tokenization.py -> build\\lib.win-amd64-cpython-311\\wordcloud\n",
      "  copying wordcloud\\wordcloud.py -> build\\lib.win-amd64-cpython-311\\wordcloud\n",
      "  copying wordcloud\\wordcloud_cli.py -> build\\lib.win-amd64-cpython-311\\wordcloud\n",
      "  copying wordcloud\\_version.py -> build\\lib.win-amd64-cpython-311\\wordcloud\n",
      "  copying wordcloud\\__init__.py -> build\\lib.win-amd64-cpython-311\\wordcloud\n",
      "  copying wordcloud\\__main__.py -> build\\lib.win-amd64-cpython-311\\wordcloud\n",
      "  copying wordcloud\\stopwords -> build\\lib.win-amd64-cpython-311\\wordcloud\n",
      "  copying wordcloud\\DroidSansMono.ttf -> build\\lib.win-amd64-cpython-311\\wordcloud\n",
      "  UPDATING build\\lib.win-amd64-cpython-311\\wordcloud/_version.py\n",
      "  set build\\lib.win-amd64-cpython-311\\wordcloud/_version.py to '1.8.2.2'\n",
      "  running build_ext\n",
      "  building 'wordcloud.query_integral_image' extension\n",
      "  error: Microsoft Visual C++ 14.0 or greater is required. Get it with \"Microsoft C++ Build Tools\": https://visualstudio.microsoft.com/visual-cpp-build-tools/\n",
      "  [end of output]\n",
      "  \n",
      "  note: This error originates from a subprocess, and is likely not a problem with pip.\n",
      "error: legacy-install-failure\n",
      "\n",
      "Encountered error while trying to install package.\n",
      "\n",
      "wordcloud\n",
      "\n",
      "note: This is an issue with the package mentioned above, not pip.\n",
      "hint: See above for output from the failure.\n"
     ]
    }
   ],
   "source": [
    "!pip install wordcloud"
   ]
  },
  {
   "cell_type": "code",
   "execution_count": 2,
   "id": "6daace5b",
   "metadata": {
    "scrolled": true
   },
   "outputs": [
    {
     "name": "stdout",
     "output_type": "stream",
     "text": [
      "Requirement already satisfied: opendatasets in c:\\users\\timbe\\appdata\\local\\programs\\python\\python311\\lib\\site-packages (0.1.22)\n",
      "Requirement already satisfied: tqdm in c:\\users\\timbe\\appdata\\local\\programs\\python\\python311\\lib\\site-packages (from opendatasets) (4.65.0)\n",
      "Requirement already satisfied: kaggle in c:\\users\\timbe\\appdata\\local\\programs\\python\\python311\\lib\\site-packages (from opendatasets) (1.5.13)\n",
      "Requirement already satisfied: click in c:\\users\\timbe\\appdata\\local\\programs\\python\\python311\\lib\\site-packages (from opendatasets) (8.1.3)\n",
      "Requirement already satisfied: colorama in c:\\users\\timbe\\appdata\\local\\programs\\python\\python311\\lib\\site-packages (from click->opendatasets) (0.4.6)\n",
      "Requirement already satisfied: six>=1.10 in c:\\users\\timbe\\appdata\\local\\programs\\python\\python311\\lib\\site-packages (from kaggle->opendatasets) (1.16.0)\n",
      "Requirement already satisfied: certifi in c:\\users\\timbe\\appdata\\local\\programs\\python\\python311\\lib\\site-packages (from kaggle->opendatasets) (2022.12.7)\n",
      "Requirement already satisfied: python-dateutil in c:\\users\\timbe\\appdata\\local\\programs\\python\\python311\\lib\\site-packages (from kaggle->opendatasets) (2.8.2)\n",
      "Requirement already satisfied: requests in c:\\users\\timbe\\appdata\\local\\programs\\python\\python311\\lib\\site-packages (from kaggle->opendatasets) (2.28.2)\n",
      "Requirement already satisfied: python-slugify in c:\\users\\timbe\\appdata\\local\\programs\\python\\python311\\lib\\site-packages (from kaggle->opendatasets) (8.0.1)\n",
      "Requirement already satisfied: urllib3 in c:\\users\\timbe\\appdata\\local\\programs\\python\\python311\\lib\\site-packages (from kaggle->opendatasets) (1.26.15)\n",
      "Requirement already satisfied: text-unidecode>=1.3 in c:\\users\\timbe\\appdata\\local\\programs\\python\\python311\\lib\\site-packages (from python-slugify->kaggle->opendatasets) (1.3)\n",
      "Requirement already satisfied: charset-normalizer<4,>=2 in c:\\users\\timbe\\appdata\\local\\programs\\python\\python311\\lib\\site-packages (from requests->kaggle->opendatasets) (3.1.0)\n",
      "Requirement already satisfied: idna<4,>=2.5 in c:\\users\\timbe\\appdata\\local\\programs\\python\\python311\\lib\\site-packages (from requests->kaggle->opendatasets) (3.4)\n"
     ]
    }
   ],
   "source": [
    "!pip install opendatasets"
   ]
  },
  {
   "cell_type": "code",
   "execution_count": 3,
   "id": "da558223",
   "metadata": {},
   "outputs": [
    {
     "name": "stdout",
     "output_type": "stream",
     "text": [
      "Requirement already satisfied: google-api-python-client in c:\\users\\timbe\\appdata\\local\\programs\\python\\python311\\lib\\site-packages (2.83.0)\n",
      "Collecting google-api-python-client\n",
      "  Downloading google_api_python_client-2.85.0-py2.py3-none-any.whl (11.2 MB)\n",
      "     --------------------------------------- 11.2/11.2 MB 50.4 MB/s eta 0:00:00\n",
      "Requirement already satisfied: httplib2<1dev,>=0.15.0 in c:\\users\\timbe\\appdata\\local\\programs\\python\\python311\\lib\\site-packages (from google-api-python-client) (0.22.0)\n",
      "Requirement already satisfied: google-auth<3.0.0dev,>=1.19.0 in c:\\users\\timbe\\appdata\\local\\programs\\python\\python311\\lib\\site-packages (from google-api-python-client) (2.16.2)\n",
      "Requirement already satisfied: google-auth-httplib2>=0.1.0 in c:\\users\\timbe\\appdata\\local\\programs\\python\\python311\\lib\\site-packages (from google-api-python-client) (0.1.0)\n",
      "Requirement already satisfied: google-api-core!=2.0.*,!=2.1.*,!=2.2.*,!=2.3.0,<3.0.0dev,>=1.31.5 in c:\\users\\timbe\\appdata\\local\\programs\\python\\python311\\lib\\site-packages (from google-api-python-client) (2.11.0)\n",
      "Requirement already satisfied: uritemplate<5,>=3.0.1 in c:\\users\\timbe\\appdata\\local\\programs\\python\\python311\\lib\\site-packages (from google-api-python-client) (4.1.1)\n",
      "Requirement already satisfied: googleapis-common-protos<2.0dev,>=1.56.2 in c:\\users\\timbe\\appdata\\local\\programs\\python\\python311\\lib\\site-packages (from google-api-core!=2.0.*,!=2.1.*,!=2.2.*,!=2.3.0,<3.0.0dev,>=1.31.5->google-api-python-client) (1.59.0)\n",
      "Requirement already satisfied: protobuf!=3.20.0,!=3.20.1,!=4.21.0,!=4.21.1,!=4.21.2,!=4.21.3,!=4.21.4,!=4.21.5,<5.0.0dev,>=3.19.5 in c:\\users\\timbe\\appdata\\local\\programs\\python\\python311\\lib\\site-packages (from google-api-core!=2.0.*,!=2.1.*,!=2.2.*,!=2.3.0,<3.0.0dev,>=1.31.5->google-api-python-client) (4.22.1)\n",
      "Requirement already satisfied: requests<3.0.0dev,>=2.18.0 in c:\\users\\timbe\\appdata\\local\\programs\\python\\python311\\lib\\site-packages (from google-api-core!=2.0.*,!=2.1.*,!=2.2.*,!=2.3.0,<3.0.0dev,>=1.31.5->google-api-python-client) (2.28.2)\n",
      "Requirement already satisfied: cachetools<6.0,>=2.0.0 in c:\\users\\timbe\\appdata\\local\\programs\\python\\python311\\lib\\site-packages (from google-auth<3.0.0dev,>=1.19.0->google-api-python-client) (5.3.0)\n",
      "Requirement already satisfied: pyasn1-modules>=0.2.1 in c:\\users\\timbe\\appdata\\local\\programs\\python\\python311\\lib\\site-packages (from google-auth<3.0.0dev,>=1.19.0->google-api-python-client) (0.2.8)\n",
      "Requirement already satisfied: six>=1.9.0 in c:\\users\\timbe\\appdata\\local\\programs\\python\\python311\\lib\\site-packages (from google-auth<3.0.0dev,>=1.19.0->google-api-python-client) (1.16.0)\n",
      "Requirement already satisfied: rsa<5,>=3.1.4 in c:\\users\\timbe\\appdata\\local\\programs\\python\\python311\\lib\\site-packages (from google-auth<3.0.0dev,>=1.19.0->google-api-python-client) (4.9)\n",
      "Requirement already satisfied: pyparsing!=3.0.0,!=3.0.1,!=3.0.2,!=3.0.3,<4,>=2.4.2 in c:\\users\\timbe\\appdata\\local\\programs\\python\\python311\\lib\\site-packages (from httplib2<1dev,>=0.15.0->google-api-python-client) (3.0.9)\n",
      "Requirement already satisfied: pyasn1<0.5.0,>=0.4.6 in c:\\users\\timbe\\appdata\\local\\programs\\python\\python311\\lib\\site-packages (from pyasn1-modules>=0.2.1->google-auth<3.0.0dev,>=1.19.0->google-api-python-client) (0.4.8)\n",
      "Requirement already satisfied: charset-normalizer<4,>=2 in c:\\users\\timbe\\appdata\\local\\programs\\python\\python311\\lib\\site-packages (from requests<3.0.0dev,>=2.18.0->google-api-core!=2.0.*,!=2.1.*,!=2.2.*,!=2.3.0,<3.0.0dev,>=1.31.5->google-api-python-client) (3.1.0)\n",
      "Requirement already satisfied: idna<4,>=2.5 in c:\\users\\timbe\\appdata\\local\\programs\\python\\python311\\lib\\site-packages (from requests<3.0.0dev,>=2.18.0->google-api-core!=2.0.*,!=2.1.*,!=2.2.*,!=2.3.0,<3.0.0dev,>=1.31.5->google-api-python-client) (3.4)\n",
      "Requirement already satisfied: urllib3<1.27,>=1.21.1 in c:\\users\\timbe\\appdata\\local\\programs\\python\\python311\\lib\\site-packages (from requests<3.0.0dev,>=2.18.0->google-api-core!=2.0.*,!=2.1.*,!=2.2.*,!=2.3.0,<3.0.0dev,>=1.31.5->google-api-python-client) (1.26.15)\n",
      "Requirement already satisfied: certifi>=2017.4.17 in c:\\users\\timbe\\appdata\\local\\programs\\python\\python311\\lib\\site-packages (from requests<3.0.0dev,>=2.18.0->google-api-core!=2.0.*,!=2.1.*,!=2.2.*,!=2.3.0,<3.0.0dev,>=1.31.5->google-api-python-client) (2022.12.7)\n",
      "Installing collected packages: google-api-python-client\n",
      "  Attempting uninstall: google-api-python-client\n",
      "    Found existing installation: google-api-python-client 2.83.0\n",
      "    Uninstalling google-api-python-client-2.83.0:\n",
      "      Successfully uninstalled google-api-python-client-2.83.0\n",
      "Successfully installed google-api-python-client-2.85.0\n"
     ]
    }
   ],
   "source": [
    "!pip install --upgrade google-api-python-client"
   ]
  },
  {
   "cell_type": "code",
   "execution_count": 4,
   "id": "1712b07a",
   "metadata": {
    "scrolled": true
   },
   "outputs": [
    {
     "name": "stdout",
     "output_type": "stream",
     "text": [
      "Requirement already satisfied: google-auth-oauthlib in c:\\users\\timbe\\appdata\\local\\programs\\python\\python311\\lib\\site-packages (1.0.0)\n",
      "Requirement already satisfied: google-auth-httplib2 in c:\\users\\timbe\\appdata\\local\\programs\\python\\python311\\lib\\site-packages (0.1.0)\n",
      "Requirement already satisfied: google-auth>=2.15.0 in c:\\users\\timbe\\appdata\\local\\programs\\python\\python311\\lib\\site-packages (from google-auth-oauthlib) (2.16.2)\n",
      "Requirement already satisfied: requests-oauthlib>=0.7.0 in c:\\users\\timbe\\appdata\\local\\programs\\python\\python311\\lib\\site-packages (from google-auth-oauthlib) (1.3.1)\n",
      "Requirement already satisfied: httplib2>=0.15.0 in c:\\users\\timbe\\appdata\\local\\programs\\python\\python311\\lib\\site-packages (from google-auth-httplib2) (0.22.0)\n",
      "Requirement already satisfied: six in c:\\users\\timbe\\appdata\\local\\programs\\python\\python311\\lib\\site-packages (from google-auth-httplib2) (1.16.0)\n",
      "Requirement already satisfied: cachetools<6.0,>=2.0.0 in c:\\users\\timbe\\appdata\\local\\programs\\python\\python311\\lib\\site-packages (from google-auth>=2.15.0->google-auth-oauthlib) (5.3.0)\n",
      "Requirement already satisfied: pyasn1-modules>=0.2.1 in c:\\users\\timbe\\appdata\\local\\programs\\python\\python311\\lib\\site-packages (from google-auth>=2.15.0->google-auth-oauthlib) (0.2.8)\n",
      "Requirement already satisfied: rsa<5,>=3.1.4 in c:\\users\\timbe\\appdata\\local\\programs\\python\\python311\\lib\\site-packages (from google-auth>=2.15.0->google-auth-oauthlib) (4.9)\n",
      "Requirement already satisfied: pyparsing!=3.0.0,!=3.0.1,!=3.0.2,!=3.0.3,<4,>=2.4.2 in c:\\users\\timbe\\appdata\\local\\programs\\python\\python311\\lib\\site-packages (from httplib2>=0.15.0->google-auth-httplib2) (3.0.9)\n",
      "Requirement already satisfied: oauthlib>=3.0.0 in c:\\users\\timbe\\appdata\\local\\programs\\python\\python311\\lib\\site-packages (from requests-oauthlib>=0.7.0->google-auth-oauthlib) (3.2.2)\n",
      "Requirement already satisfied: requests>=2.0.0 in c:\\users\\timbe\\appdata\\local\\programs\\python\\python311\\lib\\site-packages (from requests-oauthlib>=0.7.0->google-auth-oauthlib) (2.28.2)\n",
      "Requirement already satisfied: pyasn1<0.5.0,>=0.4.6 in c:\\users\\timbe\\appdata\\local\\programs\\python\\python311\\lib\\site-packages (from pyasn1-modules>=0.2.1->google-auth>=2.15.0->google-auth-oauthlib) (0.4.8)\n",
      "Requirement already satisfied: charset-normalizer<4,>=2 in c:\\users\\timbe\\appdata\\local\\programs\\python\\python311\\lib\\site-packages (from requests>=2.0.0->requests-oauthlib>=0.7.0->google-auth-oauthlib) (3.1.0)\n",
      "Requirement already satisfied: idna<4,>=2.5 in c:\\users\\timbe\\appdata\\local\\programs\\python\\python311\\lib\\site-packages (from requests>=2.0.0->requests-oauthlib>=0.7.0->google-auth-oauthlib) (3.4)\n",
      "Requirement already satisfied: urllib3<1.27,>=1.21.1 in c:\\users\\timbe\\appdata\\local\\programs\\python\\python311\\lib\\site-packages (from requests>=2.0.0->requests-oauthlib>=0.7.0->google-auth-oauthlib) (1.26.15)\n",
      "Requirement already satisfied: certifi>=2017.4.17 in c:\\users\\timbe\\appdata\\local\\programs\\python\\python311\\lib\\site-packages (from requests>=2.0.0->requests-oauthlib>=0.7.0->google-auth-oauthlib) (2022.12.7)\n"
     ]
    }
   ],
   "source": [
    "!pip install --upgrade google-auth-oauthlib google-auth-httplib2"
   ]
  },
  {
   "cell_type": "code",
   "execution_count": 5,
   "id": "05450e78",
   "metadata": {},
   "outputs": [
    {
     "name": "stdout",
     "output_type": "stream",
     "text": [
      "Requirement already satisfied: isodate in c:\\users\\timbe\\appdata\\local\\programs\\python\\python311\\lib\\site-packages (0.6.1)\n",
      "Requirement already satisfied: six in c:\\users\\timbe\\appdata\\local\\programs\\python\\python311\\lib\\site-packages (from isodate) (1.16.0)\n"
     ]
    }
   ],
   "source": [
    "!pip install isodate"
   ]
  },
  {
   "cell_type": "code",
   "execution_count": 6,
   "id": "7d6298e1",
   "metadata": {},
   "outputs": [],
   "source": [
    "import opendatasets as od\n",
    "import os\n",
    "import pandas as pd\n",
    "import matplotlib.pyplot as plt\n",
    "import seaborn as sns\n",
    "import json\n",
    "import warnings\n",
    "import numpy as np\n",
    "import statistics as st\n",
    "import plotly.express as px\n",
    "import google_auth_oauthlib.flow\n",
    "import googleapiclient.discovery\n",
    "import googleapiclient.errors\n",
    "from IPython.display import JSON\n",
    "import isodate\n",
    "from sklearn import metrics\n",
    "\n",
    "\n",
    "warnings.filterwarnings('ignore')"
   ]
  },
  {
   "cell_type": "markdown",
   "id": "15dec60e",
   "metadata": {},
   "source": [
    "### Loading the dataset from the source"
   ]
  },
  {
   "cell_type": "code",
   "execution_count": 7,
   "id": "2a51d955",
   "metadata": {},
   "outputs": [],
   "source": [
    "dataset = 'https://www.kaggle.com/datasets/rsrishav/youtube-trending-video-dataset?select=US_youtube_trending_data.csv'\n",
    "\n",
    "final_dir = '\\\\'.join(os.getcwd().split('\\\\')[:-1])"
   ]
  },
  {
   "cell_type": "code",
   "execution_count": 8,
   "id": "7b76e40e",
   "metadata": {
    "scrolled": true
   },
   "outputs": [
    {
     "name": "stdout",
     "output_type": "stream",
     "text": [
      "Skipping, found downloaded files in \"C:\\Users\\timbe\\Final Project\\youtube-trending-video-dataset\" (use force=True to force download)\n"
     ]
    }
   ],
   "source": [
    "od.download(dataset, data_dir=final_dir)\n",
    "\n",
    "final_dir += '\\\\youtube-trending-video-dataset\\\\US_youtube_trending_data.csv'"
   ]
  },
  {
   "cell_type": "code",
   "execution_count": 9,
   "id": "afd454e3",
   "metadata": {
    "scrolled": true
   },
   "outputs": [
    {
     "data": {
      "text/html": [
       "<div>\n",
       "<style scoped>\n",
       "    .dataframe tbody tr th:only-of-type {\n",
       "        vertical-align: middle;\n",
       "    }\n",
       "\n",
       "    .dataframe tbody tr th {\n",
       "        vertical-align: top;\n",
       "    }\n",
       "\n",
       "    .dataframe thead th {\n",
       "        text-align: right;\n",
       "    }\n",
       "</style>\n",
       "<table border=\"1\" class=\"dataframe\">\n",
       "  <thead>\n",
       "    <tr style=\"text-align: right;\">\n",
       "      <th></th>\n",
       "      <th>video_id</th>\n",
       "      <th>title</th>\n",
       "      <th>publishedAt</th>\n",
       "      <th>channelId</th>\n",
       "      <th>channelTitle</th>\n",
       "      <th>categoryId</th>\n",
       "      <th>trending_date</th>\n",
       "      <th>tags</th>\n",
       "      <th>view_count</th>\n",
       "      <th>likes</th>\n",
       "      <th>dislikes</th>\n",
       "      <th>comment_count</th>\n",
       "      <th>thumbnail_link</th>\n",
       "      <th>comments_disabled</th>\n",
       "      <th>ratings_disabled</th>\n",
       "      <th>description</th>\n",
       "    </tr>\n",
       "  </thead>\n",
       "  <tbody>\n",
       "    <tr>\n",
       "      <th>0</th>\n",
       "      <td>3C66w5Z0ixs</td>\n",
       "      <td>I ASKED HER TO BE MY GIRLFRIEND...</td>\n",
       "      <td>2020-08-11T19:20:14Z</td>\n",
       "      <td>UCvtRTOMP2TqYqu51xNrqAzg</td>\n",
       "      <td>Brawadis</td>\n",
       "      <td>22</td>\n",
       "      <td>2020-08-12T00:00:00Z</td>\n",
       "      <td>brawadis|prank|basketball|skits|ghost|funny vi...</td>\n",
       "      <td>1514614</td>\n",
       "      <td>156908</td>\n",
       "      <td>5855</td>\n",
       "      <td>35313</td>\n",
       "      <td>https://i.ytimg.com/vi/3C66w5Z0ixs/default.jpg</td>\n",
       "      <td>False</td>\n",
       "      <td>False</td>\n",
       "      <td>SUBSCRIBE to BRAWADIS ▶ http://bit.ly/Subscrib...</td>\n",
       "    </tr>\n",
       "    <tr>\n",
       "      <th>1</th>\n",
       "      <td>M9Pmf9AB4Mo</td>\n",
       "      <td>Apex Legends | Stories from the Outlands – “Th...</td>\n",
       "      <td>2020-08-11T17:00:10Z</td>\n",
       "      <td>UC0ZV6M2THA81QT9hrVWJG3A</td>\n",
       "      <td>Apex Legends</td>\n",
       "      <td>20</td>\n",
       "      <td>2020-08-12T00:00:00Z</td>\n",
       "      <td>Apex Legends|Apex Legends characters|new Apex ...</td>\n",
       "      <td>2381688</td>\n",
       "      <td>146739</td>\n",
       "      <td>2794</td>\n",
       "      <td>16549</td>\n",
       "      <td>https://i.ytimg.com/vi/M9Pmf9AB4Mo/default.jpg</td>\n",
       "      <td>False</td>\n",
       "      <td>False</td>\n",
       "      <td>While running her own modding shop, Ramya Pare...</td>\n",
       "    </tr>\n",
       "    <tr>\n",
       "      <th>2</th>\n",
       "      <td>J78aPJ3VyNs</td>\n",
       "      <td>I left youtube for a month and THIS is what ha...</td>\n",
       "      <td>2020-08-11T16:34:06Z</td>\n",
       "      <td>UCYzPXprvl5Y-Sf0g4vX-m6g</td>\n",
       "      <td>jacksepticeye</td>\n",
       "      <td>24</td>\n",
       "      <td>2020-08-12T00:00:00Z</td>\n",
       "      <td>jacksepticeye|funny|funny meme|memes|jacksepti...</td>\n",
       "      <td>2038853</td>\n",
       "      <td>353787</td>\n",
       "      <td>2628</td>\n",
       "      <td>40221</td>\n",
       "      <td>https://i.ytimg.com/vi/J78aPJ3VyNs/default.jpg</td>\n",
       "      <td>False</td>\n",
       "      <td>False</td>\n",
       "      <td>I left youtube for a month and this is what ha...</td>\n",
       "    </tr>\n",
       "  </tbody>\n",
       "</table>\n",
       "</div>"
      ],
      "text/plain": [
       "      video_id                                              title  \\\n",
       "0  3C66w5Z0ixs                 I ASKED HER TO BE MY GIRLFRIEND...   \n",
       "1  M9Pmf9AB4Mo  Apex Legends | Stories from the Outlands – “Th...   \n",
       "2  J78aPJ3VyNs  I left youtube for a month and THIS is what ha...   \n",
       "\n",
       "            publishedAt                 channelId   channelTitle  categoryId  \\\n",
       "0  2020-08-11T19:20:14Z  UCvtRTOMP2TqYqu51xNrqAzg       Brawadis          22   \n",
       "1  2020-08-11T17:00:10Z  UC0ZV6M2THA81QT9hrVWJG3A   Apex Legends          20   \n",
       "2  2020-08-11T16:34:06Z  UCYzPXprvl5Y-Sf0g4vX-m6g  jacksepticeye          24   \n",
       "\n",
       "          trending_date                                               tags  \\\n",
       "0  2020-08-12T00:00:00Z  brawadis|prank|basketball|skits|ghost|funny vi...   \n",
       "1  2020-08-12T00:00:00Z  Apex Legends|Apex Legends characters|new Apex ...   \n",
       "2  2020-08-12T00:00:00Z  jacksepticeye|funny|funny meme|memes|jacksepti...   \n",
       "\n",
       "   view_count   likes  dislikes  comment_count  \\\n",
       "0     1514614  156908      5855          35313   \n",
       "1     2381688  146739      2794          16549   \n",
       "2     2038853  353787      2628          40221   \n",
       "\n",
       "                                   thumbnail_link  comments_disabled  \\\n",
       "0  https://i.ytimg.com/vi/3C66w5Z0ixs/default.jpg              False   \n",
       "1  https://i.ytimg.com/vi/M9Pmf9AB4Mo/default.jpg              False   \n",
       "2  https://i.ytimg.com/vi/J78aPJ3VyNs/default.jpg              False   \n",
       "\n",
       "   ratings_disabled                                        description  \n",
       "0             False  SUBSCRIBE to BRAWADIS ▶ http://bit.ly/Subscrib...  \n",
       "1             False  While running her own modding shop, Ramya Pare...  \n",
       "2             False  I left youtube for a month and this is what ha...  "
      ]
     },
     "execution_count": 9,
     "metadata": {},
     "output_type": "execute_result"
    }
   ],
   "source": [
    "data = pd.read_csv(final_dir)\n",
    "\n",
    "data.head(3)"
   ]
  },
  {
   "cell_type": "markdown",
   "id": "fa406005",
   "metadata": {},
   "source": [
    "### Understanding the data"
   ]
  },
  {
   "cell_type": "code",
   "execution_count": 10,
   "id": "857bde4d",
   "metadata": {
    "scrolled": true
   },
   "outputs": [
    {
     "data": {
      "text/html": [
       "<div>\n",
       "<style scoped>\n",
       "    .dataframe tbody tr th:only-of-type {\n",
       "        vertical-align: middle;\n",
       "    }\n",
       "\n",
       "    .dataframe tbody tr th {\n",
       "        vertical-align: top;\n",
       "    }\n",
       "\n",
       "    .dataframe thead th {\n",
       "        text-align: right;\n",
       "    }\n",
       "</style>\n",
       "<table border=\"1\" class=\"dataframe\">\n",
       "  <thead>\n",
       "    <tr style=\"text-align: right;\">\n",
       "      <th></th>\n",
       "      <th>Column_name</th>\n",
       "      <th>Count</th>\n",
       "      <th>Percentage</th>\n",
       "    </tr>\n",
       "  </thead>\n",
       "  <tbody>\n",
       "    <tr>\n",
       "      <th>0</th>\n",
       "      <td>description</td>\n",
       "      <td>4048.0</td>\n",
       "      <td>2.18</td>\n",
       "    </tr>\n",
       "    <tr>\n",
       "      <th>1</th>\n",
       "      <td>video_id</td>\n",
       "      <td>0.0</td>\n",
       "      <td>0.00</td>\n",
       "    </tr>\n",
       "    <tr>\n",
       "      <th>2</th>\n",
       "      <td>title</td>\n",
       "      <td>0.0</td>\n",
       "      <td>0.00</td>\n",
       "    </tr>\n",
       "    <tr>\n",
       "      <th>3</th>\n",
       "      <td>publishedAt</td>\n",
       "      <td>0.0</td>\n",
       "      <td>0.00</td>\n",
       "    </tr>\n",
       "    <tr>\n",
       "      <th>4</th>\n",
       "      <td>channelId</td>\n",
       "      <td>0.0</td>\n",
       "      <td>0.00</td>\n",
       "    </tr>\n",
       "    <tr>\n",
       "      <th>5</th>\n",
       "      <td>channelTitle</td>\n",
       "      <td>0.0</td>\n",
       "      <td>0.00</td>\n",
       "    </tr>\n",
       "    <tr>\n",
       "      <th>6</th>\n",
       "      <td>categoryId</td>\n",
       "      <td>0.0</td>\n",
       "      <td>0.00</td>\n",
       "    </tr>\n",
       "    <tr>\n",
       "      <th>7</th>\n",
       "      <td>trending_date</td>\n",
       "      <td>0.0</td>\n",
       "      <td>0.00</td>\n",
       "    </tr>\n",
       "    <tr>\n",
       "      <th>8</th>\n",
       "      <td>tags</td>\n",
       "      <td>0.0</td>\n",
       "      <td>0.00</td>\n",
       "    </tr>\n",
       "    <tr>\n",
       "      <th>9</th>\n",
       "      <td>view_count</td>\n",
       "      <td>0.0</td>\n",
       "      <td>0.00</td>\n",
       "    </tr>\n",
       "    <tr>\n",
       "      <th>10</th>\n",
       "      <td>likes</td>\n",
       "      <td>0.0</td>\n",
       "      <td>0.00</td>\n",
       "    </tr>\n",
       "    <tr>\n",
       "      <th>11</th>\n",
       "      <td>dislikes</td>\n",
       "      <td>0.0</td>\n",
       "      <td>0.00</td>\n",
       "    </tr>\n",
       "    <tr>\n",
       "      <th>12</th>\n",
       "      <td>comment_count</td>\n",
       "      <td>0.0</td>\n",
       "      <td>0.00</td>\n",
       "    </tr>\n",
       "    <tr>\n",
       "      <th>13</th>\n",
       "      <td>thumbnail_link</td>\n",
       "      <td>0.0</td>\n",
       "      <td>0.00</td>\n",
       "    </tr>\n",
       "    <tr>\n",
       "      <th>14</th>\n",
       "      <td>comments_disabled</td>\n",
       "      <td>0.0</td>\n",
       "      <td>0.00</td>\n",
       "    </tr>\n",
       "    <tr>\n",
       "      <th>15</th>\n",
       "      <td>ratings_disabled</td>\n",
       "      <td>0.0</td>\n",
       "      <td>0.00</td>\n",
       "    </tr>\n",
       "  </tbody>\n",
       "</table>\n",
       "</div>"
      ],
      "text/plain": [
       "          Column_name   Count  Percentage\n",
       "0         description  4048.0        2.18\n",
       "1            video_id     0.0        0.00\n",
       "2               title     0.0        0.00\n",
       "3         publishedAt     0.0        0.00\n",
       "4           channelId     0.0        0.00\n",
       "5        channelTitle     0.0        0.00\n",
       "6          categoryId     0.0        0.00\n",
       "7       trending_date     0.0        0.00\n",
       "8                tags     0.0        0.00\n",
       "9          view_count     0.0        0.00\n",
       "10              likes     0.0        0.00\n",
       "11           dislikes     0.0        0.00\n",
       "12      comment_count     0.0        0.00\n",
       "13     thumbnail_link     0.0        0.00\n",
       "14  comments_disabled     0.0        0.00\n",
       "15   ratings_disabled     0.0        0.00"
      ]
     },
     "execution_count": 10,
     "metadata": {},
     "output_type": "execute_result"
    }
   ],
   "source": [
    "# Checking null values\n",
    "\n",
    "def null_values(df):\n",
    "    temp = df.isna().sum()\n",
    "    temp_1 = round(temp * 100 / df.shape[0], 2)\n",
    "    \n",
    "    return pd.DataFrame((temp, temp_1), index = ['Count', 'Percentage']).T.sort_values('Count', ascending = False)\n",
    "\n",
    "\n",
    "null_df = null_values(data).reset_index().rename({'index':'Column_name'}, axis =1)\n",
    "null_df"
   ]
  },
  {
   "cell_type": "markdown",
   "id": "4f840c13",
   "metadata": {},
   "source": [
    "We can see that there are around 10% missing values in `description` column\n",
    "- We are keeping the `description` column as it is while analysis and perform the null value treatment during model building."
   ]
  },
  {
   "cell_type": "code",
   "execution_count": 11,
   "id": "0f165a32",
   "metadata": {
    "scrolled": true
   },
   "outputs": [
    {
     "data": {
      "text/plain": [
       "(185990, 16)"
      ]
     },
     "execution_count": 11,
     "metadata": {},
     "output_type": "execute_result"
    }
   ],
   "source": [
    "# Checking the shape of the DataFrame\n",
    "data.shape"
   ]
  },
  {
   "cell_type": "code",
   "execution_count": 12,
   "id": "16e3e444",
   "metadata": {
    "scrolled": true
   },
   "outputs": [
    {
     "data": {
      "text/plain": [
       "34066"
      ]
     },
     "execution_count": 12,
     "metadata": {},
     "output_type": "execute_result"
    }
   ],
   "source": [
    "# Let's check the unique video_ids in the `video_id` column\n",
    "data['video_id'].nunique()"
   ]
  },
  {
   "cell_type": "markdown",
   "id": "dda1901e",
   "metadata": {},
   "source": [
    "- There are only 34066 unique videos out of 185990 video ids.\n",
    "- That means there might be some duplicate data. Let's check if there is any."
   ]
  },
  {
   "cell_type": "code",
   "execution_count": 13,
   "id": "83a04af6",
   "metadata": {
    "scrolled": true
   },
   "outputs": [
    {
     "data": {
      "text/html": [
       "<div>\n",
       "<style scoped>\n",
       "    .dataframe tbody tr th:only-of-type {\n",
       "        vertical-align: middle;\n",
       "    }\n",
       "\n",
       "    .dataframe tbody tr th {\n",
       "        vertical-align: top;\n",
       "    }\n",
       "\n",
       "    .dataframe thead th {\n",
       "        text-align: right;\n",
       "    }\n",
       "</style>\n",
       "<table border=\"1\" class=\"dataframe\">\n",
       "  <thead>\n",
       "    <tr style=\"text-align: right;\">\n",
       "      <th></th>\n",
       "      <th>video_id</th>\n",
       "      <th>title</th>\n",
       "      <th>publishedAt</th>\n",
       "      <th>channelId</th>\n",
       "      <th>channelTitle</th>\n",
       "      <th>categoryId</th>\n",
       "      <th>trending_date</th>\n",
       "      <th>tags</th>\n",
       "      <th>view_count</th>\n",
       "      <th>likes</th>\n",
       "      <th>dislikes</th>\n",
       "      <th>comment_count</th>\n",
       "      <th>thumbnail_link</th>\n",
       "      <th>comments_disabled</th>\n",
       "      <th>ratings_disabled</th>\n",
       "      <th>description</th>\n",
       "    </tr>\n",
       "  </thead>\n",
       "  <tbody>\n",
       "    <tr>\n",
       "      <th>127791</th>\n",
       "      <td>DfdbNFn8rqo</td>\n",
       "      <td>FIGHT HIGHLIGHTS | Canelo Álvarez vs. Dmitry B...</td>\n",
       "      <td>2022-05-08T06:41:19Z</td>\n",
       "      <td>UCurvRE5fGcdUgCYWgh-BDsg</td>\n",
       "      <td>DAZN Boxing</td>\n",
       "      <td>17</td>\n",
       "      <td>2022-05-09T00:00:00Z</td>\n",
       "      <td>dazn|boxing|highlights|full fight|ko|knockout|...</td>\n",
       "      <td>6880704</td>\n",
       "      <td>106458</td>\n",
       "      <td>0</td>\n",
       "      <td>19059</td>\n",
       "      <td>https://i.ytimg.com/vi/DfdbNFn8rqo/default.jpg</td>\n",
       "      <td>False</td>\n",
       "      <td>False</td>\n",
       "      <td>May 7th, 2022 -- Canelo Álvarez vs. Dmitry Biv...</td>\n",
       "    </tr>\n",
       "    <tr>\n",
       "      <th>127993</th>\n",
       "      <td>DfdbNFn8rqo</td>\n",
       "      <td>FIGHT HIGHLIGHTS | Canelo Álvarez vs. Dmitry B...</td>\n",
       "      <td>2022-05-08T06:41:19Z</td>\n",
       "      <td>UCurvRE5fGcdUgCYWgh-BDsg</td>\n",
       "      <td>DAZN Boxing</td>\n",
       "      <td>17</td>\n",
       "      <td>2022-05-10T00:00:00Z</td>\n",
       "      <td>dazn|boxing|highlights|full fight|ko|knockout|...</td>\n",
       "      <td>8118095</td>\n",
       "      <td>119878</td>\n",
       "      <td>0</td>\n",
       "      <td>20979</td>\n",
       "      <td>https://i.ytimg.com/vi/DfdbNFn8rqo/default.jpg</td>\n",
       "      <td>False</td>\n",
       "      <td>False</td>\n",
       "      <td>May 7th, 2022 -- Canelo Álvarez vs. Dmitry Biv...</td>\n",
       "    </tr>\n",
       "    <tr>\n",
       "      <th>128202</th>\n",
       "      <td>DfdbNFn8rqo</td>\n",
       "      <td>FIGHT HIGHLIGHTS | Canelo Álvarez vs. Dmitry B...</td>\n",
       "      <td>2022-05-08T06:41:19Z</td>\n",
       "      <td>UCurvRE5fGcdUgCYWgh-BDsg</td>\n",
       "      <td>DAZN Boxing</td>\n",
       "      <td>17</td>\n",
       "      <td>2022-05-11T00:00:00Z</td>\n",
       "      <td>dazn|boxing|highlights|full fight|ko|knockout|...</td>\n",
       "      <td>9042449</td>\n",
       "      <td>128118</td>\n",
       "      <td>0</td>\n",
       "      <td>22001</td>\n",
       "      <td>https://i.ytimg.com/vi/DfdbNFn8rqo/default.jpg</td>\n",
       "      <td>False</td>\n",
       "      <td>False</td>\n",
       "      <td>May 7th, 2022 -- Canelo Álvarez vs. Dmitry Biv...</td>\n",
       "    </tr>\n",
       "    <tr>\n",
       "      <th>128421</th>\n",
       "      <td>DfdbNFn8rqo</td>\n",
       "      <td>FIGHT HIGHLIGHTS | Canelo Álvarez vs. Dmitry B...</td>\n",
       "      <td>2022-05-08T06:41:19Z</td>\n",
       "      <td>UCurvRE5fGcdUgCYWgh-BDsg</td>\n",
       "      <td>DAZN Boxing</td>\n",
       "      <td>17</td>\n",
       "      <td>2022-05-12T00:00:00Z</td>\n",
       "      <td>dazn|boxing|highlights|full fight|ko|knockout|...</td>\n",
       "      <td>9594480</td>\n",
       "      <td>133356</td>\n",
       "      <td>0</td>\n",
       "      <td>22704</td>\n",
       "      <td>https://i.ytimg.com/vi/DfdbNFn8rqo/default.jpg</td>\n",
       "      <td>False</td>\n",
       "      <td>False</td>\n",
       "      <td>May 7th, 2022 -- Canelo Álvarez vs. Dmitry Biv...</td>\n",
       "    </tr>\n",
       "    <tr>\n",
       "      <th>128650</th>\n",
       "      <td>DfdbNFn8rqo</td>\n",
       "      <td>FIGHT HIGHLIGHTS | Canelo Álvarez vs. Dmitry B...</td>\n",
       "      <td>2022-05-08T06:41:19Z</td>\n",
       "      <td>UCurvRE5fGcdUgCYWgh-BDsg</td>\n",
       "      <td>DAZN Boxing</td>\n",
       "      <td>17</td>\n",
       "      <td>2022-05-13T00:00:00Z</td>\n",
       "      <td>dazn|boxing|highlights|full fight|ko|knockout|...</td>\n",
       "      <td>9951568</td>\n",
       "      <td>136598</td>\n",
       "      <td>0</td>\n",
       "      <td>23204</td>\n",
       "      <td>https://i.ytimg.com/vi/DfdbNFn8rqo/default.jpg</td>\n",
       "      <td>False</td>\n",
       "      <td>False</td>\n",
       "      <td>May 7th, 2022 -- Canelo Álvarez vs. Dmitry Biv...</td>\n",
       "    </tr>\n",
       "    <tr>\n",
       "      <th>128847</th>\n",
       "      <td>DfdbNFn8rqo</td>\n",
       "      <td>FIGHT HIGHLIGHTS | Canelo Álvarez vs. Dmitry B...</td>\n",
       "      <td>2022-05-08T06:41:19Z</td>\n",
       "      <td>UCurvRE5fGcdUgCYWgh-BDsg</td>\n",
       "      <td>DAZN Boxing</td>\n",
       "      <td>17</td>\n",
       "      <td>2022-05-14T00:00:00Z</td>\n",
       "      <td>dazn|boxing|highlights|full fight|ko|knockout|...</td>\n",
       "      <td>10179824</td>\n",
       "      <td>138835</td>\n",
       "      <td>0</td>\n",
       "      <td>23513</td>\n",
       "      <td>https://i.ytimg.com/vi/DfdbNFn8rqo/default.jpg</td>\n",
       "      <td>False</td>\n",
       "      <td>False</td>\n",
       "      <td>May 7th, 2022 -- Canelo Álvarez vs. Dmitry Biv...</td>\n",
       "    </tr>\n",
       "    <tr>\n",
       "      <th>129081</th>\n",
       "      <td>DfdbNFn8rqo</td>\n",
       "      <td>FIGHT HIGHLIGHTS | Canelo Álvarez vs. Dmitry B...</td>\n",
       "      <td>2022-05-08T06:41:19Z</td>\n",
       "      <td>UCurvRE5fGcdUgCYWgh-BDsg</td>\n",
       "      <td>DAZN Boxing</td>\n",
       "      <td>17</td>\n",
       "      <td>2022-05-15T00:00:00Z</td>\n",
       "      <td>dazn|boxing|highlights|full fight|ko|knockout|...</td>\n",
       "      <td>10361698</td>\n",
       "      <td>140456</td>\n",
       "      <td>0</td>\n",
       "      <td>23741</td>\n",
       "      <td>https://i.ytimg.com/vi/DfdbNFn8rqo/default.jpg</td>\n",
       "      <td>False</td>\n",
       "      <td>False</td>\n",
       "      <td>May 7th, 2022 -- Canelo Álvarez vs. Dmitry Biv...</td>\n",
       "    </tr>\n",
       "    <tr>\n",
       "      <th>129299</th>\n",
       "      <td>DfdbNFn8rqo</td>\n",
       "      <td>FIGHT HIGHLIGHTS | Canelo Álvarez vs. Dmitry B...</td>\n",
       "      <td>2022-05-08T06:41:19Z</td>\n",
       "      <td>UCurvRE5fGcdUgCYWgh-BDsg</td>\n",
       "      <td>DAZN Boxing</td>\n",
       "      <td>17</td>\n",
       "      <td>2022-05-16T00:00:00Z</td>\n",
       "      <td>dazn|boxing|highlights|full fight|ko|knockout|...</td>\n",
       "      <td>10494813</td>\n",
       "      <td>141653</td>\n",
       "      <td>0</td>\n",
       "      <td>23891</td>\n",
       "      <td>https://i.ytimg.com/vi/DfdbNFn8rqo/default.jpg</td>\n",
       "      <td>False</td>\n",
       "      <td>False</td>\n",
       "      <td>May 7th, 2022 -- Canelo Álvarez vs. Dmitry Biv...</td>\n",
       "    </tr>\n",
       "    <tr>\n",
       "      <th>129510</th>\n",
       "      <td>DfdbNFn8rqo</td>\n",
       "      <td>FIGHT HIGHLIGHTS | Canelo Álvarez vs. Dmitry B...</td>\n",
       "      <td>2022-05-08T06:41:19Z</td>\n",
       "      <td>UCurvRE5fGcdUgCYWgh-BDsg</td>\n",
       "      <td>DAZN Boxing</td>\n",
       "      <td>17</td>\n",
       "      <td>2022-05-17T00:00:00Z</td>\n",
       "      <td>dazn|boxing|highlights|full fight|ko|knockout|...</td>\n",
       "      <td>10585335</td>\n",
       "      <td>142511</td>\n",
       "      <td>0</td>\n",
       "      <td>24040</td>\n",
       "      <td>https://i.ytimg.com/vi/DfdbNFn8rqo/default.jpg</td>\n",
       "      <td>False</td>\n",
       "      <td>False</td>\n",
       "      <td>May 7th, 2022 -- Canelo Álvarez vs. Dmitry Biv...</td>\n",
       "    </tr>\n",
       "    <tr>\n",
       "      <th>129721</th>\n",
       "      <td>DfdbNFn8rqo</td>\n",
       "      <td>FIGHT HIGHLIGHTS | Canelo Álvarez vs. Dmitry B...</td>\n",
       "      <td>2022-05-08T06:41:19Z</td>\n",
       "      <td>UCurvRE5fGcdUgCYWgh-BDsg</td>\n",
       "      <td>DAZN Boxing</td>\n",
       "      <td>17</td>\n",
       "      <td>2022-05-18T00:00:00Z</td>\n",
       "      <td>dazn|boxing|highlights|full fight|ko|knockout|...</td>\n",
       "      <td>10667898</td>\n",
       "      <td>143242</td>\n",
       "      <td>0</td>\n",
       "      <td>24190</td>\n",
       "      <td>https://i.ytimg.com/vi/DfdbNFn8rqo/default.jpg</td>\n",
       "      <td>False</td>\n",
       "      <td>False</td>\n",
       "      <td>May 7th, 2022 -- Canelo Álvarez vs. Dmitry Biv...</td>\n",
       "    </tr>\n",
       "    <tr>\n",
       "      <th>129932</th>\n",
       "      <td>DfdbNFn8rqo</td>\n",
       "      <td>FIGHT HIGHLIGHTS | Canelo Álvarez vs. Dmitry B...</td>\n",
       "      <td>2022-05-08T06:41:19Z</td>\n",
       "      <td>UCurvRE5fGcdUgCYWgh-BDsg</td>\n",
       "      <td>DAZN Boxing</td>\n",
       "      <td>17</td>\n",
       "      <td>2022-05-19T00:00:00Z</td>\n",
       "      <td>dazn|boxing|highlights|full fight|ko|knockout|...</td>\n",
       "      <td>10723271</td>\n",
       "      <td>143706</td>\n",
       "      <td>0</td>\n",
       "      <td>24217</td>\n",
       "      <td>https://i.ytimg.com/vi/DfdbNFn8rqo/default.jpg</td>\n",
       "      <td>False</td>\n",
       "      <td>False</td>\n",
       "      <td>May 7th, 2022 -- Canelo Álvarez vs. Dmitry Biv...</td>\n",
       "    </tr>\n",
       "    <tr>\n",
       "      <th>130104</th>\n",
       "      <td>DfdbNFn8rqo</td>\n",
       "      <td>FIGHT HIGHLIGHTS | Canelo Álvarez vs. Dmitry B...</td>\n",
       "      <td>2022-05-08T06:41:19Z</td>\n",
       "      <td>UCurvRE5fGcdUgCYWgh-BDsg</td>\n",
       "      <td>DAZN Boxing</td>\n",
       "      <td>17</td>\n",
       "      <td>2022-05-20T00:00:00Z</td>\n",
       "      <td>dazn|boxing|highlights|full fight|ko|knockout|...</td>\n",
       "      <td>10768393</td>\n",
       "      <td>144080</td>\n",
       "      <td>0</td>\n",
       "      <td>24276</td>\n",
       "      <td>https://i.ytimg.com/vi/DfdbNFn8rqo/default.jpg</td>\n",
       "      <td>False</td>\n",
       "      <td>False</td>\n",
       "      <td>May 7th, 2022 -- Canelo Álvarez vs. Dmitry Biv...</td>\n",
       "    </tr>\n",
       "    <tr>\n",
       "      <th>130280</th>\n",
       "      <td>DfdbNFn8rqo</td>\n",
       "      <td>FIGHT HIGHLIGHTS | Canelo Álvarez vs. Dmitry B...</td>\n",
       "      <td>2022-05-08T06:41:19Z</td>\n",
       "      <td>UCurvRE5fGcdUgCYWgh-BDsg</td>\n",
       "      <td>DAZN Boxing</td>\n",
       "      <td>17</td>\n",
       "      <td>2022-05-21T00:00:00Z</td>\n",
       "      <td>dazn|boxing|highlights|full fight|ko|knockout|...</td>\n",
       "      <td>10810702</td>\n",
       "      <td>144416</td>\n",
       "      <td>0</td>\n",
       "      <td>24338</td>\n",
       "      <td>https://i.ytimg.com/vi/DfdbNFn8rqo/default.jpg</td>\n",
       "      <td>False</td>\n",
       "      <td>False</td>\n",
       "      <td>May 7th, 2022 -- Canelo Álvarez vs. Dmitry Biv...</td>\n",
       "    </tr>\n",
       "    <tr>\n",
       "      <th>130493</th>\n",
       "      <td>DfdbNFn8rqo</td>\n",
       "      <td>FIGHT HIGHLIGHTS | Canelo Álvarez vs. Dmitry B...</td>\n",
       "      <td>2022-05-08T06:41:19Z</td>\n",
       "      <td>UCurvRE5fGcdUgCYWgh-BDsg</td>\n",
       "      <td>DAZN Boxing</td>\n",
       "      <td>17</td>\n",
       "      <td>2022-05-22T00:00:00Z</td>\n",
       "      <td>dazn|boxing|highlights|full fight|ko|knockout|...</td>\n",
       "      <td>10853048</td>\n",
       "      <td>144714</td>\n",
       "      <td>0</td>\n",
       "      <td>24404</td>\n",
       "      <td>https://i.ytimg.com/vi/DfdbNFn8rqo/default.jpg</td>\n",
       "      <td>False</td>\n",
       "      <td>False</td>\n",
       "      <td>May 7th, 2022 -- Canelo Álvarez vs. Dmitry Biv...</td>\n",
       "    </tr>\n",
       "    <tr>\n",
       "      <th>130695</th>\n",
       "      <td>DfdbNFn8rqo</td>\n",
       "      <td>FIGHT HIGHLIGHTS | Canelo Álvarez vs. Dmitry B...</td>\n",
       "      <td>2022-05-08T06:41:19Z</td>\n",
       "      <td>UCurvRE5fGcdUgCYWgh-BDsg</td>\n",
       "      <td>DAZN Boxing</td>\n",
       "      <td>17</td>\n",
       "      <td>2022-05-23T00:00:00Z</td>\n",
       "      <td>dazn|boxing|highlights|full fight|ko|knockout|...</td>\n",
       "      <td>10888383</td>\n",
       "      <td>144977</td>\n",
       "      <td>0</td>\n",
       "      <td>24436</td>\n",
       "      <td>https://i.ytimg.com/vi/DfdbNFn8rqo/default.jpg</td>\n",
       "      <td>False</td>\n",
       "      <td>False</td>\n",
       "      <td>May 7th, 2022 -- Canelo Álvarez vs. Dmitry Biv...</td>\n",
       "    </tr>\n",
       "    <tr>\n",
       "      <th>130906</th>\n",
       "      <td>DfdbNFn8rqo</td>\n",
       "      <td>FIGHT HIGHLIGHTS | Canelo Álvarez vs. Dmitry B...</td>\n",
       "      <td>2022-05-08T06:41:19Z</td>\n",
       "      <td>UCurvRE5fGcdUgCYWgh-BDsg</td>\n",
       "      <td>DAZN Boxing</td>\n",
       "      <td>17</td>\n",
       "      <td>2022-05-24T00:00:00Z</td>\n",
       "      <td>dazn|boxing|highlights|full fight|ko|knockout|...</td>\n",
       "      <td>10917519</td>\n",
       "      <td>145215</td>\n",
       "      <td>0</td>\n",
       "      <td>24488</td>\n",
       "      <td>https://i.ytimg.com/vi/DfdbNFn8rqo/default.jpg</td>\n",
       "      <td>False</td>\n",
       "      <td>False</td>\n",
       "      <td>May 7th, 2022 -- Canelo Álvarez vs. Dmitry Biv...</td>\n",
       "    </tr>\n",
       "    <tr>\n",
       "      <th>131111</th>\n",
       "      <td>DfdbNFn8rqo</td>\n",
       "      <td>FIGHT HIGHLIGHTS | Canelo Álvarez vs. Dmitry B...</td>\n",
       "      <td>2022-05-08T06:41:19Z</td>\n",
       "      <td>UCurvRE5fGcdUgCYWgh-BDsg</td>\n",
       "      <td>DAZN Boxing</td>\n",
       "      <td>17</td>\n",
       "      <td>2022-05-25T00:00:00Z</td>\n",
       "      <td>dazn|boxing|highlights|full fight|ko|knockout|...</td>\n",
       "      <td>10948956</td>\n",
       "      <td>145454</td>\n",
       "      <td>0</td>\n",
       "      <td>24521</td>\n",
       "      <td>https://i.ytimg.com/vi/DfdbNFn8rqo/default.jpg</td>\n",
       "      <td>False</td>\n",
       "      <td>False</td>\n",
       "      <td>May 7th, 2022 -- Canelo Álvarez vs. Dmitry Biv...</td>\n",
       "    </tr>\n",
       "    <tr>\n",
       "      <th>131279</th>\n",
       "      <td>DfdbNFn8rqo</td>\n",
       "      <td>FIGHT HIGHLIGHTS | Canelo Álvarez vs. Dmitry B...</td>\n",
       "      <td>2022-05-08T06:41:19Z</td>\n",
       "      <td>UCurvRE5fGcdUgCYWgh-BDsg</td>\n",
       "      <td>DAZN Boxing</td>\n",
       "      <td>17</td>\n",
       "      <td>2022-05-26T00:00:00Z</td>\n",
       "      <td>dazn|boxing|highlights|full fight|ko|knockout|...</td>\n",
       "      <td>10976690</td>\n",
       "      <td>145673</td>\n",
       "      <td>0</td>\n",
       "      <td>24551</td>\n",
       "      <td>https://i.ytimg.com/vi/DfdbNFn8rqo/default.jpg</td>\n",
       "      <td>False</td>\n",
       "      <td>False</td>\n",
       "      <td>May 7th, 2022 -- Canelo Álvarez vs. Dmitry Biv...</td>\n",
       "    </tr>\n",
       "    <tr>\n",
       "      <th>131482</th>\n",
       "      <td>DfdbNFn8rqo</td>\n",
       "      <td>FIGHT HIGHLIGHTS | Canelo Álvarez vs. Dmitry B...</td>\n",
       "      <td>2022-05-08T06:41:19Z</td>\n",
       "      <td>UCurvRE5fGcdUgCYWgh-BDsg</td>\n",
       "      <td>DAZN Boxing</td>\n",
       "      <td>17</td>\n",
       "      <td>2022-05-27T00:00:00Z</td>\n",
       "      <td>dazn|boxing|highlights|full fight|ko|knockout|...</td>\n",
       "      <td>11002538</td>\n",
       "      <td>145893</td>\n",
       "      <td>0</td>\n",
       "      <td>24590</td>\n",
       "      <td>https://i.ytimg.com/vi/DfdbNFn8rqo/default.jpg</td>\n",
       "      <td>False</td>\n",
       "      <td>False</td>\n",
       "      <td>May 7th, 2022 -- Canelo Álvarez vs. Dmitry Biv...</td>\n",
       "    </tr>\n",
       "    <tr>\n",
       "      <th>131718</th>\n",
       "      <td>DfdbNFn8rqo</td>\n",
       "      <td>FIGHT HIGHLIGHTS | Canelo Álvarez vs. Dmitry B...</td>\n",
       "      <td>2022-05-08T06:41:19Z</td>\n",
       "      <td>UCurvRE5fGcdUgCYWgh-BDsg</td>\n",
       "      <td>DAZN Boxing</td>\n",
       "      <td>17</td>\n",
       "      <td>2022-05-28T00:00:00Z</td>\n",
       "      <td>dazn|boxing|highlights|full fight|ko|knockout|...</td>\n",
       "      <td>11027188</td>\n",
       "      <td>146066</td>\n",
       "      <td>0</td>\n",
       "      <td>24559</td>\n",
       "      <td>https://i.ytimg.com/vi/DfdbNFn8rqo/default.jpg</td>\n",
       "      <td>False</td>\n",
       "      <td>False</td>\n",
       "      <td>May 7th, 2022 -- Canelo Álvarez vs. Dmitry Biv...</td>\n",
       "    </tr>\n",
       "    <tr>\n",
       "      <th>131937</th>\n",
       "      <td>DfdbNFn8rqo</td>\n",
       "      <td>FIGHT HIGHLIGHTS | Canelo Álvarez vs. Dmitry B...</td>\n",
       "      <td>2022-05-08T06:41:19Z</td>\n",
       "      <td>UCurvRE5fGcdUgCYWgh-BDsg</td>\n",
       "      <td>DAZN Boxing</td>\n",
       "      <td>17</td>\n",
       "      <td>2022-05-29T00:00:00Z</td>\n",
       "      <td>dazn|boxing|highlights|full fight|ko|knockout|...</td>\n",
       "      <td>11054419</td>\n",
       "      <td>146253</td>\n",
       "      <td>0</td>\n",
       "      <td>24590</td>\n",
       "      <td>https://i.ytimg.com/vi/DfdbNFn8rqo/default.jpg</td>\n",
       "      <td>False</td>\n",
       "      <td>False</td>\n",
       "      <td>May 7th, 2022 -- Canelo Álvarez vs. Dmitry Biv...</td>\n",
       "    </tr>\n",
       "    <tr>\n",
       "      <th>132151</th>\n",
       "      <td>DfdbNFn8rqo</td>\n",
       "      <td>FIGHT HIGHLIGHTS | Canelo Álvarez vs. Dmitry B...</td>\n",
       "      <td>2022-05-08T06:41:19Z</td>\n",
       "      <td>UCurvRE5fGcdUgCYWgh-BDsg</td>\n",
       "      <td>DAZN Boxing</td>\n",
       "      <td>17</td>\n",
       "      <td>2022-05-30T00:00:00Z</td>\n",
       "      <td>dazn|boxing|highlights|full fight|ko|knockout|...</td>\n",
       "      <td>11079864</td>\n",
       "      <td>146450</td>\n",
       "      <td>0</td>\n",
       "      <td>24604</td>\n",
       "      <td>https://i.ytimg.com/vi/DfdbNFn8rqo/default.jpg</td>\n",
       "      <td>False</td>\n",
       "      <td>False</td>\n",
       "      <td>May 7th, 2022 -- Canelo Álvarez vs. Dmitry Biv...</td>\n",
       "    </tr>\n",
       "    <tr>\n",
       "      <th>132342</th>\n",
       "      <td>DfdbNFn8rqo</td>\n",
       "      <td>FIGHT HIGHLIGHTS | Canelo Álvarez vs. Dmitry B...</td>\n",
       "      <td>2022-05-08T06:41:19Z</td>\n",
       "      <td>UCurvRE5fGcdUgCYWgh-BDsg</td>\n",
       "      <td>DAZN Boxing</td>\n",
       "      <td>17</td>\n",
       "      <td>2022-05-31T00:00:00Z</td>\n",
       "      <td>dazn|boxing|highlights|full fight|ko|knockout|...</td>\n",
       "      <td>11107335</td>\n",
       "      <td>146677</td>\n",
       "      <td>0</td>\n",
       "      <td>24586</td>\n",
       "      <td>https://i.ytimg.com/vi/DfdbNFn8rqo/default.jpg</td>\n",
       "      <td>False</td>\n",
       "      <td>False</td>\n",
       "      <td>May 7th, 2022 -- Canelo Álvarez vs. Dmitry Biv...</td>\n",
       "    </tr>\n",
       "    <tr>\n",
       "      <th>132551</th>\n",
       "      <td>DfdbNFn8rqo</td>\n",
       "      <td>FIGHT HIGHLIGHTS | Canelo Álvarez vs. Dmitry B...</td>\n",
       "      <td>2022-05-08T06:41:19Z</td>\n",
       "      <td>UCurvRE5fGcdUgCYWgh-BDsg</td>\n",
       "      <td>DAZN Boxing</td>\n",
       "      <td>17</td>\n",
       "      <td>2022-06-01T00:00:00Z</td>\n",
       "      <td>dazn|boxing|highlights|full fight|ko|knockout|...</td>\n",
       "      <td>11122131</td>\n",
       "      <td>146786</td>\n",
       "      <td>0</td>\n",
       "      <td>24594</td>\n",
       "      <td>https://i.ytimg.com/vi/DfdbNFn8rqo/default.jpg</td>\n",
       "      <td>False</td>\n",
       "      <td>False</td>\n",
       "      <td>May 7th, 2022 -- Canelo Álvarez vs. Dmitry Biv...</td>\n",
       "    </tr>\n",
       "    <tr>\n",
       "      <th>132754</th>\n",
       "      <td>DfdbNFn8rqo</td>\n",
       "      <td>FIGHT HIGHLIGHTS | Canelo Álvarez vs. Dmitry B...</td>\n",
       "      <td>2022-05-08T06:41:19Z</td>\n",
       "      <td>UCurvRE5fGcdUgCYWgh-BDsg</td>\n",
       "      <td>DAZN Boxing</td>\n",
       "      <td>17</td>\n",
       "      <td>2022-06-02T00:00:00Z</td>\n",
       "      <td>dazn|boxing|highlights|full fight|ko|knockout|...</td>\n",
       "      <td>11139548</td>\n",
       "      <td>146933</td>\n",
       "      <td>0</td>\n",
       "      <td>24613</td>\n",
       "      <td>https://i.ytimg.com/vi/DfdbNFn8rqo/default.jpg</td>\n",
       "      <td>False</td>\n",
       "      <td>False</td>\n",
       "      <td>May 7th, 2022 -- Canelo Álvarez vs. Dmitry Biv...</td>\n",
       "    </tr>\n",
       "    <tr>\n",
       "      <th>132945</th>\n",
       "      <td>DfdbNFn8rqo</td>\n",
       "      <td>FIGHT HIGHLIGHTS | Canelo Álvarez vs. Dmitry B...</td>\n",
       "      <td>2022-05-08T06:41:19Z</td>\n",
       "      <td>UCurvRE5fGcdUgCYWgh-BDsg</td>\n",
       "      <td>DAZN Boxing</td>\n",
       "      <td>17</td>\n",
       "      <td>2022-06-03T00:00:00Z</td>\n",
       "      <td>dazn|boxing|highlights|full fight|ko|knockout|...</td>\n",
       "      <td>11156219</td>\n",
       "      <td>147023</td>\n",
       "      <td>0</td>\n",
       "      <td>24629</td>\n",
       "      <td>https://i.ytimg.com/vi/DfdbNFn8rqo/default.jpg</td>\n",
       "      <td>False</td>\n",
       "      <td>False</td>\n",
       "      <td>May 7th, 2022 -- Canelo Álvarez vs. Dmitry Biv...</td>\n",
       "    </tr>\n",
       "    <tr>\n",
       "      <th>133163</th>\n",
       "      <td>DfdbNFn8rqo</td>\n",
       "      <td>FIGHT HIGHLIGHTS | Canelo Álvarez vs. Dmitry B...</td>\n",
       "      <td>2022-05-08T06:41:19Z</td>\n",
       "      <td>UCurvRE5fGcdUgCYWgh-BDsg</td>\n",
       "      <td>DAZN Boxing</td>\n",
       "      <td>17</td>\n",
       "      <td>2022-06-04T00:00:00Z</td>\n",
       "      <td>dazn|boxing|highlights|full fight|ko|knockout|...</td>\n",
       "      <td>11172970</td>\n",
       "      <td>147133</td>\n",
       "      <td>0</td>\n",
       "      <td>24644</td>\n",
       "      <td>https://i.ytimg.com/vi/DfdbNFn8rqo/default.jpg</td>\n",
       "      <td>False</td>\n",
       "      <td>False</td>\n",
       "      <td>May 7th, 2022 -- Canelo Álvarez vs. Dmitry Biv...</td>\n",
       "    </tr>\n",
       "    <tr>\n",
       "      <th>133780</th>\n",
       "      <td>DfdbNFn8rqo</td>\n",
       "      <td>FIGHT HIGHLIGHTS | Canelo Álvarez vs. Dmitry B...</td>\n",
       "      <td>2022-05-08T06:41:19Z</td>\n",
       "      <td>UCurvRE5fGcdUgCYWgh-BDsg</td>\n",
       "      <td>DAZN Boxing</td>\n",
       "      <td>17</td>\n",
       "      <td>2022-06-07T00:00:00Z</td>\n",
       "      <td>dazn|boxing|highlights|full fight|ko|knockout|...</td>\n",
       "      <td>11221495</td>\n",
       "      <td>147481</td>\n",
       "      <td>0</td>\n",
       "      <td>24679</td>\n",
       "      <td>https://i.ytimg.com/vi/DfdbNFn8rqo/default.jpg</td>\n",
       "      <td>False</td>\n",
       "      <td>False</td>\n",
       "      <td>May 7th, 2022 -- Canelo Álvarez vs. Dmitry Biv...</td>\n",
       "    </tr>\n",
       "  </tbody>\n",
       "</table>\n",
       "</div>"
      ],
      "text/plain": [
       "           video_id                                              title  \\\n",
       "127791  DfdbNFn8rqo  FIGHT HIGHLIGHTS | Canelo Álvarez vs. Dmitry B...   \n",
       "127993  DfdbNFn8rqo  FIGHT HIGHLIGHTS | Canelo Álvarez vs. Dmitry B...   \n",
       "128202  DfdbNFn8rqo  FIGHT HIGHLIGHTS | Canelo Álvarez vs. Dmitry B...   \n",
       "128421  DfdbNFn8rqo  FIGHT HIGHLIGHTS | Canelo Álvarez vs. Dmitry B...   \n",
       "128650  DfdbNFn8rqo  FIGHT HIGHLIGHTS | Canelo Álvarez vs. Dmitry B...   \n",
       "128847  DfdbNFn8rqo  FIGHT HIGHLIGHTS | Canelo Álvarez vs. Dmitry B...   \n",
       "129081  DfdbNFn8rqo  FIGHT HIGHLIGHTS | Canelo Álvarez vs. Dmitry B...   \n",
       "129299  DfdbNFn8rqo  FIGHT HIGHLIGHTS | Canelo Álvarez vs. Dmitry B...   \n",
       "129510  DfdbNFn8rqo  FIGHT HIGHLIGHTS | Canelo Álvarez vs. Dmitry B...   \n",
       "129721  DfdbNFn8rqo  FIGHT HIGHLIGHTS | Canelo Álvarez vs. Dmitry B...   \n",
       "129932  DfdbNFn8rqo  FIGHT HIGHLIGHTS | Canelo Álvarez vs. Dmitry B...   \n",
       "130104  DfdbNFn8rqo  FIGHT HIGHLIGHTS | Canelo Álvarez vs. Dmitry B...   \n",
       "130280  DfdbNFn8rqo  FIGHT HIGHLIGHTS | Canelo Álvarez vs. Dmitry B...   \n",
       "130493  DfdbNFn8rqo  FIGHT HIGHLIGHTS | Canelo Álvarez vs. Dmitry B...   \n",
       "130695  DfdbNFn8rqo  FIGHT HIGHLIGHTS | Canelo Álvarez vs. Dmitry B...   \n",
       "130906  DfdbNFn8rqo  FIGHT HIGHLIGHTS | Canelo Álvarez vs. Dmitry B...   \n",
       "131111  DfdbNFn8rqo  FIGHT HIGHLIGHTS | Canelo Álvarez vs. Dmitry B...   \n",
       "131279  DfdbNFn8rqo  FIGHT HIGHLIGHTS | Canelo Álvarez vs. Dmitry B...   \n",
       "131482  DfdbNFn8rqo  FIGHT HIGHLIGHTS | Canelo Álvarez vs. Dmitry B...   \n",
       "131718  DfdbNFn8rqo  FIGHT HIGHLIGHTS | Canelo Álvarez vs. Dmitry B...   \n",
       "131937  DfdbNFn8rqo  FIGHT HIGHLIGHTS | Canelo Álvarez vs. Dmitry B...   \n",
       "132151  DfdbNFn8rqo  FIGHT HIGHLIGHTS | Canelo Álvarez vs. Dmitry B...   \n",
       "132342  DfdbNFn8rqo  FIGHT HIGHLIGHTS | Canelo Álvarez vs. Dmitry B...   \n",
       "132551  DfdbNFn8rqo  FIGHT HIGHLIGHTS | Canelo Álvarez vs. Dmitry B...   \n",
       "132754  DfdbNFn8rqo  FIGHT HIGHLIGHTS | Canelo Álvarez vs. Dmitry B...   \n",
       "132945  DfdbNFn8rqo  FIGHT HIGHLIGHTS | Canelo Álvarez vs. Dmitry B...   \n",
       "133163  DfdbNFn8rqo  FIGHT HIGHLIGHTS | Canelo Álvarez vs. Dmitry B...   \n",
       "133780  DfdbNFn8rqo  FIGHT HIGHLIGHTS | Canelo Álvarez vs. Dmitry B...   \n",
       "\n",
       "                 publishedAt                 channelId channelTitle  \\\n",
       "127791  2022-05-08T06:41:19Z  UCurvRE5fGcdUgCYWgh-BDsg  DAZN Boxing   \n",
       "127993  2022-05-08T06:41:19Z  UCurvRE5fGcdUgCYWgh-BDsg  DAZN Boxing   \n",
       "128202  2022-05-08T06:41:19Z  UCurvRE5fGcdUgCYWgh-BDsg  DAZN Boxing   \n",
       "128421  2022-05-08T06:41:19Z  UCurvRE5fGcdUgCYWgh-BDsg  DAZN Boxing   \n",
       "128650  2022-05-08T06:41:19Z  UCurvRE5fGcdUgCYWgh-BDsg  DAZN Boxing   \n",
       "128847  2022-05-08T06:41:19Z  UCurvRE5fGcdUgCYWgh-BDsg  DAZN Boxing   \n",
       "129081  2022-05-08T06:41:19Z  UCurvRE5fGcdUgCYWgh-BDsg  DAZN Boxing   \n",
       "129299  2022-05-08T06:41:19Z  UCurvRE5fGcdUgCYWgh-BDsg  DAZN Boxing   \n",
       "129510  2022-05-08T06:41:19Z  UCurvRE5fGcdUgCYWgh-BDsg  DAZN Boxing   \n",
       "129721  2022-05-08T06:41:19Z  UCurvRE5fGcdUgCYWgh-BDsg  DAZN Boxing   \n",
       "129932  2022-05-08T06:41:19Z  UCurvRE5fGcdUgCYWgh-BDsg  DAZN Boxing   \n",
       "130104  2022-05-08T06:41:19Z  UCurvRE5fGcdUgCYWgh-BDsg  DAZN Boxing   \n",
       "130280  2022-05-08T06:41:19Z  UCurvRE5fGcdUgCYWgh-BDsg  DAZN Boxing   \n",
       "130493  2022-05-08T06:41:19Z  UCurvRE5fGcdUgCYWgh-BDsg  DAZN Boxing   \n",
       "130695  2022-05-08T06:41:19Z  UCurvRE5fGcdUgCYWgh-BDsg  DAZN Boxing   \n",
       "130906  2022-05-08T06:41:19Z  UCurvRE5fGcdUgCYWgh-BDsg  DAZN Boxing   \n",
       "131111  2022-05-08T06:41:19Z  UCurvRE5fGcdUgCYWgh-BDsg  DAZN Boxing   \n",
       "131279  2022-05-08T06:41:19Z  UCurvRE5fGcdUgCYWgh-BDsg  DAZN Boxing   \n",
       "131482  2022-05-08T06:41:19Z  UCurvRE5fGcdUgCYWgh-BDsg  DAZN Boxing   \n",
       "131718  2022-05-08T06:41:19Z  UCurvRE5fGcdUgCYWgh-BDsg  DAZN Boxing   \n",
       "131937  2022-05-08T06:41:19Z  UCurvRE5fGcdUgCYWgh-BDsg  DAZN Boxing   \n",
       "132151  2022-05-08T06:41:19Z  UCurvRE5fGcdUgCYWgh-BDsg  DAZN Boxing   \n",
       "132342  2022-05-08T06:41:19Z  UCurvRE5fGcdUgCYWgh-BDsg  DAZN Boxing   \n",
       "132551  2022-05-08T06:41:19Z  UCurvRE5fGcdUgCYWgh-BDsg  DAZN Boxing   \n",
       "132754  2022-05-08T06:41:19Z  UCurvRE5fGcdUgCYWgh-BDsg  DAZN Boxing   \n",
       "132945  2022-05-08T06:41:19Z  UCurvRE5fGcdUgCYWgh-BDsg  DAZN Boxing   \n",
       "133163  2022-05-08T06:41:19Z  UCurvRE5fGcdUgCYWgh-BDsg  DAZN Boxing   \n",
       "133780  2022-05-08T06:41:19Z  UCurvRE5fGcdUgCYWgh-BDsg  DAZN Boxing   \n",
       "\n",
       "        categoryId         trending_date  \\\n",
       "127791          17  2022-05-09T00:00:00Z   \n",
       "127993          17  2022-05-10T00:00:00Z   \n",
       "128202          17  2022-05-11T00:00:00Z   \n",
       "128421          17  2022-05-12T00:00:00Z   \n",
       "128650          17  2022-05-13T00:00:00Z   \n",
       "128847          17  2022-05-14T00:00:00Z   \n",
       "129081          17  2022-05-15T00:00:00Z   \n",
       "129299          17  2022-05-16T00:00:00Z   \n",
       "129510          17  2022-05-17T00:00:00Z   \n",
       "129721          17  2022-05-18T00:00:00Z   \n",
       "129932          17  2022-05-19T00:00:00Z   \n",
       "130104          17  2022-05-20T00:00:00Z   \n",
       "130280          17  2022-05-21T00:00:00Z   \n",
       "130493          17  2022-05-22T00:00:00Z   \n",
       "130695          17  2022-05-23T00:00:00Z   \n",
       "130906          17  2022-05-24T00:00:00Z   \n",
       "131111          17  2022-05-25T00:00:00Z   \n",
       "131279          17  2022-05-26T00:00:00Z   \n",
       "131482          17  2022-05-27T00:00:00Z   \n",
       "131718          17  2022-05-28T00:00:00Z   \n",
       "131937          17  2022-05-29T00:00:00Z   \n",
       "132151          17  2022-05-30T00:00:00Z   \n",
       "132342          17  2022-05-31T00:00:00Z   \n",
       "132551          17  2022-06-01T00:00:00Z   \n",
       "132754          17  2022-06-02T00:00:00Z   \n",
       "132945          17  2022-06-03T00:00:00Z   \n",
       "133163          17  2022-06-04T00:00:00Z   \n",
       "133780          17  2022-06-07T00:00:00Z   \n",
       "\n",
       "                                                     tags  view_count   likes  \\\n",
       "127791  dazn|boxing|highlights|full fight|ko|knockout|...     6880704  106458   \n",
       "127993  dazn|boxing|highlights|full fight|ko|knockout|...     8118095  119878   \n",
       "128202  dazn|boxing|highlights|full fight|ko|knockout|...     9042449  128118   \n",
       "128421  dazn|boxing|highlights|full fight|ko|knockout|...     9594480  133356   \n",
       "128650  dazn|boxing|highlights|full fight|ko|knockout|...     9951568  136598   \n",
       "128847  dazn|boxing|highlights|full fight|ko|knockout|...    10179824  138835   \n",
       "129081  dazn|boxing|highlights|full fight|ko|knockout|...    10361698  140456   \n",
       "129299  dazn|boxing|highlights|full fight|ko|knockout|...    10494813  141653   \n",
       "129510  dazn|boxing|highlights|full fight|ko|knockout|...    10585335  142511   \n",
       "129721  dazn|boxing|highlights|full fight|ko|knockout|...    10667898  143242   \n",
       "129932  dazn|boxing|highlights|full fight|ko|knockout|...    10723271  143706   \n",
       "130104  dazn|boxing|highlights|full fight|ko|knockout|...    10768393  144080   \n",
       "130280  dazn|boxing|highlights|full fight|ko|knockout|...    10810702  144416   \n",
       "130493  dazn|boxing|highlights|full fight|ko|knockout|...    10853048  144714   \n",
       "130695  dazn|boxing|highlights|full fight|ko|knockout|...    10888383  144977   \n",
       "130906  dazn|boxing|highlights|full fight|ko|knockout|...    10917519  145215   \n",
       "131111  dazn|boxing|highlights|full fight|ko|knockout|...    10948956  145454   \n",
       "131279  dazn|boxing|highlights|full fight|ko|knockout|...    10976690  145673   \n",
       "131482  dazn|boxing|highlights|full fight|ko|knockout|...    11002538  145893   \n",
       "131718  dazn|boxing|highlights|full fight|ko|knockout|...    11027188  146066   \n",
       "131937  dazn|boxing|highlights|full fight|ko|knockout|...    11054419  146253   \n",
       "132151  dazn|boxing|highlights|full fight|ko|knockout|...    11079864  146450   \n",
       "132342  dazn|boxing|highlights|full fight|ko|knockout|...    11107335  146677   \n",
       "132551  dazn|boxing|highlights|full fight|ko|knockout|...    11122131  146786   \n",
       "132754  dazn|boxing|highlights|full fight|ko|knockout|...    11139548  146933   \n",
       "132945  dazn|boxing|highlights|full fight|ko|knockout|...    11156219  147023   \n",
       "133163  dazn|boxing|highlights|full fight|ko|knockout|...    11172970  147133   \n",
       "133780  dazn|boxing|highlights|full fight|ko|knockout|...    11221495  147481   \n",
       "\n",
       "        dislikes  comment_count  \\\n",
       "127791         0          19059   \n",
       "127993         0          20979   \n",
       "128202         0          22001   \n",
       "128421         0          22704   \n",
       "128650         0          23204   \n",
       "128847         0          23513   \n",
       "129081         0          23741   \n",
       "129299         0          23891   \n",
       "129510         0          24040   \n",
       "129721         0          24190   \n",
       "129932         0          24217   \n",
       "130104         0          24276   \n",
       "130280         0          24338   \n",
       "130493         0          24404   \n",
       "130695         0          24436   \n",
       "130906         0          24488   \n",
       "131111         0          24521   \n",
       "131279         0          24551   \n",
       "131482         0          24590   \n",
       "131718         0          24559   \n",
       "131937         0          24590   \n",
       "132151         0          24604   \n",
       "132342         0          24586   \n",
       "132551         0          24594   \n",
       "132754         0          24613   \n",
       "132945         0          24629   \n",
       "133163         0          24644   \n",
       "133780         0          24679   \n",
       "\n",
       "                                        thumbnail_link  comments_disabled  \\\n",
       "127791  https://i.ytimg.com/vi/DfdbNFn8rqo/default.jpg              False   \n",
       "127993  https://i.ytimg.com/vi/DfdbNFn8rqo/default.jpg              False   \n",
       "128202  https://i.ytimg.com/vi/DfdbNFn8rqo/default.jpg              False   \n",
       "128421  https://i.ytimg.com/vi/DfdbNFn8rqo/default.jpg              False   \n",
       "128650  https://i.ytimg.com/vi/DfdbNFn8rqo/default.jpg              False   \n",
       "128847  https://i.ytimg.com/vi/DfdbNFn8rqo/default.jpg              False   \n",
       "129081  https://i.ytimg.com/vi/DfdbNFn8rqo/default.jpg              False   \n",
       "129299  https://i.ytimg.com/vi/DfdbNFn8rqo/default.jpg              False   \n",
       "129510  https://i.ytimg.com/vi/DfdbNFn8rqo/default.jpg              False   \n",
       "129721  https://i.ytimg.com/vi/DfdbNFn8rqo/default.jpg              False   \n",
       "129932  https://i.ytimg.com/vi/DfdbNFn8rqo/default.jpg              False   \n",
       "130104  https://i.ytimg.com/vi/DfdbNFn8rqo/default.jpg              False   \n",
       "130280  https://i.ytimg.com/vi/DfdbNFn8rqo/default.jpg              False   \n",
       "130493  https://i.ytimg.com/vi/DfdbNFn8rqo/default.jpg              False   \n",
       "130695  https://i.ytimg.com/vi/DfdbNFn8rqo/default.jpg              False   \n",
       "130906  https://i.ytimg.com/vi/DfdbNFn8rqo/default.jpg              False   \n",
       "131111  https://i.ytimg.com/vi/DfdbNFn8rqo/default.jpg              False   \n",
       "131279  https://i.ytimg.com/vi/DfdbNFn8rqo/default.jpg              False   \n",
       "131482  https://i.ytimg.com/vi/DfdbNFn8rqo/default.jpg              False   \n",
       "131718  https://i.ytimg.com/vi/DfdbNFn8rqo/default.jpg              False   \n",
       "131937  https://i.ytimg.com/vi/DfdbNFn8rqo/default.jpg              False   \n",
       "132151  https://i.ytimg.com/vi/DfdbNFn8rqo/default.jpg              False   \n",
       "132342  https://i.ytimg.com/vi/DfdbNFn8rqo/default.jpg              False   \n",
       "132551  https://i.ytimg.com/vi/DfdbNFn8rqo/default.jpg              False   \n",
       "132754  https://i.ytimg.com/vi/DfdbNFn8rqo/default.jpg              False   \n",
       "132945  https://i.ytimg.com/vi/DfdbNFn8rqo/default.jpg              False   \n",
       "133163  https://i.ytimg.com/vi/DfdbNFn8rqo/default.jpg              False   \n",
       "133780  https://i.ytimg.com/vi/DfdbNFn8rqo/default.jpg              False   \n",
       "\n",
       "        ratings_disabled                                        description  \n",
       "127791             False  May 7th, 2022 -- Canelo Álvarez vs. Dmitry Biv...  \n",
       "127993             False  May 7th, 2022 -- Canelo Álvarez vs. Dmitry Biv...  \n",
       "128202             False  May 7th, 2022 -- Canelo Álvarez vs. Dmitry Biv...  \n",
       "128421             False  May 7th, 2022 -- Canelo Álvarez vs. Dmitry Biv...  \n",
       "128650             False  May 7th, 2022 -- Canelo Álvarez vs. Dmitry Biv...  \n",
       "128847             False  May 7th, 2022 -- Canelo Álvarez vs. Dmitry Biv...  \n",
       "129081             False  May 7th, 2022 -- Canelo Álvarez vs. Dmitry Biv...  \n",
       "129299             False  May 7th, 2022 -- Canelo Álvarez vs. Dmitry Biv...  \n",
       "129510             False  May 7th, 2022 -- Canelo Álvarez vs. Dmitry Biv...  \n",
       "129721             False  May 7th, 2022 -- Canelo Álvarez vs. Dmitry Biv...  \n",
       "129932             False  May 7th, 2022 -- Canelo Álvarez vs. Dmitry Biv...  \n",
       "130104             False  May 7th, 2022 -- Canelo Álvarez vs. Dmitry Biv...  \n",
       "130280             False  May 7th, 2022 -- Canelo Álvarez vs. Dmitry Biv...  \n",
       "130493             False  May 7th, 2022 -- Canelo Álvarez vs. Dmitry Biv...  \n",
       "130695             False  May 7th, 2022 -- Canelo Álvarez vs. Dmitry Biv...  \n",
       "130906             False  May 7th, 2022 -- Canelo Álvarez vs. Dmitry Biv...  \n",
       "131111             False  May 7th, 2022 -- Canelo Álvarez vs. Dmitry Biv...  \n",
       "131279             False  May 7th, 2022 -- Canelo Álvarez vs. Dmitry Biv...  \n",
       "131482             False  May 7th, 2022 -- Canelo Álvarez vs. Dmitry Biv...  \n",
       "131718             False  May 7th, 2022 -- Canelo Álvarez vs. Dmitry Biv...  \n",
       "131937             False  May 7th, 2022 -- Canelo Álvarez vs. Dmitry Biv...  \n",
       "132151             False  May 7th, 2022 -- Canelo Álvarez vs. Dmitry Biv...  \n",
       "132342             False  May 7th, 2022 -- Canelo Álvarez vs. Dmitry Biv...  \n",
       "132551             False  May 7th, 2022 -- Canelo Álvarez vs. Dmitry Biv...  \n",
       "132754             False  May 7th, 2022 -- Canelo Álvarez vs. Dmitry Biv...  \n",
       "132945             False  May 7th, 2022 -- Canelo Álvarez vs. Dmitry Biv...  \n",
       "133163             False  May 7th, 2022 -- Canelo Álvarez vs. Dmitry Biv...  \n",
       "133780             False  May 7th, 2022 -- Canelo Álvarez vs. Dmitry Biv...  "
      ]
     },
     "execution_count": 13,
     "metadata": {},
     "output_type": "execute_result"
    }
   ],
   "source": [
    "# This code shows an example of how a randomly chosen video_id has continuous trending_dates\n",
    "\n",
    "example_id = data['video_id'].value_counts().sort_values(ascending = False).index[np.random.randint(10,20)]\n",
    "\n",
    "data[data['video_id'] == example_id]"
   ]
  },
  {
   "cell_type": "markdown",
   "id": "cc5eb90a",
   "metadata": {},
   "source": [
    "We can see that there has been no change in data in any fields except the trending date column, since the video has been continuously present in the trending list since the published date only the trending date is getting updated everyday."
   ]
  },
  {
   "cell_type": "markdown",
   "id": "b0743fc2",
   "metadata": {},
   "source": [
    "- We also observed that the data has certain important columns missing in it. Such as `VideoDuration` and `Comments` of video which are very useful for further analysis.\n",
    "- We used `video_id` to extract the data from `YOUTUBE API`.\n",
    "- The link for the Youtube API is: https://developers.google.com/youtube/v3/quickstart/python"
   ]
  },
  {
   "cell_type": "markdown",
   "id": "d9aad320",
   "metadata": {},
   "source": [
    "### Extracting `Duration` and `Comments` from Youtube API"
   ]
  },
  {
   "cell_type": "code",
   "execution_count": 14,
   "id": "980bb134",
   "metadata": {},
   "outputs": [],
   "source": [
    "# First let's get unique video ids from the video_id column in dataframe\n",
    "\n",
    "videos_list = data['video_id'].unique()"
   ]
  },
  {
   "cell_type": "code",
   "execution_count": 15,
   "id": "c84a08a4",
   "metadata": {},
   "outputs": [],
   "source": [
    "# The API_KEY is not displayed for security purposes\n",
    "\n",
    "api_key = \"*********************************\""
   ]
  },
  {
   "cell_type": "code",
   "execution_count": 16,
   "id": "6664c7a4",
   "metadata": {},
   "outputs": [],
   "source": [
    "# This fuction is used to extract 'Duration' and 'Comments' of a provided video_id\n",
    "\n",
    "def get_video_info(vid_id, api_key):\n",
    "    api_service_name = \"youtube\"\n",
    "    api_version = \"v3\"\n",
    "\n",
    "    youtube = googleapiclient.discovery.build(\n",
    "        api_service_name, api_version, developerKey=api_key)\n",
    "\n",
    "    request = youtube.videos().list(\n",
    "        part=\"snippet,contentDetails,statistics,status\",\n",
    "        id=vid_id\n",
    "    )\n",
    "    \n",
    "    response = request.execute()\n",
    "    \n",
    "    info_temp = []\n",
    "    info_temp.append(vid_id)\n",
    "    info_temp.append(response['items'][0]['contentDetails']['duration'])\n",
    "    info_temp.append(response['items'][0]['status']['madeForKids'])\n",
    "    \n",
    "    youtube = googleapiclient.discovery.build(\n",
    "    api_service_name, api_version, developerKey = api_key)\n",
    "\n",
    "    request = youtube.commentThreads().list(\n",
    "        part=\"snippet,replies\",\n",
    "        videoId=vid_id,\n",
    "        textFormat = \"plainText\",\n",
    "        order = \"relevance\"\n",
    "    )\n",
    "    response_comments = request.execute()\n",
    "    \n",
    "    info_temp.append([response_comments['items'][i]['snippet']['topLevelComment']['snippet']['textOriginal'] for i in range(20)])\n",
    "    \n",
    "    \n",
    "    return info_temp\n",
    "\n",
    "\n",
    "\n",
    "# This function is used to create a dataframe from the list of video_ids in video_list and save it in the repository.\n",
    "# Start and end number is the range of video_ids you want the data for.\n",
    "\n",
    "def data_to_csv(videos_list, start_number, end_number):\n",
    "    print(\"Code Running\")\n",
    "    video_info = []\n",
    "    deleted_videos = []\n",
    "    \n",
    "    for vid_id in videos_list[start_number : end_number]:\n",
    "        try:\n",
    "            video_info.append(get_video_info(vid_id, api_key))\n",
    "        except:\n",
    "            deleted_videos.append(vid_id)\n",
    "    \n",
    "    print(\"Number of videos extracted =\", len(video_info))\n",
    "    print(\"Number of video deleted =\", len(deleted_videos))\n",
    "    \n",
    "    df = pd.DataFrame(video_info, columns = ['video_id', 'Duration', 'madeForKids', 'Comments'])\n",
    "    df.to_csv('./YoutubeDataFiles/Data_' + str(start_number) + '_' + str(end_number) + '.csv')\n",
    "    \n",
    "    \n",
    "# Saving the data to a .csv file by calling the funciton\n",
    "\n",
    "#data_to_csv(videos_list, 0, 5000)"
   ]
  },
  {
   "cell_type": "markdown",
   "id": "c3aa7fae",
   "metadata": {},
   "source": [
    "- Although it was possible to extract all the video_ids at once. It would cost money if you were to extract more than 5000.\n",
    "- Hence, we used different API_KEYS and various start & end_numbers to save the files in the repository.\n",
    "- The files are stored in `./YoutubeDataFiles` directory.\n",
    "- The .csv files follow the convention `Data_startnumber_endnumber.csv`."
   ]
  },
  {
   "cell_type": "code",
   "execution_count": 17,
   "id": "21c09713",
   "metadata": {
    "scrolled": true
   },
   "outputs": [
    {
     "data": {
      "text/html": [
       "<div>\n",
       "<style scoped>\n",
       "    .dataframe tbody tr th:only-of-type {\n",
       "        vertical-align: middle;\n",
       "    }\n",
       "\n",
       "    .dataframe tbody tr th {\n",
       "        vertical-align: top;\n",
       "    }\n",
       "\n",
       "    .dataframe thead th {\n",
       "        text-align: right;\n",
       "    }\n",
       "</style>\n",
       "<table border=\"1\" class=\"dataframe\">\n",
       "  <thead>\n",
       "    <tr style=\"text-align: right;\">\n",
       "      <th></th>\n",
       "      <th>video_id</th>\n",
       "      <th>videoDuration</th>\n",
       "      <th>madeForKids</th>\n",
       "      <th>Comments</th>\n",
       "    </tr>\n",
       "  </thead>\n",
       "  <tbody>\n",
       "    <tr>\n",
       "      <th>0</th>\n",
       "      <td>3C66w5Z0ixs</td>\n",
       "      <td>PT18M38S</td>\n",
       "      <td>False</td>\n",
       "      <td>['*Whether she moved on, whether she’s been se...</td>\n",
       "    </tr>\n",
       "    <tr>\n",
       "      <th>1</th>\n",
       "      <td>M9Pmf9AB4Mo</td>\n",
       "      <td>PT2M18S</td>\n",
       "      <td>False</td>\n",
       "      <td>['She was fighting two squads and got flanked,...</td>\n",
       "    </tr>\n",
       "    <tr>\n",
       "      <th>2</th>\n",
       "      <td>J78aPJ3VyNs</td>\n",
       "      <td>PT22M10S</td>\n",
       "      <td>False</td>\n",
       "      <td>[\"Let's see what memes you cooked up while I w...</td>\n",
       "    </tr>\n",
       "    <tr>\n",
       "      <th>3</th>\n",
       "      <td>kXLn3HkpjaA</td>\n",
       "      <td>PT1M1S</td>\n",
       "      <td>False</td>\n",
       "      <td>['Which 2020 XXL Freshman is your favorite?', ...</td>\n",
       "    </tr>\n",
       "    <tr>\n",
       "      <th>4</th>\n",
       "      <td>VIUo6yapDbc</td>\n",
       "      <td>PT37M20S</td>\n",
       "      <td>False</td>\n",
       "      <td>['WE’RE SO OBSESSED!!!! Thank you guys times a...</td>\n",
       "    </tr>\n",
       "  </tbody>\n",
       "</table>\n",
       "</div>"
      ],
      "text/plain": [
       "      video_id videoDuration  madeForKids  \\\n",
       "0  3C66w5Z0ixs      PT18M38S        False   \n",
       "1  M9Pmf9AB4Mo       PT2M18S        False   \n",
       "2  J78aPJ3VyNs      PT22M10S        False   \n",
       "3  kXLn3HkpjaA        PT1M1S        False   \n",
       "4  VIUo6yapDbc      PT37M20S        False   \n",
       "\n",
       "                                            Comments  \n",
       "0  ['*Whether she moved on, whether she’s been se...  \n",
       "1  ['She was fighting two squads and got flanked,...  \n",
       "2  [\"Let's see what memes you cooked up while I w...  \n",
       "3  ['Which 2020 XXL Freshman is your favorite?', ...  \n",
       "4  ['WE’RE SO OBSESSED!!!! Thank you guys times a...  "
      ]
     },
     "execution_count": 17,
     "metadata": {},
     "output_type": "execute_result"
    }
   ],
   "source": [
    "# Let's read the 'extracted files' in and merge them to merge with original Dataframe\n",
    "\n",
    "extracted_df = pd.concat([pd.read_csv('./YoutubeDataFiles/' + file_csv, index_col = 0) for file_csv in os.listdir('./YoutubeDataFiles')],\n",
    "                          ignore_index = True)\n",
    "\n",
    "extracted_df.columns = ['video_id', 'videoDuration', 'madeForKids', 'Comments']\n",
    "\n",
    "extracted_df.head()"
   ]
  },
  {
   "cell_type": "code",
   "execution_count": 18,
   "id": "876789fe",
   "metadata": {},
   "outputs": [
    {
     "data": {
      "text/plain": [
       "(31310, 4)"
      ]
     },
     "execution_count": 18,
     "metadata": {},
     "output_type": "execute_result"
    }
   ],
   "source": [
    "# Checking the shape of the extracted dataset\n",
    "\n",
    "extracted_df.shape"
   ]
  },
  {
   "cell_type": "markdown",
   "id": "a2538258",
   "metadata": {},
   "source": [
    "### Modifying the Original Dataframe"
   ]
  },
  {
   "cell_type": "code",
   "execution_count": 19,
   "id": "f4ade860",
   "metadata": {},
   "outputs": [
    {
     "data": {
      "text/html": [
       "<div>\n",
       "<style scoped>\n",
       "    .dataframe tbody tr th:only-of-type {\n",
       "        vertical-align: middle;\n",
       "    }\n",
       "\n",
       "    .dataframe tbody tr th {\n",
       "        vertical-align: top;\n",
       "    }\n",
       "\n",
       "    .dataframe thead th {\n",
       "        text-align: right;\n",
       "    }\n",
       "</style>\n",
       "<table border=\"1\" class=\"dataframe\">\n",
       "  <thead>\n",
       "    <tr style=\"text-align: right;\">\n",
       "      <th></th>\n",
       "      <th>video_id</th>\n",
       "      <th>title</th>\n",
       "      <th>publishedAt</th>\n",
       "      <th>channelId</th>\n",
       "      <th>channelTitle</th>\n",
       "      <th>categoryId</th>\n",
       "      <th>trending_date</th>\n",
       "      <th>tags</th>\n",
       "      <th>view_count</th>\n",
       "      <th>likes</th>\n",
       "      <th>dislikes</th>\n",
       "      <th>comment_count</th>\n",
       "      <th>thumbnail_link</th>\n",
       "      <th>comments_disabled</th>\n",
       "      <th>ratings_disabled</th>\n",
       "      <th>description</th>\n",
       "    </tr>\n",
       "  </thead>\n",
       "  <tbody>\n",
       "    <tr>\n",
       "      <th>0</th>\n",
       "      <td>3C66w5Z0ixs</td>\n",
       "      <td>I ASKED HER TO BE MY GIRLFRIEND...</td>\n",
       "      <td>2020-08-11T19:20:14Z</td>\n",
       "      <td>UCvtRTOMP2TqYqu51xNrqAzg</td>\n",
       "      <td>Brawadis</td>\n",
       "      <td>22</td>\n",
       "      <td>2020-08-12T00:00:00Z</td>\n",
       "      <td>brawadis|prank|basketball|skits|ghost|funny vi...</td>\n",
       "      <td>1514614</td>\n",
       "      <td>156908</td>\n",
       "      <td>5855</td>\n",
       "      <td>35313</td>\n",
       "      <td>https://i.ytimg.com/vi/3C66w5Z0ixs/default.jpg</td>\n",
       "      <td>False</td>\n",
       "      <td>False</td>\n",
       "      <td>SUBSCRIBE to BRAWADIS ▶ http://bit.ly/Subscrib...</td>\n",
       "    </tr>\n",
       "  </tbody>\n",
       "</table>\n",
       "</div>"
      ],
      "text/plain": [
       "      video_id                               title           publishedAt  \\\n",
       "0  3C66w5Z0ixs  I ASKED HER TO BE MY GIRLFRIEND...  2020-08-11T19:20:14Z   \n",
       "\n",
       "                  channelId channelTitle  categoryId         trending_date  \\\n",
       "0  UCvtRTOMP2TqYqu51xNrqAzg     Brawadis          22  2020-08-12T00:00:00Z   \n",
       "\n",
       "                                                tags  view_count   likes  \\\n",
       "0  brawadis|prank|basketball|skits|ghost|funny vi...     1514614  156908   \n",
       "\n",
       "   dislikes  comment_count                                  thumbnail_link  \\\n",
       "0      5855          35313  https://i.ytimg.com/vi/3C66w5Z0ixs/default.jpg   \n",
       "\n",
       "   comments_disabled  ratings_disabled  \\\n",
       "0              False             False   \n",
       "\n",
       "                                         description  \n",
       "0  SUBSCRIBE to BRAWADIS ▶ http://bit.ly/Subscrib...  "
      ]
     },
     "execution_count": 19,
     "metadata": {},
     "output_type": "execute_result"
    }
   ],
   "source": [
    "# Checking column name and values in the dataframe\n",
    "\n",
    "data.head(1)"
   ]
  },
  {
   "cell_type": "code",
   "execution_count": 20,
   "id": "8eee1998",
   "metadata": {},
   "outputs": [
    {
     "data": {
      "text/plain": [
       "video_id             object\n",
       "title                object\n",
       "publishedAt          object\n",
       "channelId            object\n",
       "channelTitle         object\n",
       "categoryId            int64\n",
       "trending_date        object\n",
       "tags                 object\n",
       "view_count            int64\n",
       "likes                 int64\n",
       "dislikes              int64\n",
       "comment_count         int64\n",
       "thumbnail_link       object\n",
       "comments_disabled      bool\n",
       "ratings_disabled       bool\n",
       "description          object\n",
       "dtype: object"
      ]
     },
     "execution_count": 20,
     "metadata": {},
     "output_type": "execute_result"
    }
   ],
   "source": [
    "# Checking the datatypes of each column\n",
    "\n",
    "data.dtypes"
   ]
  },
  {
   "cell_type": "markdown",
   "id": "45d4001a",
   "metadata": {},
   "source": [
    "Let's make the following changes to the Original Dataframe in 4 major steps:\n",
    "\n",
    "1. Drop `channelId` column as it is not necessary for the analysis and prediction.\n",
    "<br>\n",
    "\n",
    "1. Convert `publishedAt` and `trending_date` to Pandas_Datetime object. Map each category_id to respective category in `categroty_id` column. This is done using `US_category_id.json` file from the source file.\n",
    "<br>\n",
    "\n",
    "2. Groupby `video_id` column and apply the following functions to the rest of the columns:\n",
    "- `title` - <b>Function : MODE</b> - because title is same for each video_id.\n",
    "- `publishedAT` - <b>Function : MODE</b> - although published date is same for each video_id. Let's consider minimum value.\n",
    "- `channelTitle` - <b>Function : MODE</b> - because channel title is same for each video_id.\n",
    "- `categroryId` - <b>Function : MODE</b> - because categoryId is same for each video_id.\n",
    "- `trending_date` - <b>Function : [min(trending_date), max(trending_date)]</b> - this is because we can extract features like `How many days video took to trend` and `How many days the video have been trending`.\n",
    "- `tags` - <b>Function : MODE</b> - because tags are same for each video_id.\n",
    "- `likes` - <b>Function : [min(likes), max(likes)]</b> - this is because we can extract features like `How many likes have be increased during the period`.\n",
    "- `comment_count` - <b>Function : [min(trending_date), max(trending_date)]</b> - this is because we can extract features like `Comments before and after trending`.\n",
    "<br>\n",
    "<br>\n",
    "       \n",
    "4. Drop `dislikes` column as the dislikes has been discontinued from November 2021.\n",
    "Reference: https://www.google.com/search?q=when+did+youtube+remove+dislikes&rlz=1C1UEAD_enUS1037US1037&oq=when+did+youtube+remove+&aqs=chrome.0.0i512j69i57j0i512l6j0i22i30l2.6954j1j4&sourceid=chrome&ie=UTF-8\n",
    "\n"
   ]
  },
  {
   "cell_type": "markdown",
   "id": "65300f01",
   "metadata": {},
   "source": [
    "#### Step - 1"
   ]
  },
  {
   "cell_type": "code",
   "execution_count": 21,
   "id": "a7978bab",
   "metadata": {},
   "outputs": [
    {
     "data": {
      "text/html": [
       "<div>\n",
       "<style scoped>\n",
       "    .dataframe tbody tr th:only-of-type {\n",
       "        vertical-align: middle;\n",
       "    }\n",
       "\n",
       "    .dataframe tbody tr th {\n",
       "        vertical-align: top;\n",
       "    }\n",
       "\n",
       "    .dataframe thead th {\n",
       "        text-align: right;\n",
       "    }\n",
       "</style>\n",
       "<table border=\"1\" class=\"dataframe\">\n",
       "  <thead>\n",
       "    <tr style=\"text-align: right;\">\n",
       "      <th></th>\n",
       "      <th>video_id</th>\n",
       "      <th>title</th>\n",
       "      <th>publishedAt</th>\n",
       "      <th>channelTitle</th>\n",
       "      <th>categoryId</th>\n",
       "      <th>trending_date</th>\n",
       "      <th>tags</th>\n",
       "      <th>view_count</th>\n",
       "      <th>likes</th>\n",
       "      <th>dislikes</th>\n",
       "      <th>comment_count</th>\n",
       "      <th>thumbnail_link</th>\n",
       "      <th>comments_disabled</th>\n",
       "      <th>ratings_disabled</th>\n",
       "      <th>description</th>\n",
       "    </tr>\n",
       "  </thead>\n",
       "  <tbody>\n",
       "    <tr>\n",
       "      <th>0</th>\n",
       "      <td>3C66w5Z0ixs</td>\n",
       "      <td>I ASKED HER TO BE MY GIRLFRIEND...</td>\n",
       "      <td>2020-08-11T19:20:14Z</td>\n",
       "      <td>Brawadis</td>\n",
       "      <td>22</td>\n",
       "      <td>2020-08-12T00:00:00Z</td>\n",
       "      <td>brawadis|prank|basketball|skits|ghost|funny vi...</td>\n",
       "      <td>1514614</td>\n",
       "      <td>156908</td>\n",
       "      <td>5855</td>\n",
       "      <td>35313</td>\n",
       "      <td>https://i.ytimg.com/vi/3C66w5Z0ixs/default.jpg</td>\n",
       "      <td>False</td>\n",
       "      <td>False</td>\n",
       "      <td>SUBSCRIBE to BRAWADIS ▶ http://bit.ly/Subscrib...</td>\n",
       "    </tr>\n",
       "    <tr>\n",
       "      <th>1</th>\n",
       "      <td>M9Pmf9AB4Mo</td>\n",
       "      <td>Apex Legends | Stories from the Outlands – “Th...</td>\n",
       "      <td>2020-08-11T17:00:10Z</td>\n",
       "      <td>Apex Legends</td>\n",
       "      <td>20</td>\n",
       "      <td>2020-08-12T00:00:00Z</td>\n",
       "      <td>Apex Legends|Apex Legends characters|new Apex ...</td>\n",
       "      <td>2381688</td>\n",
       "      <td>146739</td>\n",
       "      <td>2794</td>\n",
       "      <td>16549</td>\n",
       "      <td>https://i.ytimg.com/vi/M9Pmf9AB4Mo/default.jpg</td>\n",
       "      <td>False</td>\n",
       "      <td>False</td>\n",
       "      <td>While running her own modding shop, Ramya Pare...</td>\n",
       "    </tr>\n",
       "    <tr>\n",
       "      <th>2</th>\n",
       "      <td>J78aPJ3VyNs</td>\n",
       "      <td>I left youtube for a month and THIS is what ha...</td>\n",
       "      <td>2020-08-11T16:34:06Z</td>\n",
       "      <td>jacksepticeye</td>\n",
       "      <td>24</td>\n",
       "      <td>2020-08-12T00:00:00Z</td>\n",
       "      <td>jacksepticeye|funny|funny meme|memes|jacksepti...</td>\n",
       "      <td>2038853</td>\n",
       "      <td>353787</td>\n",
       "      <td>2628</td>\n",
       "      <td>40221</td>\n",
       "      <td>https://i.ytimg.com/vi/J78aPJ3VyNs/default.jpg</td>\n",
       "      <td>False</td>\n",
       "      <td>False</td>\n",
       "      <td>I left youtube for a month and this is what ha...</td>\n",
       "    </tr>\n",
       "  </tbody>\n",
       "</table>\n",
       "</div>"
      ],
      "text/plain": [
       "      video_id                                              title  \\\n",
       "0  3C66w5Z0ixs                 I ASKED HER TO BE MY GIRLFRIEND...   \n",
       "1  M9Pmf9AB4Mo  Apex Legends | Stories from the Outlands – “Th...   \n",
       "2  J78aPJ3VyNs  I left youtube for a month and THIS is what ha...   \n",
       "\n",
       "            publishedAt   channelTitle  categoryId         trending_date  \\\n",
       "0  2020-08-11T19:20:14Z       Brawadis          22  2020-08-12T00:00:00Z   \n",
       "1  2020-08-11T17:00:10Z   Apex Legends          20  2020-08-12T00:00:00Z   \n",
       "2  2020-08-11T16:34:06Z  jacksepticeye          24  2020-08-12T00:00:00Z   \n",
       "\n",
       "                                                tags  view_count   likes  \\\n",
       "0  brawadis|prank|basketball|skits|ghost|funny vi...     1514614  156908   \n",
       "1  Apex Legends|Apex Legends characters|new Apex ...     2381688  146739   \n",
       "2  jacksepticeye|funny|funny meme|memes|jacksepti...     2038853  353787   \n",
       "\n",
       "   dislikes  comment_count                                  thumbnail_link  \\\n",
       "0      5855          35313  https://i.ytimg.com/vi/3C66w5Z0ixs/default.jpg   \n",
       "1      2794          16549  https://i.ytimg.com/vi/M9Pmf9AB4Mo/default.jpg   \n",
       "2      2628          40221  https://i.ytimg.com/vi/J78aPJ3VyNs/default.jpg   \n",
       "\n",
       "   comments_disabled  ratings_disabled  \\\n",
       "0              False             False   \n",
       "1              False             False   \n",
       "2              False             False   \n",
       "\n",
       "                                         description  \n",
       "0  SUBSCRIBE to BRAWADIS ▶ http://bit.ly/Subscrib...  \n",
       "1  While running her own modding shop, Ramya Pare...  \n",
       "2  I left youtube for a month and this is what ha...  "
      ]
     },
     "execution_count": 21,
     "metadata": {},
     "output_type": "execute_result"
    }
   ],
   "source": [
    "# Dropping channelId\n",
    "\n",
    "data.drop(['channelId'], axis = 1, inplace = True)\n",
    "\n",
    "# Validating the above code\n",
    "\n",
    "data.head(3)"
   ]
  },
  {
   "cell_type": "markdown",
   "id": "32f9b778",
   "metadata": {
    "scrolled": true
   },
   "source": [
    "#### Step - 2"
   ]
  },
  {
   "cell_type": "markdown",
   "id": "e46f0419",
   "metadata": {},
   "source": [
    "- `publishedAt`, `trending_date` are object type. Let's convert it to Datetime format."
   ]
  },
  {
   "cell_type": "code",
   "execution_count": 22,
   "id": "9a1285b0",
   "metadata": {},
   "outputs": [
    {
     "data": {
      "text/plain": [
       "publishedAt      datetime64[ns, UTC]\n",
       "trending_date    datetime64[ns, UTC]\n",
       "dtype: object"
      ]
     },
     "execution_count": 22,
     "metadata": {},
     "output_type": "execute_result"
    }
   ],
   "source": [
    "# Converting 'publishedAt' and 'trending_date' to datetime objects\n",
    "\n",
    "data[['publishedAt', 'trending_date']] = data[['publishedAt', 'trending_date']].apply(lambda x: pd.to_datetime(x))\n",
    "\n",
    "# Validating the above changes\n",
    "\n",
    "data.dtypes[['publishedAt', 'trending_date']]"
   ]
  },
  {
   "cell_type": "markdown",
   "id": "6741d36a",
   "metadata": {},
   "source": [
    "We can see that `categoryId` column has id's of repective categories. We can access the description of categoryId from the `US_category_id.json` file."
   ]
  },
  {
   "cell_type": "code",
   "execution_count": 23,
   "id": "5eadd0e7",
   "metadata": {
    "scrolled": true
   },
   "outputs": [
    {
     "data": {
      "text/plain": [
       "0    People & Blogs\n",
       "1            Gaming\n",
       "2     Entertainment\n",
       "3             Music\n",
       "4     Howto & Style\n",
       "Name: categoryId, dtype: object"
      ]
     },
     "execution_count": 23,
     "metadata": {},
     "output_type": "execute_result"
    }
   ],
   "source": [
    "# Let's import US_category_id.json file and map the category id's respectively\n",
    "\n",
    "category_path = '\\\\'.join(final_dir.split('\\\\')[:-1]) + '\\\\US_category_id.json'\n",
    "\n",
    "\n",
    "# Creating a dictionary object which stores the category id and its respective category\n",
    "category_dict = {}\n",
    "\n",
    "with open(category_path, 'r') as file:\n",
    "    json_data = json.load(file)\n",
    "    for item in json_data['items']:\n",
    "        category_dict[int(item['id'])] = item['snippet']['title']\n",
    "    \n",
    "data['categoryId'] = data['categoryId'].apply(lambda x: category_dict[x])\n",
    "\n",
    "# Validating the above code\n",
    "data['categoryId'].head()"
   ]
  },
  {
   "cell_type": "markdown",
   "id": "18ecb7ad",
   "metadata": {},
   "source": [
    "#### Step - 3 and 4"
   ]
  },
  {
   "cell_type": "code",
   "execution_count": 24,
   "id": "0f18d2c9",
   "metadata": {
    "scrolled": false
   },
   "outputs": [
    {
     "data": {
      "text/html": [
       "<div>\n",
       "<style scoped>\n",
       "    .dataframe tbody tr th:only-of-type {\n",
       "        vertical-align: middle;\n",
       "    }\n",
       "\n",
       "    .dataframe tbody tr th {\n",
       "        vertical-align: top;\n",
       "    }\n",
       "\n",
       "    .dataframe thead th {\n",
       "        text-align: right;\n",
       "    }\n",
       "</style>\n",
       "<table border=\"1\" class=\"dataframe\">\n",
       "  <thead>\n",
       "    <tr style=\"text-align: right;\">\n",
       "      <th></th>\n",
       "      <th>video_id</th>\n",
       "      <th>title</th>\n",
       "      <th>publishedAt</th>\n",
       "      <th>channelTitle</th>\n",
       "      <th>categoryId</th>\n",
       "      <th>trending_date</th>\n",
       "      <th>tags</th>\n",
       "      <th>likes</th>\n",
       "      <th>view_count</th>\n",
       "      <th>comment_count</th>\n",
       "      <th>comments_disabled</th>\n",
       "      <th>ratings_disabled</th>\n",
       "      <th>description</th>\n",
       "    </tr>\n",
       "  </thead>\n",
       "  <tbody>\n",
       "    <tr>\n",
       "      <th>0</th>\n",
       "      <td>--14w5SOEUs</td>\n",
       "      <td>Migos - Avalanche (Official Video)</td>\n",
       "      <td>2021-06-10 16:00:00+00:00</td>\n",
       "      <td>MigosVEVO</td>\n",
       "      <td>Music</td>\n",
       "      <td>[2021-06-11 00:00:00+00:00, 2021-06-15 00:00:0...</td>\n",
       "      <td>Migos|Avalanche|Quality|Control|Music/Motown|R...</td>\n",
       "      <td>[122830, 262692]</td>\n",
       "      <td>[1076217, 6823249]</td>\n",
       "      <td>[9539, 16445]</td>\n",
       "      <td>False</td>\n",
       "      <td>False</td>\n",
       "      <td>Music video by Migos performing Avalanche. Qua...</td>\n",
       "    </tr>\n",
       "    <tr>\n",
       "      <th>1</th>\n",
       "      <td>--2O86Z0hsM</td>\n",
       "      <td>MY TESLA PAYS FOR ITSELF</td>\n",
       "      <td>2022-03-09 23:19:08+00:00</td>\n",
       "      <td>jf.okay</td>\n",
       "      <td>Entertainment</td>\n",
       "      <td>[2022-03-11 00:00:00+00:00, 2022-03-15 00:00:0...</td>\n",
       "      <td>[None]</td>\n",
       "      <td>[16481, 17290]</td>\n",
       "      <td>[466980, 538485]</td>\n",
       "      <td>[1278, 1439]</td>\n",
       "      <td>False</td>\n",
       "      <td>False</td>\n",
       "      <td></td>\n",
       "    </tr>\n",
       "  </tbody>\n",
       "</table>\n",
       "</div>"
      ],
      "text/plain": [
       "      video_id                               title               publishedAt  \\\n",
       "0  --14w5SOEUs  Migos - Avalanche (Official Video) 2021-06-10 16:00:00+00:00   \n",
       "1  --2O86Z0hsM            MY TESLA PAYS FOR ITSELF 2022-03-09 23:19:08+00:00   \n",
       "\n",
       "  channelTitle     categoryId  \\\n",
       "0    MigosVEVO          Music   \n",
       "1      jf.okay  Entertainment   \n",
       "\n",
       "                                       trending_date  \\\n",
       "0  [2021-06-11 00:00:00+00:00, 2021-06-15 00:00:0...   \n",
       "1  [2022-03-11 00:00:00+00:00, 2022-03-15 00:00:0...   \n",
       "\n",
       "                                                tags             likes  \\\n",
       "0  Migos|Avalanche|Quality|Control|Music/Motown|R...  [122830, 262692]   \n",
       "1                                             [None]    [16481, 17290]   \n",
       "\n",
       "           view_count  comment_count  comments_disabled  ratings_disabled  \\\n",
       "0  [1076217, 6823249]  [9539, 16445]              False             False   \n",
       "1    [466980, 538485]   [1278, 1439]              False             False   \n",
       "\n",
       "                                         description  \n",
       "0  Music video by Migos performing Avalanche. Qua...  \n",
       "1                                                     "
      ]
     },
     "execution_count": 24,
     "metadata": {},
     "output_type": "execute_result"
    }
   ],
   "source": [
    "# This function converts list to min_max_list as per conditions specified in the above cell\n",
    "\n",
    "def column_start_end(x: list) -> list:\n",
    "    return [min(x), max(x)]\n",
    "\n",
    "def description_col(x: list) -> str:\n",
    "    temp = pd.Series(list(x))\n",
    "    temp = temp[[not i for i in temp.isna()]]\n",
    "    return temp.values[0] if len(temp) else ''\n",
    "\n",
    "# Grouping by 'video_id' and aggregating using functions as specified in the above cell\n",
    "\n",
    "modified_df = data.groupby('video_id').agg({'title':st.mode, 'publishedAt':np.min, 'channelTitle':st.mode, 'categoryId':st.mode,\n",
    "              'trending_date': column_start_end, 'tags': st.mode, 'likes': column_start_end, 'view_count': column_start_end,\n",
    "                'comment_count': column_start_end, 'comments_disabled': st.mode, 'ratings_disabled': st.mode,\n",
    "                                           'description':description_col}).reset_index()\n",
    "\n",
    "modified_df.head(2)"
   ]
  },
  {
   "cell_type": "code",
   "execution_count": 25,
   "id": "167e7ee2",
   "metadata": {
    "scrolled": true
   },
   "outputs": [
    {
     "data": {
      "text/plain": [
       "(34066, 13)"
      ]
     },
     "execution_count": 25,
     "metadata": {},
     "output_type": "execute_result"
    }
   ],
   "source": [
    "modified_df.shape"
   ]
  },
  {
   "cell_type": "markdown",
   "id": "06c5ef9f",
   "metadata": {},
   "source": [
    "The resulting dataframe has 34066 rows and 10 columns.\n",
    "\n",
    "Let's make the following changes to the resulting dataframe in 8 steps:\n",
    "1. Create new columns `trending_date_start` & `trending_date_end` from `trending_date` column.\n",
    "2. Create new columns `likes_start` & `likes_end` from `likes` column.\n",
    "3. Create new columns `view_count_start` & `view_count_end` from `view_count` column.\n",
    "3. `tags` have `[None]` values in it. Converting them to Null values.\n",
    "4. Create new column `tagsCount` from `tags` column. Which indicates the number of tags used in particular video.\n",
    "5. Create new column `hoursTakenToTrend` from `trending_date_start` & `publishedAt` columns.\n",
    "6. Create new column `trendingDaysDuration` from `trending_date_end` & `trending_date_start` columns.\n",
    "7. Drop columns `trending_date`, `likes`, `publishedAt`, `view_count` as they are no longer required."
   ]
  },
  {
   "cell_type": "markdown",
   "id": "aeab0ab5",
   "metadata": {},
   "source": [
    "#### Step - 1"
   ]
  },
  {
   "cell_type": "code",
   "execution_count": 26,
   "id": "cfe98d3f",
   "metadata": {},
   "outputs": [],
   "source": [
    "# Create new columns trending_date_start & trending_date_end from trending_date column.\n",
    "\n",
    "modified_df['trending_date_start'] = modified_df['trending_date'].apply(lambda x: min(x))\n",
    "modified_df['trending_date_end'] = modified_df['trending_date'].apply(lambda x: max(x))"
   ]
  },
  {
   "cell_type": "markdown",
   "id": "82f91677",
   "metadata": {},
   "source": [
    "#### Step - 2"
   ]
  },
  {
   "cell_type": "code",
   "execution_count": 27,
   "id": "da5a6c7d",
   "metadata": {},
   "outputs": [],
   "source": [
    "# Create new columns likes_start & likes_end from likes column.\n",
    "\n",
    "modified_df['likes_start'] = modified_df['likes'].apply(lambda x: min(x))\n",
    "modified_df['likes_end'] = modified_df['likes'].apply(lambda x: max(x))"
   ]
  },
  {
   "cell_type": "markdown",
   "id": "68c9d739",
   "metadata": {},
   "source": [
    "#### Step - 3"
   ]
  },
  {
   "cell_type": "code",
   "execution_count": 28,
   "id": "e82e7ec0",
   "metadata": {},
   "outputs": [],
   "source": [
    "# Create new columns `view_count_start` & `view_count_end` from `view_count` column.\n",
    "\n",
    "modified_df['view_count_start'] = modified_df['view_count'].apply(lambda x: min(x))\n",
    "modified_df['view_count_end'] = modified_df['view_count'].apply(lambda x: max(x))"
   ]
  },
  {
   "cell_type": "markdown",
   "id": "5a4a7ce7",
   "metadata": {},
   "source": [
    "#### Step - 4"
   ]
  },
  {
   "cell_type": "code",
   "execution_count": 29,
   "id": "c3c35f30",
   "metadata": {},
   "outputs": [],
   "source": [
    "# tags have [None] values in it. Converting them to Null values.\n",
    "\n",
    "modified_df['tags'] = modified_df['tags'].apply(lambda x: x if x!= '[None]' else np.nan)"
   ]
  },
  {
   "cell_type": "markdown",
   "id": "2b7eefc8",
   "metadata": {},
   "source": [
    "#### Step - 5"
   ]
  },
  {
   "cell_type": "code",
   "execution_count": 30,
   "id": "67f49f37",
   "metadata": {},
   "outputs": [],
   "source": [
    "# Create new column tagsCount from tags column. Which indicates the number of tags used in particular video.\n",
    "\n",
    "modified_df['tagCount'] = modified_df['tags'].apply(lambda x: 0 if type(x) == float else len(list(x.split('|'))))"
   ]
  },
  {
   "cell_type": "markdown",
   "id": "a44f9549",
   "metadata": {},
   "source": [
    "#### Step - 6"
   ]
  },
  {
   "cell_type": "code",
   "execution_count": 31,
   "id": "40275390",
   "metadata": {},
   "outputs": [],
   "source": [
    "# Create new column hoursTakenToTrend from trending_date_start & publishedAt columns.\n",
    "\n",
    "modified_df['hoursTakenToTrend'] = round((modified_df['trending_date_start'] - modified_df['publishedAt']).dt.seconds/(60*60), 1)"
   ]
  },
  {
   "cell_type": "markdown",
   "id": "bb0026e9",
   "metadata": {},
   "source": [
    "#### Step - 7"
   ]
  },
  {
   "cell_type": "code",
   "execution_count": 32,
   "id": "d4ae5e8a",
   "metadata": {},
   "outputs": [],
   "source": [
    "# Create new column trendingDaysDuration from trending_date_end & trending_date_start columns.\n",
    "\n",
    "modified_df['trendingDaysDuration'] = (modified_df['trending_date_end'] - modified_df['trending_date_start']).dt.days"
   ]
  },
  {
   "cell_type": "markdown",
   "id": "27bf83ad",
   "metadata": {},
   "source": [
    "#### Step - 8"
   ]
  },
  {
   "cell_type": "code",
   "execution_count": 33,
   "id": "e1c2ba65",
   "metadata": {},
   "outputs": [],
   "source": [
    "# Create new columns `comment_count_start` & `comment_count_end` from `comment_count` column.\n",
    "\n",
    "modified_df['comment_count_start'] = modified_df['comment_count'].apply(lambda x: min(x))\n",
    "modified_df['comment_count_end'] = modified_df['comment_count'].apply(lambda x: max(x))"
   ]
  },
  {
   "cell_type": "markdown",
   "id": "d08ce335",
   "metadata": {},
   "source": [
    "#### Step - 9"
   ]
  },
  {
   "cell_type": "code",
   "execution_count": 34,
   "id": "bebfdbd2",
   "metadata": {},
   "outputs": [],
   "source": [
    "# Drop columns trending_date, likes, publishedAt, view_count as they are no longer required.\n",
    "\n",
    "modified_df.drop(['trending_date', 'likes', 'publishedAt', 'view_count', 'trending_date_start', 'trending_date_end', 'comment_count'], axis = 1, inplace = True)"
   ]
  },
  {
   "cell_type": "code",
   "execution_count": 35,
   "id": "7b651c66",
   "metadata": {
    "scrolled": true
   },
   "outputs": [
    {
     "data": {
      "text/html": [
       "<div>\n",
       "<style scoped>\n",
       "    .dataframe tbody tr th:only-of-type {\n",
       "        vertical-align: middle;\n",
       "    }\n",
       "\n",
       "    .dataframe tbody tr th {\n",
       "        vertical-align: top;\n",
       "    }\n",
       "\n",
       "    .dataframe thead th {\n",
       "        text-align: right;\n",
       "    }\n",
       "</style>\n",
       "<table border=\"1\" class=\"dataframe\">\n",
       "  <thead>\n",
       "    <tr style=\"text-align: right;\">\n",
       "      <th></th>\n",
       "      <th>video_id</th>\n",
       "      <th>title</th>\n",
       "      <th>channelTitle</th>\n",
       "      <th>categoryId</th>\n",
       "      <th>tags</th>\n",
       "      <th>comments_disabled</th>\n",
       "      <th>ratings_disabled</th>\n",
       "      <th>description</th>\n",
       "      <th>likes_start</th>\n",
       "      <th>likes_end</th>\n",
       "      <th>view_count_start</th>\n",
       "      <th>view_count_end</th>\n",
       "      <th>tagCount</th>\n",
       "      <th>hoursTakenToTrend</th>\n",
       "      <th>trendingDaysDuration</th>\n",
       "      <th>comment_count_start</th>\n",
       "      <th>comment_count_end</th>\n",
       "    </tr>\n",
       "  </thead>\n",
       "  <tbody>\n",
       "    <tr>\n",
       "      <th>0</th>\n",
       "      <td>--14w5SOEUs</td>\n",
       "      <td>Migos - Avalanche (Official Video)</td>\n",
       "      <td>MigosVEVO</td>\n",
       "      <td>Music</td>\n",
       "      <td>Migos|Avalanche|Quality|Control|Music/Motown|R...</td>\n",
       "      <td>False</td>\n",
       "      <td>False</td>\n",
       "      <td>Music video by Migos performing Avalanche. Qua...</td>\n",
       "      <td>122830</td>\n",
       "      <td>262692</td>\n",
       "      <td>1076217</td>\n",
       "      <td>6823249</td>\n",
       "      <td>8</td>\n",
       "      <td>8.0</td>\n",
       "      <td>4</td>\n",
       "      <td>9539</td>\n",
       "      <td>16445</td>\n",
       "    </tr>\n",
       "    <tr>\n",
       "      <th>1</th>\n",
       "      <td>--2O86Z0hsM</td>\n",
       "      <td>MY TESLA PAYS FOR ITSELF</td>\n",
       "      <td>jf.okay</td>\n",
       "      <td>Entertainment</td>\n",
       "      <td>NaN</td>\n",
       "      <td>False</td>\n",
       "      <td>False</td>\n",
       "      <td></td>\n",
       "      <td>16481</td>\n",
       "      <td>17290</td>\n",
       "      <td>466980</td>\n",
       "      <td>538485</td>\n",
       "      <td>0</td>\n",
       "      <td>0.7</td>\n",
       "      <td>4</td>\n",
       "      <td>1278</td>\n",
       "      <td>1439</td>\n",
       "    </tr>\n",
       "    <tr>\n",
       "      <th>2</th>\n",
       "      <td>--40TEbZ9Is</td>\n",
       "      <td>Supporting Actress in a Comedy: 73rd Emmys</td>\n",
       "      <td>Television Academy</td>\n",
       "      <td>Entertainment</td>\n",
       "      <td>NaN</td>\n",
       "      <td>False</td>\n",
       "      <td>False</td>\n",
       "      <td>Hannah Waddingham wins the Emmy for Supporting...</td>\n",
       "      <td>6299</td>\n",
       "      <td>8029</td>\n",
       "      <td>527742</td>\n",
       "      <td>682609</td>\n",
       "      <td>0</td>\n",
       "      <td>22.9</td>\n",
       "      <td>4</td>\n",
       "      <td>586</td>\n",
       "      <td>723</td>\n",
       "    </tr>\n",
       "  </tbody>\n",
       "</table>\n",
       "</div>"
      ],
      "text/plain": [
       "      video_id                                       title  \\\n",
       "0  --14w5SOEUs          Migos - Avalanche (Official Video)   \n",
       "1  --2O86Z0hsM                    MY TESLA PAYS FOR ITSELF   \n",
       "2  --40TEbZ9Is  Supporting Actress in a Comedy: 73rd Emmys   \n",
       "\n",
       "         channelTitle     categoryId  \\\n",
       "0           MigosVEVO          Music   \n",
       "1             jf.okay  Entertainment   \n",
       "2  Television Academy  Entertainment   \n",
       "\n",
       "                                                tags  comments_disabled  \\\n",
       "0  Migos|Avalanche|Quality|Control|Music/Motown|R...              False   \n",
       "1                                                NaN              False   \n",
       "2                                                NaN              False   \n",
       "\n",
       "   ratings_disabled                                        description  \\\n",
       "0             False  Music video by Migos performing Avalanche. Qua...   \n",
       "1             False                                                      \n",
       "2             False  Hannah Waddingham wins the Emmy for Supporting...   \n",
       "\n",
       "   likes_start  likes_end  view_count_start  view_count_end  tagCount  \\\n",
       "0       122830     262692           1076217         6823249         8   \n",
       "1        16481      17290            466980          538485         0   \n",
       "2         6299       8029            527742          682609         0   \n",
       "\n",
       "   hoursTakenToTrend  trendingDaysDuration  comment_count_start  \\\n",
       "0                8.0                     4                 9539   \n",
       "1                0.7                     4                 1278   \n",
       "2               22.9                     4                  586   \n",
       "\n",
       "   comment_count_end  \n",
       "0              16445  \n",
       "1               1439  \n",
       "2                723  "
      ]
     },
     "execution_count": 35,
     "metadata": {},
     "output_type": "execute_result"
    }
   ],
   "source": [
    "# Displaying the dataframe after all the changes\n",
    "\n",
    "modified_df.head(3)"
   ]
  },
  {
   "cell_type": "code",
   "execution_count": 36,
   "id": "d46ae201",
   "metadata": {},
   "outputs": [
    {
     "data": {
      "text/plain": [
       "video_id                 object\n",
       "title                    object\n",
       "channelTitle             object\n",
       "categoryId               object\n",
       "tags                     object\n",
       "comments_disabled          bool\n",
       "ratings_disabled           bool\n",
       "description              object\n",
       "likes_start               int64\n",
       "likes_end                 int64\n",
       "view_count_start          int64\n",
       "view_count_end            int64\n",
       "tagCount                  int64\n",
       "hoursTakenToTrend       float64\n",
       "trendingDaysDuration      int64\n",
       "comment_count_start       int64\n",
       "comment_count_end         int64\n",
       "dtype: object"
      ]
     },
     "execution_count": 36,
     "metadata": {},
     "output_type": "execute_result"
    }
   ],
   "source": [
    "# Displaying the datatypes of the resultant Dataframe\n",
    "\n",
    "modified_df.dtypes"
   ]
  },
  {
   "cell_type": "code",
   "execution_count": 37,
   "id": "160abc88",
   "metadata": {},
   "outputs": [],
   "source": [
    "# Changing video duration into seconds\n",
    "\n",
    "extracted_df['videoDuration'] = extracted_df['videoDuration'].apply(lambda x: isodate.parse_duration(x).total_seconds())"
   ]
  },
  {
   "cell_type": "markdown",
   "id": "3ff1ef1f",
   "metadata": {},
   "source": [
    "### Let's merge `modified_df` and `extracted_df`"
   ]
  },
  {
   "cell_type": "code",
   "execution_count": 38,
   "id": "d7d6c2aa",
   "metadata": {
    "scrolled": true
   },
   "outputs": [
    {
     "data": {
      "text/html": [
       "<div>\n",
       "<style scoped>\n",
       "    .dataframe tbody tr th:only-of-type {\n",
       "        vertical-align: middle;\n",
       "    }\n",
       "\n",
       "    .dataframe tbody tr th {\n",
       "        vertical-align: top;\n",
       "    }\n",
       "\n",
       "    .dataframe thead th {\n",
       "        text-align: right;\n",
       "    }\n",
       "</style>\n",
       "<table border=\"1\" class=\"dataframe\">\n",
       "  <thead>\n",
       "    <tr style=\"text-align: right;\">\n",
       "      <th></th>\n",
       "      <th>video_id</th>\n",
       "      <th>title</th>\n",
       "      <th>channelTitle</th>\n",
       "      <th>categoryId</th>\n",
       "      <th>tags</th>\n",
       "      <th>comments_disabled</th>\n",
       "      <th>ratings_disabled</th>\n",
       "      <th>description</th>\n",
       "      <th>likes_start</th>\n",
       "      <th>likes_end</th>\n",
       "      <th>view_count_start</th>\n",
       "      <th>view_count_end</th>\n",
       "      <th>tagCount</th>\n",
       "      <th>hoursTakenToTrend</th>\n",
       "      <th>trendingDaysDuration</th>\n",
       "      <th>comment_count_start</th>\n",
       "      <th>comment_count_end</th>\n",
       "      <th>videoDuration</th>\n",
       "      <th>madeForKids</th>\n",
       "      <th>Comments</th>\n",
       "    </tr>\n",
       "  </thead>\n",
       "  <tbody>\n",
       "    <tr>\n",
       "      <th>0</th>\n",
       "      <td>--2O86Z0hsM</td>\n",
       "      <td>MY TESLA PAYS FOR ITSELF</td>\n",
       "      <td>jf.okay</td>\n",
       "      <td>Entertainment</td>\n",
       "      <td>NaN</td>\n",
       "      <td>False</td>\n",
       "      <td>False</td>\n",
       "      <td></td>\n",
       "      <td>16481</td>\n",
       "      <td>17290</td>\n",
       "      <td>466980</td>\n",
       "      <td>538485</td>\n",
       "      <td>0</td>\n",
       "      <td>0.7</td>\n",
       "      <td>4</td>\n",
       "      <td>1278</td>\n",
       "      <td>1439</td>\n",
       "      <td>17.0</td>\n",
       "      <td>False</td>\n",
       "      <td>['Reminds me of the “ how do you know if someo...</td>\n",
       "    </tr>\n",
       "    <tr>\n",
       "      <th>1</th>\n",
       "      <td>--40TEbZ9Is</td>\n",
       "      <td>Supporting Actress in a Comedy: 73rd Emmys</td>\n",
       "      <td>Television Academy</td>\n",
       "      <td>Entertainment</td>\n",
       "      <td>NaN</td>\n",
       "      <td>False</td>\n",
       "      <td>False</td>\n",
       "      <td>Hannah Waddingham wins the Emmy for Supporting...</td>\n",
       "      <td>6299</td>\n",
       "      <td>8029</td>\n",
       "      <td>527742</td>\n",
       "      <td>682609</td>\n",
       "      <td>0</td>\n",
       "      <td>22.9</td>\n",
       "      <td>4</td>\n",
       "      <td>586</td>\n",
       "      <td>723</td>\n",
       "      <td>309.0</td>\n",
       "      <td>False</td>\n",
       "      <td>[\"I get that she isn't a nobody, but to see so...</td>\n",
       "    </tr>\n",
       "  </tbody>\n",
       "</table>\n",
       "</div>"
      ],
      "text/plain": [
       "      video_id                                       title  \\\n",
       "0  --2O86Z0hsM                    MY TESLA PAYS FOR ITSELF   \n",
       "1  --40TEbZ9Is  Supporting Actress in a Comedy: 73rd Emmys   \n",
       "\n",
       "         channelTitle     categoryId tags  comments_disabled  \\\n",
       "0             jf.okay  Entertainment  NaN              False   \n",
       "1  Television Academy  Entertainment  NaN              False   \n",
       "\n",
       "   ratings_disabled                                        description  \\\n",
       "0             False                                                      \n",
       "1             False  Hannah Waddingham wins the Emmy for Supporting...   \n",
       "\n",
       "   likes_start  likes_end  view_count_start  view_count_end  tagCount  \\\n",
       "0        16481      17290            466980          538485         0   \n",
       "1         6299       8029            527742          682609         0   \n",
       "\n",
       "   hoursTakenToTrend  trendingDaysDuration  comment_count_start  \\\n",
       "0                0.7                     4                 1278   \n",
       "1               22.9                     4                  586   \n",
       "\n",
       "   comment_count_end  videoDuration  madeForKids  \\\n",
       "0               1439           17.0        False   \n",
       "1                723          309.0        False   \n",
       "\n",
       "                                            Comments  \n",
       "0  ['Reminds me of the “ how do you know if someo...  \n",
       "1  [\"I get that she isn't a nobody, but to see so...  "
      ]
     },
     "execution_count": 38,
     "metadata": {},
     "output_type": "execute_result"
    }
   ],
   "source": [
    "# Merging 'modified_df' & 'extracted_df'\n",
    "\n",
    "final_df = modified_df.merge(extracted_df, on = 'video_id', how = 'inner')\n",
    "\n",
    "# Validating the above\n",
    "\n",
    "final_df.head(2)"
   ]
  },
  {
   "cell_type": "markdown",
   "id": "3e3d75e8",
   "metadata": {},
   "source": [
    "#### Creating new column like/view"
   ]
  },
  {
   "cell_type": "code",
   "execution_count": 39,
   "id": "bd73fa34",
   "metadata": {},
   "outputs": [],
   "source": [
    "final_df['like/view_start'] = round(final_df['likes_start'] / final_df['view_count_start'], 2)\n",
    "          \n",
    "final_df['like/view_end'] = round(final_df['likes_end'] / final_df['view_count_end'], 2)"
   ]
  },
  {
   "cell_type": "code",
   "execution_count": 40,
   "id": "b097506c",
   "metadata": {},
   "outputs": [
    {
     "data": {
      "text/plain": [
       "(31310, 22)"
      ]
     },
     "execution_count": 40,
     "metadata": {},
     "output_type": "execute_result"
    }
   ],
   "source": [
    "# Checking the shape of the resulting dataset\n",
    "\n",
    "final_df.shape"
   ]
  },
  {
   "cell_type": "markdown",
   "id": "17a3fb24",
   "metadata": {},
   "source": [
    "`videoDuration` column is in ISO Date format. Let's convert it into minutes"
   ]
  },
  {
   "cell_type": "markdown",
   "id": "a3268c87",
   "metadata": {},
   "source": [
    "## Exploratory Data Analysis"
   ]
  },
  {
   "cell_type": "code",
   "execution_count": 41,
   "id": "ce5ea748",
   "metadata": {},
   "outputs": [
    {
     "data": {
      "text/html": [
       "<div>\n",
       "<style scoped>\n",
       "    .dataframe tbody tr th:only-of-type {\n",
       "        vertical-align: middle;\n",
       "    }\n",
       "\n",
       "    .dataframe tbody tr th {\n",
       "        vertical-align: top;\n",
       "    }\n",
       "\n",
       "    .dataframe thead th {\n",
       "        text-align: right;\n",
       "    }\n",
       "</style>\n",
       "<table border=\"1\" class=\"dataframe\">\n",
       "  <thead>\n",
       "    <tr style=\"text-align: right;\">\n",
       "      <th></th>\n",
       "      <th>video_id</th>\n",
       "      <th>title</th>\n",
       "      <th>channelTitle</th>\n",
       "      <th>categoryId</th>\n",
       "      <th>tags</th>\n",
       "      <th>comments_disabled</th>\n",
       "      <th>ratings_disabled</th>\n",
       "      <th>description</th>\n",
       "      <th>likes_start</th>\n",
       "      <th>likes_end</th>\n",
       "      <th>...</th>\n",
       "      <th>tagCount</th>\n",
       "      <th>hoursTakenToTrend</th>\n",
       "      <th>trendingDaysDuration</th>\n",
       "      <th>comment_count_start</th>\n",
       "      <th>comment_count_end</th>\n",
       "      <th>videoDuration</th>\n",
       "      <th>madeForKids</th>\n",
       "      <th>Comments</th>\n",
       "      <th>like/view_start</th>\n",
       "      <th>like/view_end</th>\n",
       "    </tr>\n",
       "  </thead>\n",
       "  <tbody>\n",
       "    <tr>\n",
       "      <th>0</th>\n",
       "      <td>--2O86Z0hsM</td>\n",
       "      <td>MY TESLA PAYS FOR ITSELF</td>\n",
       "      <td>jf.okay</td>\n",
       "      <td>Entertainment</td>\n",
       "      <td>NaN</td>\n",
       "      <td>False</td>\n",
       "      <td>False</td>\n",
       "      <td></td>\n",
       "      <td>16481</td>\n",
       "      <td>17290</td>\n",
       "      <td>...</td>\n",
       "      <td>0</td>\n",
       "      <td>0.7</td>\n",
       "      <td>4</td>\n",
       "      <td>1278</td>\n",
       "      <td>1439</td>\n",
       "      <td>17.0</td>\n",
       "      <td>False</td>\n",
       "      <td>['Reminds me of the “ how do you know if someo...</td>\n",
       "      <td>0.04</td>\n",
       "      <td>0.03</td>\n",
       "    </tr>\n",
       "    <tr>\n",
       "      <th>1</th>\n",
       "      <td>--40TEbZ9Is</td>\n",
       "      <td>Supporting Actress in a Comedy: 73rd Emmys</td>\n",
       "      <td>Television Academy</td>\n",
       "      <td>Entertainment</td>\n",
       "      <td>NaN</td>\n",
       "      <td>False</td>\n",
       "      <td>False</td>\n",
       "      <td>Hannah Waddingham wins the Emmy for Supporting...</td>\n",
       "      <td>6299</td>\n",
       "      <td>8029</td>\n",
       "      <td>...</td>\n",
       "      <td>0</td>\n",
       "      <td>22.9</td>\n",
       "      <td>4</td>\n",
       "      <td>586</td>\n",
       "      <td>723</td>\n",
       "      <td>309.0</td>\n",
       "      <td>False</td>\n",
       "      <td>[\"I get that she isn't a nobody, but to see so...</td>\n",
       "      <td>0.01</td>\n",
       "      <td>0.01</td>\n",
       "    </tr>\n",
       "  </tbody>\n",
       "</table>\n",
       "<p>2 rows × 22 columns</p>\n",
       "</div>"
      ],
      "text/plain": [
       "      video_id                                       title  \\\n",
       "0  --2O86Z0hsM                    MY TESLA PAYS FOR ITSELF   \n",
       "1  --40TEbZ9Is  Supporting Actress in a Comedy: 73rd Emmys   \n",
       "\n",
       "         channelTitle     categoryId tags  comments_disabled  \\\n",
       "0             jf.okay  Entertainment  NaN              False   \n",
       "1  Television Academy  Entertainment  NaN              False   \n",
       "\n",
       "   ratings_disabled                                        description  \\\n",
       "0             False                                                      \n",
       "1             False  Hannah Waddingham wins the Emmy for Supporting...   \n",
       "\n",
       "   likes_start  likes_end  ...  tagCount  hoursTakenToTrend  \\\n",
       "0        16481      17290  ...         0                0.7   \n",
       "1         6299       8029  ...         0               22.9   \n",
       "\n",
       "   trendingDaysDuration  comment_count_start  comment_count_end  \\\n",
       "0                     4                 1278               1439   \n",
       "1                     4                  586                723   \n",
       "\n",
       "   videoDuration  madeForKids  \\\n",
       "0           17.0        False   \n",
       "1          309.0        False   \n",
       "\n",
       "                                            Comments  like/view_start  \\\n",
       "0  ['Reminds me of the “ how do you know if someo...             0.04   \n",
       "1  [\"I get that she isn't a nobody, but to see so...             0.01   \n",
       "\n",
       "  like/view_end  \n",
       "0          0.03  \n",
       "1          0.01  \n",
       "\n",
       "[2 rows x 22 columns]"
      ]
     },
     "execution_count": 41,
     "metadata": {},
     "output_type": "execute_result"
    }
   ],
   "source": [
    "# Checking the Dataframe\n",
    "\n",
    "final_df.head(2)"
   ]
  },
  {
   "cell_type": "code",
   "execution_count": 42,
   "id": "a4cb45ea",
   "metadata": {},
   "outputs": [
    {
     "data": {
      "image/png": "[encoded data removed]",
      "text/plain": [
       "<Figure size 1000x500 with 1 Axes>"
      ]
     },
     "metadata": {},
     "output_type": "display_data"
    }
   ],
   "source": [
    "# Top 10 Channels that contain most number of trending videos\n",
    "\n",
    "sns.set_style('dark')\n",
    "top_10 = final_df['channelTitle'].value_counts(ascending = False)[:10]\n",
    "\n",
    "fig, ax = plt.subplots(figsize = (10,5))\n",
    "sns.barplot(top_10.index, top_10.values, ax = ax)\n",
    "plt.xticks(rotation = 90)\n",
    "plt.title(\"Top 10 Channels that contain most number of trending videos\", fontweight = 'bold')\n",
    "\n",
    "\n",
    "for patch in ax.patches:\n",
    "    ax.annotate(int(patch.get_height()), (patch.get_x() + 0.12, patch.get_height() + 2), size = 10)\n",
    "\n",
    "plt.xlabel('Channel Name')\n",
    "plt.ylabel('Count of Trending videos')\n",
    "    \n",
    "plt.grid()\n",
    "    \n",
    "plt.show()"
   ]
  },
  {
   "cell_type": "code",
   "execution_count": 43,
   "id": "d67e6430",
   "metadata": {},
   "outputs": [
    {
     "data": {
      "image/png": "[encoded data removed]",
      "text/plain": [
       "<Figure size 1000x500 with 1 Axes>"
      ]
     },
     "metadata": {},
     "output_type": "display_data"
    }
   ],
   "source": [
    "# Number of trending videos Category wise\n",
    "\n",
    "fig, ax = plt.subplots(figsize = (10, 5))\n",
    "sns.countplot(final_df['categoryId'], order = final_df['categoryId'].value_counts().sort_values(ascending = False).index, ax = ax)\n",
    "for patch in ax.patches:\n",
    "    ax.annotate(patch.get_height(), (patch.get_x() + 0.12, patch.get_height() + 20), size = 9)\n",
    "plt.xticks(rotation = 90)\n",
    "plt.title(\"Number of trending videos Category wise\", fontweight = 'bold')\n",
    "plt.grid()\n",
    "plt.show()"
   ]
  },
  {
   "cell_type": "code",
   "execution_count": 44,
   "id": "0ca8c57a",
   "metadata": {},
   "outputs": [
    {
     "data": {
      "image/png": "[encoded data removed]",
      "text/plain": [
       "<Figure size 800x500 with 2 Axes>"
      ]
     },
     "metadata": {},
     "output_type": "display_data"
    }
   ],
   "source": [
    "fig, ax = plt.subplots(2,1, figsize = (8, 5))\n",
    "sns.boxplot(final_df['hoursTakenToTrend'], ax = ax[0])\n",
    "sns.histplot(final_df['hoursTakenToTrend'], bins = 24, ax = ax[1])\n",
    "plt.xticks(np.arange(0, 24.1, 1), rotation = 90)\n",
    "plt.tight_layout()\n",
    "plt.suptitle(\"Number of hours taken by a video to get into trending list\", fontweight = 'bold')\n",
    "plt.tight_layout()\n",
    "plt.grid()\n",
    "plt.show()"
   ]
  },
  {
   "cell_type": "markdown",
   "id": "7a0658da",
   "metadata": {},
   "source": [
    "- The video gets into the trending list within a day(24 hours). This indicates that trending videos are updated every day.\n",
    "- We can also observe in the histogram-plot that there is a dip in between 12 and 18 hours. Which indicates that the video is most likely to trend either in first 10 hours of publishing or the last 5 hours of the day(24 hours).\n"
   ]
  },
  {
   "cell_type": "code",
   "execution_count": 45,
   "id": "de342799",
   "metadata": {},
   "outputs": [
    {
     "data": {
      "image/png": "[encoded data removed]",
      "text/plain": [
       "<Figure size 1000x500 with 1 Axes>"
      ]
     },
     "metadata": {},
     "output_type": "display_data"
    }
   ],
   "source": [
    "fig, ax = plt.subplots(figsize = (10, 5))\n",
    "sns.barplot(data = final_df, x = 'categoryId', y = 'tagCount', estimator = np.mean, ci = None,\n",
    "            order = final_df.groupby('categoryId')['tagCount'].mean().sort_values().index, ax = ax)\n",
    "for patch in ax.patches:\n",
    "    ax.annotate(round(patch.get_height(), 2), (patch.get_x() + 0.12, patch.get_height() + 0.2), size = 9)\n",
    "    \n",
    "plt.title(\"The highest number of tags used by trending videos Category wise\", fontweight = 'bold')\n",
    "plt.xticks(rotation = 90)\n",
    "plt.grid()\n",
    "plt.show()"
   ]
  },
  {
   "cell_type": "code",
   "execution_count": 46,
   "id": "0b6da777",
   "metadata": {
    "scrolled": false
   },
   "outputs": [
    {
     "data": {
      "image/png": "[encoded data removed]",
      "text/plain": [
       "<Figure size 1000x500 with 1 Axes>"
      ]
     },
     "metadata": {},
     "output_type": "display_data"
    }
   ],
   "source": [
    "fig, ax = plt.subplots(figsize = (10, 5))\n",
    "sns.barplot(data = final_df, x = 'categoryId', y = 'hoursTakenToTrend', estimator = np.mean, ax = ax,\n",
    "            order = final_df.groupby('categoryId')['hoursTakenToTrend'].mean().sort_values().index, ci = None)\n",
    "\n",
    "for patch in ax.patches:\n",
    "    ax.annotate(round(patch.get_height(), 2), (patch.get_x() + 0.12, patch.get_height() + 0.08), size = 9)\n",
    "    \n",
    "plt.title(\"Average time in hours taken by video to trend Category wise\", fontweight = 'bold')\n",
    "plt.xticks(rotation = 90)\n",
    "plt.ylabel(\"Average time in hours\")\n",
    "plt.grid()\n",
    "plt.show()"
   ]
  },
  {
   "cell_type": "code",
   "execution_count": 47,
   "id": "e7c9632f",
   "metadata": {},
   "outputs": [
    {
     "data": {
      "image/png": "[encoded data removed]",
      "text/plain": [
       "<Figure size 1000x500 with 1 Axes>"
      ]
     },
     "metadata": {},
     "output_type": "display_data"
    }
   ],
   "source": [
    "fig, ax = plt.subplots(figsize = (10, 5))\n",
    "sns.barplot(data = final_df, x = 'categoryId', y = 'trendingDaysDuration', estimator = np.mean,\n",
    "            order = final_df.groupby('categoryId')['trendingDaysDuration'].mean().sort_values().index, ax = ax, ci = None)\n",
    "plt.xticks(rotation = 90)\n",
    "for patch in ax.patches:\n",
    "    ax.annotate(round(patch.get_height(), 2), (patch.get_x() + 0.12, patch.get_height() + 0.04), size = 9)\n",
    "    \n",
    "plt.title(\"Average time in days taken by videos to trend Category wise\", fontweight = 'bold')\n",
    "plt.ylabel(\"Average time in days\")\n",
    "plt.grid()\n",
    "plt.show()"
   ]
  },
  {
   "cell_type": "code",
   "execution_count": 48,
   "id": "8bf1dd8e",
   "metadata": {},
   "outputs": [
    {
     "data": {
      "image/png": "[encoded data removed]",
      "text/plain": [
       "<Figure size 1000x800 with 2 Axes>"
      ]
     },
     "metadata": {},
     "output_type": "display_data"
    }
   ],
   "source": [
    "# Let's check the correlation between the numerical variables\n",
    "\n",
    "plt.figure(figsize = (10, 8))\n",
    "sns.heatmap(final_df[['view_count_start', 'likes_start', 'comment_count_start', 'hoursTakenToTrend', 'tagCount']].corr(), linewidths=.5, annot=True, cmap='coolwarm')\n",
    "plt.title(\"Correlation between Numerical variables\", fontweight = 'bold')\n",
    "plt.show()"
   ]
  },
  {
   "cell_type": "code",
   "execution_count": 49,
   "id": "2798c3fd",
   "metadata": {},
   "outputs": [
    {
     "data": {
      "image/png": "[encoded data removed]",
      "text/plain": [
       "<Figure size 1000x500 with 1 Axes>"
      ]
     },
     "metadata": {},
     "output_type": "display_data"
    }
   ],
   "source": [
    "fig, ax = plt.subplots(figsize = (10, 5))\n",
    "sns.barplot(data = final_df, x = 'categoryId', y = 'like/view_start', \n",
    "            order = final_df.groupby('categoryId').mean()['like/view_start'].sort_values().index, ci = None)\n",
    "for patch in ax.patches:\n",
    "    ax.annotate(round(patch.get_height(), 2), (patch.get_x() + 0.12, patch.get_height() + 4e-4), size = 9)\n",
    "    \n",
    "plt.title(\"Average like-per-view in each Category\", fontweight = 'bold')\n",
    "plt.ylabel(\"likes per view\")\n",
    "plt.xticks(rotation = 90)\n",
    "plt.grid()\n",
    "plt.show()"
   ]
  },
  {
   "cell_type": "markdown",
   "id": "8eacd583",
   "metadata": {},
   "source": [
    "# Outlier Treatment"
   ]
  },
  {
   "cell_type": "markdown",
   "id": "ae8c5ac1",
   "metadata": {},
   "source": [
    "Some of the features in our dataset had extreme outliers. To treat those outliers we have used a Log-Normalization technique.\n",
    "\n",
    "#### Reference:\n",
    "https://developers.google.com/machine-learning/data-prep/transform/normalization"
   ]
  },
  {
   "cell_type": "markdown",
   "id": "852e9203",
   "metadata": {},
   "source": [
    "### Feature 1: likes_start"
   ]
  },
  {
   "cell_type": "code",
   "execution_count": 50,
   "id": "b9e5b6bf",
   "metadata": {
    "scrolled": false
   },
   "outputs": [
    {
     "data": {
      "image/png": "[encoded data removed]",
      "text/plain": [
       "<Figure size 1000x300 with 2 Axes>"
      ]
     },
     "metadata": {},
     "output_type": "display_data"
    }
   ],
   "source": [
    "fig, ax = plt.subplots(1, 2, figsize = (10, 3))\n",
    "sns.boxplot(final_df['likes_start'], ax = ax[0])\n",
    "sns.histplot(final_df['likes_start'], ax = ax[1], kde = True)\n",
    "plt.tight_layout()\n",
    "plt.show()"
   ]
  },
  {
   "cell_type": "code",
   "execution_count": 51,
   "id": "51846347",
   "metadata": {},
   "outputs": [],
   "source": [
    "# Applying log Normalization Technique\n",
    "\n",
    "final_df['likes_start'] = np.log(final_df['likes_start'] + 1)\n",
    "final_df['likes_end'] = np.log(final_df['likes_end'] + 1)"
   ]
  },
  {
   "cell_type": "code",
   "execution_count": 52,
   "id": "01acf683",
   "metadata": {
    "scrolled": true
   },
   "outputs": [
    {
     "data": {
      "image/png": "[encoded data removed]",
      "text/plain": [
       "<Figure size 1000x300 with 2 Axes>"
      ]
     },
     "metadata": {},
     "output_type": "display_data"
    }
   ],
   "source": [
    "fig, ax = plt.subplots(1, 2, figsize = (10, 3))\n",
    "sns.boxplot(final_df['likes_start'], ax = ax[0])\n",
    "sns.histplot(np.log(final_df['likes_start'] + 1), ax = ax[1], kde = True)\n",
    "plt.tight_layout()\n",
    "plt.show()"
   ]
  },
  {
   "cell_type": "markdown",
   "id": "18d7fe2c",
   "metadata": {},
   "source": [
    "### Feature 2: videoDuration"
   ]
  },
  {
   "cell_type": "code",
   "execution_count": 53,
   "id": "12e7b1a6",
   "metadata": {
    "scrolled": true
   },
   "outputs": [
    {
     "data": {
      "image/png": "[encoded data removed]",
      "text/plain": [
       "<Figure size 1000x300 with 2 Axes>"
      ]
     },
     "metadata": {},
     "output_type": "display_data"
    }
   ],
   "source": [
    "fig, ax = plt.subplots(1, 2, figsize = (10, 3))\n",
    "sns.boxplot(final_df['videoDuration'], ax = ax[0])\n",
    "sns.histplot(final_df['videoDuration'], ax = ax[1], kde = True)\n",
    "plt.tight_layout()\n",
    "plt.show()"
   ]
  },
  {
   "cell_type": "code",
   "execution_count": 54,
   "id": "639accd8",
   "metadata": {},
   "outputs": [],
   "source": [
    "# Applying log Normalization Technique\n",
    "\n",
    "final_df['videoDuration'] = np.log(final_df['videoDuration'] + 1)"
   ]
  },
  {
   "cell_type": "code",
   "execution_count": 55,
   "id": "51a48fed",
   "metadata": {},
   "outputs": [
    {
     "data": {
      "image/png": "[encoded data removed]",
      "text/plain": [
       "<Figure size 1000x300 with 2 Axes>"
      ]
     },
     "metadata": {},
     "output_type": "display_data"
    }
   ],
   "source": [
    "fig, ax = plt.subplots(1, 2, figsize = (10, 3))\n",
    "sns.boxplot(final_df['videoDuration'], ax = ax[0])\n",
    "sns.histplot(final_df['videoDuration'], ax = ax[1], kde = True)\n",
    "plt.tight_layout()\n",
    "plt.show()"
   ]
  },
  {
   "cell_type": "markdown",
   "id": "b7003efc",
   "metadata": {},
   "source": [
    "### Feature 3: view_count_start"
   ]
  },
  {
   "cell_type": "code",
   "execution_count": 56,
   "id": "3b2bdbe8",
   "metadata": {
    "scrolled": true
   },
   "outputs": [
    {
     "data": {
      "image/png": "[encoded data removed]",
      "text/plain": [
       "<Figure size 1000x300 with 2 Axes>"
      ]
     },
     "metadata": {},
     "output_type": "display_data"
    }
   ],
   "source": [
    "fig, ax = plt.subplots(1, 2, figsize = (10, 3))\n",
    "sns.boxplot(final_df['view_count_start'], ax = ax[0])\n",
    "sns.histplot(final_df['view_count_start'], ax = ax[1], kde = True)\n",
    "plt.tight_layout()\n",
    "plt.show()"
   ]
  },
  {
   "cell_type": "code",
   "execution_count": 57,
   "id": "fffa916f",
   "metadata": {},
   "outputs": [],
   "source": [
    "# Applying log Normalization Technique\n",
    "\n",
    "final_df['view_count_start'] = np.log(final_df['view_count_start'] + 1)\n",
    "final_df['view_count_end'] = np.log(final_df['view_count_end'] + 1)"
   ]
  },
  {
   "cell_type": "code",
   "execution_count": 58,
   "id": "58c466dd",
   "metadata": {},
   "outputs": [
    {
     "data": {
      "image/png": "[encoded data removed]",
      "text/plain": [
       "<Figure size 1000x300 with 2 Axes>"
      ]
     },
     "metadata": {},
     "output_type": "display_data"
    }
   ],
   "source": [
    "fig, ax = plt.subplots(1, 2, figsize = (10, 3))\n",
    "sns.boxplot(final_df['view_count_start'], ax = ax[0])\n",
    "sns.histplot(final_df['view_count_start'], ax = ax[1], kde = True)\n",
    "plt.tight_layout()\n",
    "plt.show()"
   ]
  },
  {
   "cell_type": "markdown",
   "id": "9fb8d86d",
   "metadata": {},
   "source": [
    "### Feature 4: comment_count_start"
   ]
  },
  {
   "cell_type": "code",
   "execution_count": 59,
   "id": "cc70fe4b",
   "metadata": {},
   "outputs": [
    {
     "data": {
      "image/png": "[encoded data removed]",
      "text/plain": [
       "<Figure size 1000x300 with 2 Axes>"
      ]
     },
     "metadata": {},
     "output_type": "display_data"
    }
   ],
   "source": [
    "fig, ax = plt.subplots(1, 2, figsize = (10, 3))\n",
    "sns.boxplot(final_df['comment_count_start'], ax = ax[0])\n",
    "sns.histplot(final_df['comment_count_start'], ax = ax[1], kde = True)\n",
    "plt.tight_layout()\n",
    "plt.show()"
   ]
  },
  {
   "cell_type": "code",
   "execution_count": 60,
   "id": "5e793bf1",
   "metadata": {},
   "outputs": [],
   "source": [
    "# Applying log Normalization Technique\n",
    "\n",
    "final_df['comment_count_start'] = np.log(final_df['comment_count_start'] + 1)\n",
    "final_df['comment_count_end'] = np.log(final_df['comment_count_end'] + 1)"
   ]
  },
  {
   "cell_type": "code",
   "execution_count": 61,
   "id": "e347f125",
   "metadata": {},
   "outputs": [
    {
     "data": {
      "image/png": "[encoded data removed]",
      "text/plain": [
       "<Figure size 1000x300 with 2 Axes>"
      ]
     },
     "metadata": {},
     "output_type": "display_data"
    }
   ],
   "source": [
    "fig, ax = plt.subplots(1, 2, figsize = (10, 3))\n",
    "sns.boxplot(final_df['comment_count_start'], ax = ax[0])\n",
    "sns.histplot(final_df['comment_count_start'], ax = ax[1], kde = True)\n",
    "plt.tight_layout()\n",
    "plt.show()"
   ]
  },
  {
   "cell_type": "code",
   "execution_count": 62,
   "id": "34f9906a",
   "metadata": {
    "scrolled": true
   },
   "outputs": [
    {
     "data": {
      "image/png": "[encoded data removed]",
      "text/plain": [
       "<Figure size 1000x300 with 2 Axes>"
      ]
     },
     "metadata": {},
     "output_type": "display_data"
    }
   ],
   "source": [
    "fig, ax = plt.subplots(1, 2, figsize = (10, 3))\n",
    "sns.boxplot(final_df['trendingDaysDuration'], ax = ax[0])\n",
    "sns.histplot(final_df['trendingDaysDuration'], ax = ax[1])\n",
    "plt.tight_layout()\n",
    "plt.show()"
   ]
  },
  {
   "cell_type": "markdown",
   "id": "fa9e68bb",
   "metadata": {},
   "source": [
    "### Model Building"
   ]
  },
  {
   "cell_type": "code",
   "execution_count": 63,
   "id": "811a46f0",
   "metadata": {},
   "outputs": [],
   "source": [
    "# Importing necessary libraries\n",
    "\n",
    "from sklearn.preprocessing import OneHotEncoder\n",
    "from sklearn.compose import ColumnTransformer\n",
    "from sklearn.compose import make_column_transformer\n",
    "from sklearn.svm import SVC\n",
    "from sklearn.preprocessing import StandardScaler, StandardScaler\n",
    "from sklearn.datasets import make_classification\n",
    "from sklearn.model_selection import train_test_split\n",
    "from sklearn.pipeline import Pipeline\n",
    "from sklearn.linear_model import LinearRegression, LogisticRegression\n",
    "from sklearn.tree import DecisionTreeRegressor, DecisionTreeClassifier \n",
    "from sklearn import metrics\n",
    "from sklearn.ensemble import RandomForestRegressor\n",
    "from sklearn.svm import SVR"
   ]
  },
  {
   "cell_type": "code",
   "execution_count": 64,
   "id": "f5e721b2",
   "metadata": {},
   "outputs": [],
   "source": [
    "# Preparing the dataframe for model building\n",
    "\n",
    "\n",
    "# Dropping unnecessary columns\n",
    "# Also dropping 'Comments' column. Let's build a basic model without this column\n",
    "model_df = final_df.drop(columns = ['video_id', 'title', 'channelTitle', 'tags', 'description', \n",
    "                                    'Comments', 'like/view_end'])\n",
    "model_df.dropna(inplace = True)\n",
    "\n",
    "\n",
    "# X and Y for the model\n",
    "y = model_df['view_count_end']\n",
    "X = model_df.drop(columns = ['view_count_end'])"
   ]
  },
  {
   "cell_type": "code",
   "execution_count": 65,
   "id": "3b196627",
   "metadata": {},
   "outputs": [],
   "source": [
    "# Splitting the data into train and test\n",
    "\n",
    "X_train, X_test, y_train, y_test = train_test_split(X, y, random_state = 50, train_size = 0.8)"
   ]
  },
  {
   "cell_type": "code",
   "execution_count": 66,
   "id": "09e4bb6b",
   "metadata": {},
   "outputs": [],
   "source": [
    "# Preprocessing and model building\n",
    "\n",
    "# Selecting numerical columns\n",
    "numeric_features = X_train.select_dtypes(include = ['int64', 'float64']).columns.values\n",
    "# Applying Scaling for numberical columns\n",
    "numeric_transformer = Pipeline(\n",
    "    steps=[(\"scaler\", StandardScaler())]\n",
    ")\n",
    "\n",
    "\n",
    "# Selecting Categorical columns\n",
    "categorical_features = X_train.select_dtypes(include = ['object']).columns.values\n",
    "# Applying OneHotEncoder for categorical columns\n",
    "categorical_transformer = Pipeline(\n",
    "    steps=[(\"encoder\", OneHotEncoder(drop = 'first', handle_unknown=\"ignore\"))]\n",
    ")\n",
    "\n",
    "\n",
    "# Selecting Boolean datatyped columns\n",
    "boolean_features = X_train.select_dtypes(include = ['bool']).columns.values\n",
    "# Applying binary encoding to those columns\n",
    "boolean_transformer = Pipeline(\n",
    "    steps=[(\"encoder\", OneHotEncoder(drop = 'if_binary', handle_unknown=\"ignore\"))]\n",
    ")\n",
    "\n",
    "\n",
    "# Building a column transformer which applies all those above mentioned transformations\n",
    "preprocessor = ColumnTransformer(\n",
    "    transformers=[\n",
    "        (\"num\", numeric_transformer, numeric_features),\n",
    "        (\"cat\", categorical_transformer, categorical_features),\n",
    "        (\"bool\", boolean_transformer, boolean_features)\n",
    "    ]\n",
    ")"
   ]
  },
  {
   "cell_type": "code",
   "execution_count": 67,
   "id": "bd4747f9",
   "metadata": {},
   "outputs": [],
   "source": [
    "def metric_df(model, X_train, X_test, y_train, y_test):\n",
    "    train_r2 = metrics.r2_score(model.predict(X_train), y_train)\n",
    "    test_r2 = metrics.r2_score(model.predict(X_test), y_test)\n",
    "    \n",
    "    train_mse = metrics.mean_squared_error(model.predict(X_train), y_train)\n",
    "    test_mse = metrics.mean_squared_error(model.predict(X_test), y_test)\n",
    "    \n",
    "    return pd.DataFrame([[train_r2, test_r2], [train_mse, test_mse]], \n",
    "                        columns = ['Train', 'Test'], index = ['R2_score', 'Mean Squared Error'])"
   ]
  },
  {
   "cell_type": "markdown",
   "id": "54151a50",
   "metadata": {},
   "source": [
    "## Linear Regressor"
   ]
  },
  {
   "cell_type": "code",
   "execution_count": 68,
   "id": "36514ffd",
   "metadata": {},
   "outputs": [],
   "source": [
    "# Let's use Linear regression model and Pipeline the preprocessing and lr model\n",
    "lr_model = Pipeline(\n",
    "    steps=[(\"preprocessor\", preprocessor), (\"classifier\", LinearRegression())]\n",
    ")"
   ]
  },
  {
   "cell_type": "code",
   "execution_count": 69,
   "id": "07037f00",
   "metadata": {},
   "outputs": [
    {
     "data": {
      "text/plain": [
       "Pipeline(steps=[('preprocessor',\n",
       "                 ColumnTransformer(transformers=[('num',\n",
       "                                                  Pipeline(steps=[('scaler',\n",
       "                                                                   StandardScaler())]),\n",
       "                                                  array(['likes_start', 'likes_end', 'view_count_start', 'tagCount',\n",
       "       'hoursTakenToTrend', 'trendingDaysDuration', 'comment_count_start',\n",
       "       'comment_count_end', 'videoDuration', 'like/view_start'],\n",
       "      dtype=object)),\n",
       "                                                 ('cat',\n",
       "                                                  Pipeline(steps=[('encoder',\n",
       "                                                                   OneHotEncoder(drop='first',\n",
       "                                                                                 handle_unknown='ignore'))]),\n",
       "                                                  array(['categoryId'], dtype=object)),\n",
       "                                                 ('bool',\n",
       "                                                  Pipeline(steps=[('encoder',\n",
       "                                                                   OneHotEncoder(drop='if_binary',\n",
       "                                                                                 handle_unknown='ignore'))]),\n",
       "                                                  array(['comments_disabled', 'ratings_disabled', 'madeForKids'],\n",
       "      dtype=object))])),\n",
       "                ('classifier', LinearRegression())])"
      ]
     },
     "execution_count": 69,
     "metadata": {},
     "output_type": "execute_result"
    }
   ],
   "source": [
    "# Training the model\n",
    "\n",
    "lr_model.fit(X_train, y_train)"
   ]
  },
  {
   "cell_type": "code",
   "execution_count": 70,
   "id": "68cbea4e",
   "metadata": {},
   "outputs": [
    {
     "data": {
      "text/html": [
       "<div>\n",
       "<style scoped>\n",
       "    .dataframe tbody tr th:only-of-type {\n",
       "        vertical-align: middle;\n",
       "    }\n",
       "\n",
       "    .dataframe tbody tr th {\n",
       "        vertical-align: top;\n",
       "    }\n",
       "\n",
       "    .dataframe thead th {\n",
       "        text-align: right;\n",
       "    }\n",
       "</style>\n",
       "<table border=\"1\" class=\"dataframe\">\n",
       "  <thead>\n",
       "    <tr style=\"text-align: right;\">\n",
       "      <th></th>\n",
       "      <th>Train</th>\n",
       "      <th>Test</th>\n",
       "    </tr>\n",
       "  </thead>\n",
       "  <tbody>\n",
       "    <tr>\n",
       "      <th>R2_score</th>\n",
       "      <td>0.939398</td>\n",
       "      <td>0.943027</td>\n",
       "    </tr>\n",
       "    <tr>\n",
       "      <th>Mean Squared Error</th>\n",
       "      <td>0.069004</td>\n",
       "      <td>0.063793</td>\n",
       "    </tr>\n",
       "  </tbody>\n",
       "</table>\n",
       "</div>"
      ],
      "text/plain": [
       "                       Train      Test\n",
       "R2_score            0.939398  0.943027\n",
       "Mean Squared Error  0.069004  0.063793"
      ]
     },
     "execution_count": 70,
     "metadata": {},
     "output_type": "execute_result"
    }
   ],
   "source": [
    "metric_df(lr_model, X_train, X_test, y_train, y_test)"
   ]
  },
  {
   "cell_type": "markdown",
   "id": "aaf2914e",
   "metadata": {},
   "source": [
    "## Decision Tree Regressor"
   ]
  },
  {
   "cell_type": "code",
   "execution_count": 71,
   "id": "06d05714",
   "metadata": {},
   "outputs": [],
   "source": [
    "# Let's use Linear regression model and Pipeline the preprocessing and lr model\n",
    "dt_model = Pipeline(\n",
    "    steps=[(\"preprocessor\", preprocessor), (\"classifier\", DecisionTreeRegressor())]\n",
    ")"
   ]
  },
  {
   "cell_type": "code",
   "execution_count": 72,
   "id": "2cb76362",
   "metadata": {},
   "outputs": [
    {
     "data": {
      "text/plain": [
       "Pipeline(steps=[('preprocessor',\n",
       "                 ColumnTransformer(transformers=[('num',\n",
       "                                                  Pipeline(steps=[('scaler',\n",
       "                                                                   StandardScaler())]),\n",
       "                                                  array(['likes_start', 'likes_end', 'view_count_start', 'tagCount',\n",
       "       'hoursTakenToTrend', 'trendingDaysDuration', 'comment_count_start',\n",
       "       'comment_count_end', 'videoDuration', 'like/view_start'],\n",
       "      dtype=object)),\n",
       "                                                 ('cat',\n",
       "                                                  Pipeline(steps=[('encoder',\n",
       "                                                                   OneHotEncoder(drop='first',\n",
       "                                                                                 handle_unknown='ignore'))]),\n",
       "                                                  array(['categoryId'], dtype=object)),\n",
       "                                                 ('bool',\n",
       "                                                  Pipeline(steps=[('encoder',\n",
       "                                                                   OneHotEncoder(drop='if_binary',\n",
       "                                                                                 handle_unknown='ignore'))]),\n",
       "                                                  array(['comments_disabled', 'ratings_disabled', 'madeForKids'],\n",
       "      dtype=object))])),\n",
       "                ('classifier', DecisionTreeRegressor())])"
      ]
     },
     "execution_count": 72,
     "metadata": {},
     "output_type": "execute_result"
    }
   ],
   "source": [
    "# Training the model\n",
    "\n",
    "dt_model.fit(X_train, y_train)"
   ]
  },
  {
   "cell_type": "code",
   "execution_count": 73,
   "id": "631aa2b7",
   "metadata": {},
   "outputs": [
    {
     "data": {
      "text/html": [
       "<div>\n",
       "<style scoped>\n",
       "    .dataframe tbody tr th:only-of-type {\n",
       "        vertical-align: middle;\n",
       "    }\n",
       "\n",
       "    .dataframe tbody tr th {\n",
       "        vertical-align: top;\n",
       "    }\n",
       "\n",
       "    .dataframe thead th {\n",
       "        text-align: right;\n",
       "    }\n",
       "</style>\n",
       "<table border=\"1\" class=\"dataframe\">\n",
       "  <thead>\n",
       "    <tr style=\"text-align: right;\">\n",
       "      <th></th>\n",
       "      <th>Train</th>\n",
       "      <th>Test</th>\n",
       "    </tr>\n",
       "  </thead>\n",
       "  <tbody>\n",
       "    <tr>\n",
       "      <th>R2_score</th>\n",
       "      <td>1.0</td>\n",
       "      <td>0.924850</td>\n",
       "    </tr>\n",
       "    <tr>\n",
       "      <th>Mean Squared Error</th>\n",
       "      <td>0.0</td>\n",
       "      <td>0.089028</td>\n",
       "    </tr>\n",
       "  </tbody>\n",
       "</table>\n",
       "</div>"
      ],
      "text/plain": [
       "                    Train      Test\n",
       "R2_score              1.0  0.924850\n",
       "Mean Squared Error    0.0  0.089028"
      ]
     },
     "execution_count": 73,
     "metadata": {},
     "output_type": "execute_result"
    }
   ],
   "source": [
    "metric_df(dt_model, X_train, X_test, y_train, y_test)"
   ]
  },
  {
   "cell_type": "markdown",
   "id": "1b99ed7d",
   "metadata": {},
   "source": [
    "## Random Forest Regressor"
   ]
  },
  {
   "cell_type": "code",
   "execution_count": 74,
   "id": "720ae670",
   "metadata": {},
   "outputs": [],
   "source": [
    "# Let's use Linear regression model and Pipeline the preprocessing and lr model\n",
    "rf_model = Pipeline(\n",
    "    steps=[(\"preprocessor\", preprocessor), (\"classifier\", RandomForestRegressor())]\n",
    ")"
   ]
  },
  {
   "cell_type": "code",
   "execution_count": 75,
   "id": "9aec7689",
   "metadata": {},
   "outputs": [
    {
     "data": {
      "text/plain": [
       "Pipeline(steps=[('preprocessor',\n",
       "                 ColumnTransformer(transformers=[('num',\n",
       "                                                  Pipeline(steps=[('scaler',\n",
       "                                                                   StandardScaler())]),\n",
       "                                                  array(['likes_start', 'likes_end', 'view_count_start', 'tagCount',\n",
       "       'hoursTakenToTrend', 'trendingDaysDuration', 'comment_count_start',\n",
       "       'comment_count_end', 'videoDuration', 'like/view_start'],\n",
       "      dtype=object)),\n",
       "                                                 ('cat',\n",
       "                                                  Pipeline(steps=[('encoder',\n",
       "                                                                   OneHotEncoder(drop='first',\n",
       "                                                                                 handle_unknown='ignore'))]),\n",
       "                                                  array(['categoryId'], dtype=object)),\n",
       "                                                 ('bool',\n",
       "                                                  Pipeline(steps=[('encoder',\n",
       "                                                                   OneHotEncoder(drop='if_binary',\n",
       "                                                                                 handle_unknown='ignore'))]),\n",
       "                                                  array(['comments_disabled', 'ratings_disabled', 'madeForKids'],\n",
       "      dtype=object))])),\n",
       "                ('classifier', RandomForestRegressor())])"
      ]
     },
     "execution_count": 75,
     "metadata": {},
     "output_type": "execute_result"
    }
   ],
   "source": [
    "# Training the model\n",
    "\n",
    "rf_model.fit(X_train, y_train)"
   ]
  },
  {
   "cell_type": "code",
   "execution_count": 76,
   "id": "20aef3e4",
   "metadata": {},
   "outputs": [
    {
     "data": {
      "text/html": [
       "<div>\n",
       "<style scoped>\n",
       "    .dataframe tbody tr th:only-of-type {\n",
       "        vertical-align: middle;\n",
       "    }\n",
       "\n",
       "    .dataframe tbody tr th {\n",
       "        vertical-align: top;\n",
       "    }\n",
       "\n",
       "    .dataframe thead th {\n",
       "        text-align: right;\n",
       "    }\n",
       "</style>\n",
       "<table border=\"1\" class=\"dataframe\">\n",
       "  <thead>\n",
       "    <tr style=\"text-align: right;\">\n",
       "      <th></th>\n",
       "      <th>Train</th>\n",
       "      <th>Test</th>\n",
       "    </tr>\n",
       "  </thead>\n",
       "  <tbody>\n",
       "    <tr>\n",
       "      <th>R2_score</th>\n",
       "      <td>0.995049</td>\n",
       "      <td>0.964158</td>\n",
       "    </tr>\n",
       "    <tr>\n",
       "      <th>Mean Squared Error</th>\n",
       "      <td>0.005818</td>\n",
       "      <td>0.040667</td>\n",
       "    </tr>\n",
       "  </tbody>\n",
       "</table>\n",
       "</div>"
      ],
      "text/plain": [
       "                       Train      Test\n",
       "R2_score            0.995049  0.964158\n",
       "Mean Squared Error  0.005818  0.040667"
      ]
     },
     "execution_count": 76,
     "metadata": {},
     "output_type": "execute_result"
    }
   ],
   "source": [
    "metric_df(rf_model, X_train, X_test, y_train, y_test)"
   ]
  },
  {
   "cell_type": "markdown",
   "id": "8ce09109",
   "metadata": {},
   "source": [
    "## Support Vector Machine"
   ]
  },
  {
   "cell_type": "code",
   "execution_count": 77,
   "id": "069c0275",
   "metadata": {},
   "outputs": [],
   "source": [
    "# Let's use Linear regression model and Pipeline the preprocessing and lr model\n",
    "svr_model = Pipeline(\n",
    "    steps=[(\"preprocessor\", preprocessor), (\"classifier\", SVR(kernel=\"rbf\"))]\n",
    ")"
   ]
  },
  {
   "cell_type": "code",
   "execution_count": 78,
   "id": "30be5495",
   "metadata": {},
   "outputs": [
    {
     "data": {
      "text/plain": [
       "Pipeline(steps=[('preprocessor',\n",
       "                 ColumnTransformer(transformers=[('num',\n",
       "                                                  Pipeline(steps=[('scaler',\n",
       "                                                                   StandardScaler())]),\n",
       "                                                  array(['likes_start', 'likes_end', 'view_count_start', 'tagCount',\n",
       "       'hoursTakenToTrend', 'trendingDaysDuration', 'comment_count_start',\n",
       "       'comment_count_end', 'videoDuration', 'like/view_start'],\n",
       "      dtype=object)),\n",
       "                                                 ('cat',\n",
       "                                                  Pipeline(steps=[('encoder',\n",
       "                                                                   OneHotEncoder(drop='first',\n",
       "                                                                                 handle_unknown='ignore'))]),\n",
       "                                                  array(['categoryId'], dtype=object)),\n",
       "                                                 ('bool',\n",
       "                                                  Pipeline(steps=[('encoder',\n",
       "                                                                   OneHotEncoder(drop='if_binary',\n",
       "                                                                                 handle_unknown='ignore'))]),\n",
       "                                                  array(['comments_disabled', 'ratings_disabled', 'madeForKids'],\n",
       "      dtype=object))])),\n",
       "                ('classifier', SVR())])"
      ]
     },
     "execution_count": 78,
     "metadata": {},
     "output_type": "execute_result"
    }
   ],
   "source": [
    "# Training the model\n",
    "\n",
    "svr_model.fit(X_train, y_train)"
   ]
  },
  {
   "cell_type": "code",
   "execution_count": 79,
   "id": "51974d89",
   "metadata": {},
   "outputs": [
    {
     "data": {
      "text/html": [
       "<div>\n",
       "<style scoped>\n",
       "    .dataframe tbody tr th:only-of-type {\n",
       "        vertical-align: middle;\n",
       "    }\n",
       "\n",
       "    .dataframe tbody tr th {\n",
       "        vertical-align: top;\n",
       "    }\n",
       "\n",
       "    .dataframe thead th {\n",
       "        text-align: right;\n",
       "    }\n",
       "</style>\n",
       "<table border=\"1\" class=\"dataframe\">\n",
       "  <thead>\n",
       "    <tr style=\"text-align: right;\">\n",
       "      <th></th>\n",
       "      <th>Train</th>\n",
       "      <th>Test</th>\n",
       "    </tr>\n",
       "  </thead>\n",
       "  <tbody>\n",
       "    <tr>\n",
       "      <th>R2_score</th>\n",
       "      <td>0.980478</td>\n",
       "      <td>0.973345</td>\n",
       "    </tr>\n",
       "    <tr>\n",
       "      <th>Mean Squared Error</th>\n",
       "      <td>0.022643</td>\n",
       "      <td>0.030409</td>\n",
       "    </tr>\n",
       "  </tbody>\n",
       "</table>\n",
       "</div>"
      ],
      "text/plain": [
       "                       Train      Test\n",
       "R2_score            0.980478  0.973345\n",
       "Mean Squared Error  0.022643  0.030409"
      ]
     },
     "execution_count": 79,
     "metadata": {},
     "output_type": "execute_result"
    }
   ],
   "source": [
    "metric_df(svr_model, X_train, X_test, y_train, y_test)"
   ]
  },
  {
   "cell_type": "markdown",
   "id": "d0682b14",
   "metadata": {},
   "source": [
    "### Compare model metrics"
   ]
  },
  {
   "cell_type": "code",
   "execution_count": 80,
   "id": "350548c0",
   "metadata": {},
   "outputs": [
    {
     "data": {
      "image/png": "[encoded data removed]",
      "text/plain": [
       "<Figure size 1000x300 with 1 Axes>"
      ]
     },
     "metadata": {},
     "output_type": "display_data"
    }
   ],
   "source": [
    "# Define Data\n",
    "\n",
    "models = {'Linear Regression': lr_model, 'Decision Tree': dt_model, 'Random Forest': rf_model, 'Support Vector Machine': svr_model}\n",
    "\n",
    "train_r2 = [metrics.r2_score(model.predict(X_train), y_train) for _, model in models.items()]\n",
    "test_r2 = [metrics.r2_score(model.predict(X_test), y_test) for _, model in models.items()]\n",
    "\n",
    "x_axis = np.arange(len(models))*1.2\n",
    "\n",
    "# Multi bar Chart\n",
    "\n",
    "fig, ax = plt.subplots(figsize = (10, 3))\n",
    "\n",
    "ax.bar(x_axis + (0.20), train_r2, width=0.2, label = 'Train R2 Score')\n",
    "ax.bar(x_axis + (0.20 * 2), test_r2, width=0.2, label = 'Test R2 Score')\n",
    "\n",
    "for patch in ax.patches:\n",
    "    ax.annotate(round(patch.get_height(),2), (patch.get_x() + 0.03, patch.get_height() + 0.0032), size = 9)\n",
    "\n",
    "# Xticks\n",
    "\n",
    "plt.xticks(x_axis + 0.3, models.keys(), rotation = 90)\n",
    "\n",
    "# Add legend\n",
    "\n",
    "plt.legend(bbox_to_anchor=(0.6, 1.25))\n",
    "\n",
    "# Display\n",
    "\n",
    "plt.grid()\n",
    "\n",
    "plt.show()"
   ]
  },
  {
   "cell_type": "markdown",
   "id": "eeea4c1f",
   "metadata": {},
   "source": [
    "## NLP"
   ]
  },
  {
   "cell_type": "code",
   "execution_count": 81,
   "id": "a07a5eca",
   "metadata": {},
   "outputs": [],
   "source": [
    "import re\n",
    "from nltk.stem import PorterStemmer\n",
    "from nltk.tokenize import word_tokenize\n",
    "from nltk.stem import WordNetLemmatizer\n",
    "from sklearn.model_selection import train_test_split\n",
    "from sklearn.ensemble import RandomForestClassifier\n",
    "from sklearn.tree import DecisionTreeClassifier\n",
    "from sklearn.metrics import accuracy_score, r2_score, classification_report, confusion_matrix\n",
    "from sklearn.feature_extraction.text import TfidfVectorizer, CountVectorizer\n",
    "from sklearn.feature_selection import SelectKBest\n",
    "from sklearn.feature_selection import chi2, f_regression\n",
    "from sklearn.pipeline import Pipeline\n",
    "from sklearn.svm import SVC\n",
    "from sklearn.linear_model import LogisticRegression\n",
    "from nltk.corpus import stopwords"
   ]
  },
  {
   "cell_type": "code",
   "execution_count": 82,
   "id": "866dcaa7",
   "metadata": {},
   "outputs": [],
   "source": [
    "final_df['trendingDuration'] = final_df['trendingDaysDuration'].apply(lambda x: 0 if x<=3 else(1 if x <=5 else 2))"
   ]
  },
  {
   "cell_type": "code",
   "execution_count": 83,
   "id": "e73cd380",
   "metadata": {},
   "outputs": [],
   "source": [
    "final_df = final_df[final_df['description'] != '']"
   ]
  },
  {
   "cell_type": "code",
   "execution_count": 84,
   "id": "4ed56518",
   "metadata": {},
   "outputs": [],
   "source": [
    "y = np.array(final_df['trendingDuration']).reshape(-1,1)\n",
    "X = final_df['description']"
   ]
  },
  {
   "cell_type": "code",
   "execution_count": 85,
   "id": "f157e794",
   "metadata": {},
   "outputs": [],
   "source": [
    "X = X.apply(lambda x: x.lower())\n",
    "\n",
    "X = X.apply(lambda x: re.sub('[^a-zA-Z\\s]', '', x))\n",
    "\n",
    "stop_words = stopwords.words('english')\n",
    "X = X.apply(lambda x: ' '.join([word for word in x.split() if word not in stop_words]))\n",
    "\n",
    "X = X.apply(lambda x: re.sub('http.*com', '', x))\n",
    "\n",
    "stemmer = PorterStemmer()\n",
    "\n",
    "X =  X.apply(lambda x: ' '.join([stemmer.stem(word) for word in word_tokenize(x)]))"
   ]
  },
  {
   "cell_type": "code",
   "execution_count": 86,
   "id": "aa450970",
   "metadata": {},
   "outputs": [],
   "source": [
    "X_train, X_test, y_train, y_test = train_test_split(X, y, train_size = 0.8)"
   ]
  },
  {
   "cell_type": "code",
   "execution_count": 87,
   "id": "0af7e78f",
   "metadata": {},
   "outputs": [
    {
     "data": {
      "text/plain": [
       "Pipeline(steps=[('Word Vecorizer', TfidfVectorizer(max_features=50000)),\n",
       "                ('Selecting K best features',\n",
       "                 SelectKBest(k=1000,\n",
       "                             score_func=<function chi2 at 0x000001585DFE3E50>)),\n",
       "                ('regressor', LogisticRegression())])"
      ]
     },
     "execution_count": 87,
     "metadata": {},
     "output_type": "execute_result"
    }
   ],
   "source": [
    "piped_model = Pipeline(steps=[(\"Word Vecorizer\", TfidfVectorizer(max_features=50000)),\n",
    "                       (\"Selecting K best features\", SelectKBest(score_func=chi2, k=1000)),\n",
    "                           (\"regressor\", LogisticRegression())])\n",
    "\n",
    "piped_model.fit(X_train, y_train)"
   ]
  },
  {
   "cell_type": "code",
   "execution_count": 88,
   "id": "16f14d88",
   "metadata": {},
   "outputs": [
    {
     "data": {
      "text/plain": [
       "0.5878505437004333"
      ]
     },
     "execution_count": 88,
     "metadata": {},
     "output_type": "execute_result"
    }
   ],
   "source": [
    "accuracy_score(piped_model.predict(X_train), y_train)"
   ]
  },
  {
   "cell_type": "code",
   "execution_count": 89,
   "id": "b1eb7f92",
   "metadata": {},
   "outputs": [
    {
     "data": {
      "text/plain": [
       "0.553629823413996"
      ]
     },
     "execution_count": 89,
     "metadata": {},
     "output_type": "execute_result"
    }
   ],
   "source": [
    "accuracy_score(piped_model.predict(X_test), y_test)"
   ]
  },
  {
   "cell_type": "code",
   "execution_count": 90,
   "id": "1b97beac",
   "metadata": {},
   "outputs": [],
   "source": [
    "from sklearn.feature_extraction.text import CountVectorizer"
   ]
  },
  {
   "cell_type": "code",
   "execution_count": 91,
   "id": "6ba95cde",
   "metadata": {},
   "outputs": [],
   "source": [
    "vectorizer = CountVectorizer(max_features=10000)\n",
    "\n",
    "X_train_vec = vectorizer.fit_transform(X_train)\n",
    "\n",
    "X_test_vec = vectorizer.transform(X_test)"
   ]
  },
  {
   "cell_type": "code",
   "execution_count": 92,
   "id": "7ebcc084",
   "metadata": {},
   "outputs": [],
   "source": [
    "X_train_vec = X_train_vec.toarray()"
   ]
  },
  {
   "cell_type": "code",
   "execution_count": 93,
   "id": "8d22fb61",
   "metadata": {},
   "outputs": [],
   "source": [
    "X_test_vec = X_test_vec.toarray()"
   ]
  },
  {
   "cell_type": "code",
   "execution_count": 94,
   "id": "a2dc4a41",
   "metadata": {},
   "outputs": [],
   "source": [
    "ohe = OneHotEncoder()\n",
    "\n",
    "y_train = ohe.fit_transform(y_train)\n",
    "\n",
    "y_test = ohe.transform(y_test)"
   ]
  },
  {
   "cell_type": "code",
   "execution_count": 95,
   "id": "f79de2c8",
   "metadata": {},
   "outputs": [],
   "source": [
    "from keras import models\n",
    "from keras import layers\n",
    "model = models.Sequential()\n",
    "model.add(layers.Dense(64, activation='relu', input_shape=(X_train_vec.shape[1],)))\n",
    "model.add(layers.Dense(12, activation='relu'))\n",
    "model.add(layers.Dense(3, activation='softmax'))"
   ]
  },
  {
   "cell_type": "code",
   "execution_count": 96,
   "id": "42804833",
   "metadata": {},
   "outputs": [],
   "source": [
    "model.compile(optimizer='rmsprop',\n",
    "loss='categorical_crossentropy',\n",
    "metrics=['accuracy'])"
   ]
  },
  {
   "cell_type": "code",
   "execution_count": 97,
   "id": "f009bb8b",
   "metadata": {},
   "outputs": [],
   "source": [
    "y_train = y_train.toarray()\n",
    "\n",
    "y_test = y_test.toarray()"
   ]
  },
  {
   "cell_type": "code",
   "execution_count": 98,
   "id": "0bd9b3de",
   "metadata": {
    "scrolled": false
   },
   "outputs": [
    {
     "name": "stdout",
     "output_type": "stream",
     "text": [
      "Epoch 1/5\n",
      "48/48 [==============================] - 2s 27ms/step - loss: 1.0115 - accuracy: 0.5477 - val_loss: 0.9856 - val_accuracy: 0.5468\n",
      "Epoch 2/5\n",
      "48/48 [==============================] - 1s 22ms/step - loss: 0.9142 - accuracy: 0.5719 - val_loss: 0.9828 - val_accuracy: 0.5405\n",
      "Epoch 3/5\n",
      "48/48 [==============================] - 1s 20ms/step - loss: 0.8339 - accuracy: 0.6244 - val_loss: 1.0118 - val_accuracy: 0.5376\n",
      "Epoch 4/5\n",
      "48/48 [==============================] - 1s 19ms/step - loss: 0.7561 - accuracy: 0.6765 - val_loss: 1.0520 - val_accuracy: 0.5229\n",
      "Epoch 5/5\n",
      "48/48 [==============================] - 1s 18ms/step - loss: 0.6857 - accuracy: 0.7143 - val_loss: 1.1146 - val_accuracy: 0.5173\n"
     ]
    }
   ],
   "source": [
    "history = model.fit(X_train_vec, y_train, epochs=5, batch_size=512, validation_data=(X_test_vec, y_test))"
   ]
  }
 ],
 "metadata": {
  "kernelspec": {
   "display_name": "Python 3 (ipykernel)",
   "language": "python",
   "name": "python3"
  },
  "language_info": {
   "codemirror_mode": {
    "name": "ipython",
    "version": 3
   },
   "file_extension": ".py",
   "mimetype": "text/x-python",
   "name": "python",
   "nbconvert_exporter": "python",
   "pygments_lexer": "ipython3",
   "version": "3.9.13"
  }
 },
 "nbformat": 4,
 "nbformat_minor": 5
}
