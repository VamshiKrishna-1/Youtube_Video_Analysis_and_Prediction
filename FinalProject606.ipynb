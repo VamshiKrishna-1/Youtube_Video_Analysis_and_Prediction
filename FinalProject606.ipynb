{
 "cells": [
  {
   "cell_type": "code",
   "execution_count": 1,
   "id": "7d6298e1",
   "metadata": {},
   "outputs": [],
   "source": [
    "import opendatasets as od\n",
    "import os\n",
    "import pandas as pd\n",
    "import matplotlib.pyplot as plt\n",
    "import seaborn as sns\n",
    "import json\n",
    "import warnings\n",
    "import numpy as np\n",
    "import statistics as st\n",
    "\n",
    "warnings.filterwarnings('ignore')"
   ]
  },
  {
   "cell_type": "code",
   "execution_count": 2,
   "id": "e76e0fe9",
   "metadata": {
    "scrolled": true
   },
   "outputs": [
    {
     "name": "stdout",
     "output_type": "stream",
     "text": [
      "Requirement already satisfied: opendatasets in c:\\users\\timbe\\anaconda3\\lib\\site-packages (0.1.22)\n",
      "Requirement already satisfied: tqdm in c:\\users\\timbe\\anaconda3\\lib\\site-packages (from opendatasets) (4.64.1)\n",
      "Requirement already satisfied: click in c:\\users\\timbe\\anaconda3\\lib\\site-packages (from opendatasets) (8.0.4)\n",
      "Requirement already satisfied: kaggle in c:\\users\\timbe\\anaconda3\\lib\\site-packages (from opendatasets) (1.5.12)\n",
      "Requirement already satisfied: colorama in c:\\users\\timbe\\anaconda3\\lib\\site-packages (from click->opendatasets) (0.4.5)\n",
      "Requirement already satisfied: python-slugify in c:\\users\\timbe\\anaconda3\\lib\\site-packages (from kaggle->opendatasets) (5.0.2)\n",
      "Requirement already satisfied: six>=1.10 in c:\\users\\timbe\\anaconda3\\lib\\site-packages (from kaggle->opendatasets) (1.16.0)\n",
      "Requirement already satisfied: requests in c:\\users\\timbe\\anaconda3\\lib\\site-packages (from kaggle->opendatasets) (2.28.1)\n",
      "Requirement already satisfied: certifi in c:\\users\\timbe\\anaconda3\\lib\\site-packages (from kaggle->opendatasets) (2022.9.14)\n",
      "Requirement already satisfied: urllib3 in c:\\users\\timbe\\anaconda3\\lib\\site-packages (from kaggle->opendatasets) (1.26.11)\n",
      "Requirement already satisfied: python-dateutil in c:\\users\\timbe\\anaconda3\\lib\\site-packages (from kaggle->opendatasets) (2.8.2)\n",
      "Requirement already satisfied: text-unidecode>=1.3 in c:\\users\\timbe\\anaconda3\\lib\\site-packages (from python-slugify->kaggle->opendatasets) (1.3)\n",
      "Requirement already satisfied: charset-normalizer<3,>=2 in c:\\users\\timbe\\anaconda3\\lib\\site-packages (from requests->kaggle->opendatasets) (2.0.4)\n",
      "Requirement already satisfied: idna<4,>=2.5 in c:\\users\\timbe\\anaconda3\\lib\\site-packages (from requests->kaggle->opendatasets) (3.3)\n"
     ]
    }
   ],
   "source": [
    "!pip install opendatasets"
   ]
  },
  {
   "cell_type": "code",
   "execution_count": 3,
   "id": "2a51d955",
   "metadata": {},
   "outputs": [],
   "source": [
    "dataset = 'https://www.kaggle.com/datasets/rsrishav/youtube-trending-video-dataset?select=US_youtube_trending_data.csv'\n",
    "\n",
    "final_dir = '\\\\'.join(os.getcwd().split('\\\\')[:-1])"
   ]
  },
  {
   "cell_type": "code",
   "execution_count": 4,
   "id": "7b76e40e",
   "metadata": {
    "scrolled": true
   },
   "outputs": [
    {
     "name": "stdout",
     "output_type": "stream",
     "text": [
      "Skipping, found downloaded files in \"C:\\Users\\timbe\\Final Project\\youtube-trending-video-dataset\" (use force=True to force download)\n"
     ]
    }
   ],
   "source": [
    "od.download(dataset, data_dir=final_dir)\n",
    "\n",
    "final_dir += '\\\\youtube-trending-video-dataset\\\\US_youtube_trending_data.csv'"
   ]
  },
  {
   "cell_type": "code",
   "execution_count": 5,
   "id": "afd454e3",
   "metadata": {},
   "outputs": [
    {
     "data": {
      "text/html": [
       "<div>\n",
       "<style scoped>\n",
       "    .dataframe tbody tr th:only-of-type {\n",
       "        vertical-align: middle;\n",
       "    }\n",
       "\n",
       "    .dataframe tbody tr th {\n",
       "        vertical-align: top;\n",
       "    }\n",
       "\n",
       "    .dataframe thead th {\n",
       "        text-align: right;\n",
       "    }\n",
       "</style>\n",
       "<table border=\"1\" class=\"dataframe\">\n",
       "  <thead>\n",
       "    <tr style=\"text-align: right;\">\n",
       "      <th></th>\n",
       "      <th>video_id</th>\n",
       "      <th>title</th>\n",
       "      <th>publishedAt</th>\n",
       "      <th>channelId</th>\n",
       "      <th>channelTitle</th>\n",
       "      <th>categoryId</th>\n",
       "      <th>trending_date</th>\n",
       "      <th>tags</th>\n",
       "      <th>view_count</th>\n",
       "      <th>likes</th>\n",
       "      <th>dislikes</th>\n",
       "      <th>comment_count</th>\n",
       "      <th>thumbnail_link</th>\n",
       "      <th>comments_disabled</th>\n",
       "      <th>ratings_disabled</th>\n",
       "      <th>description</th>\n",
       "    </tr>\n",
       "  </thead>\n",
       "  <tbody>\n",
       "    <tr>\n",
       "      <th>0</th>\n",
       "      <td>3C66w5Z0ixs</td>\n",
       "      <td>I ASKED HER TO BE MY GIRLFRIEND...</td>\n",
       "      <td>2020-08-11T19:20:14Z</td>\n",
       "      <td>UCvtRTOMP2TqYqu51xNrqAzg</td>\n",
       "      <td>Brawadis</td>\n",
       "      <td>22</td>\n",
       "      <td>2020-08-12T00:00:00Z</td>\n",
       "      <td>brawadis|prank|basketball|skits|ghost|funny vi...</td>\n",
       "      <td>1514614</td>\n",
       "      <td>156908</td>\n",
       "      <td>5855</td>\n",
       "      <td>35313</td>\n",
       "      <td>https://i.ytimg.com/vi/3C66w5Z0ixs/default.jpg</td>\n",
       "      <td>False</td>\n",
       "      <td>False</td>\n",
       "      <td>SUBSCRIBE to BRAWADIS ▶ http://bit.ly/Subscrib...</td>\n",
       "    </tr>\n",
       "    <tr>\n",
       "      <th>1</th>\n",
       "      <td>M9Pmf9AB4Mo</td>\n",
       "      <td>Apex Legends | Stories from the Outlands – “Th...</td>\n",
       "      <td>2020-08-11T17:00:10Z</td>\n",
       "      <td>UC0ZV6M2THA81QT9hrVWJG3A</td>\n",
       "      <td>Apex Legends</td>\n",
       "      <td>20</td>\n",
       "      <td>2020-08-12T00:00:00Z</td>\n",
       "      <td>Apex Legends|Apex Legends characters|new Apex ...</td>\n",
       "      <td>2381688</td>\n",
       "      <td>146739</td>\n",
       "      <td>2794</td>\n",
       "      <td>16549</td>\n",
       "      <td>https://i.ytimg.com/vi/M9Pmf9AB4Mo/default.jpg</td>\n",
       "      <td>False</td>\n",
       "      <td>False</td>\n",
       "      <td>While running her own modding shop, Ramya Pare...</td>\n",
       "    </tr>\n",
       "    <tr>\n",
       "      <th>2</th>\n",
       "      <td>J78aPJ3VyNs</td>\n",
       "      <td>I left youtube for a month and THIS is what ha...</td>\n",
       "      <td>2020-08-11T16:34:06Z</td>\n",
       "      <td>UCYzPXprvl5Y-Sf0g4vX-m6g</td>\n",
       "      <td>jacksepticeye</td>\n",
       "      <td>24</td>\n",
       "      <td>2020-08-12T00:00:00Z</td>\n",
       "      <td>jacksepticeye|funny|funny meme|memes|jacksepti...</td>\n",
       "      <td>2038853</td>\n",
       "      <td>353787</td>\n",
       "      <td>2628</td>\n",
       "      <td>40221</td>\n",
       "      <td>https://i.ytimg.com/vi/J78aPJ3VyNs/default.jpg</td>\n",
       "      <td>False</td>\n",
       "      <td>False</td>\n",
       "      <td>I left youtube for a month and this is what ha...</td>\n",
       "    </tr>\n",
       "  </tbody>\n",
       "</table>\n",
       "</div>"
      ],
      "text/plain": [
       "      video_id                                              title  \\\n",
       "0  3C66w5Z0ixs                 I ASKED HER TO BE MY GIRLFRIEND...   \n",
       "1  M9Pmf9AB4Mo  Apex Legends | Stories from the Outlands – “Th...   \n",
       "2  J78aPJ3VyNs  I left youtube for a month and THIS is what ha...   \n",
       "\n",
       "            publishedAt                 channelId   channelTitle  categoryId  \\\n",
       "0  2020-08-11T19:20:14Z  UCvtRTOMP2TqYqu51xNrqAzg       Brawadis          22   \n",
       "1  2020-08-11T17:00:10Z  UC0ZV6M2THA81QT9hrVWJG3A   Apex Legends          20   \n",
       "2  2020-08-11T16:34:06Z  UCYzPXprvl5Y-Sf0g4vX-m6g  jacksepticeye          24   \n",
       "\n",
       "          trending_date                                               tags  \\\n",
       "0  2020-08-12T00:00:00Z  brawadis|prank|basketball|skits|ghost|funny vi...   \n",
       "1  2020-08-12T00:00:00Z  Apex Legends|Apex Legends characters|new Apex ...   \n",
       "2  2020-08-12T00:00:00Z  jacksepticeye|funny|funny meme|memes|jacksepti...   \n",
       "\n",
       "   view_count   likes  dislikes  comment_count  \\\n",
       "0     1514614  156908      5855          35313   \n",
       "1     2381688  146739      2794          16549   \n",
       "2     2038853  353787      2628          40221   \n",
       "\n",
       "                                   thumbnail_link  comments_disabled  \\\n",
       "0  https://i.ytimg.com/vi/3C66w5Z0ixs/default.jpg              False   \n",
       "1  https://i.ytimg.com/vi/M9Pmf9AB4Mo/default.jpg              False   \n",
       "2  https://i.ytimg.com/vi/J78aPJ3VyNs/default.jpg              False   \n",
       "\n",
       "   ratings_disabled                                        description  \n",
       "0             False  SUBSCRIBE to BRAWADIS ▶ http://bit.ly/Subscrib...  \n",
       "1             False  While running her own modding shop, Ramya Pare...  \n",
       "2             False  I left youtube for a month and this is what ha...  "
      ]
     },
     "execution_count": 5,
     "metadata": {},
     "output_type": "execute_result"
    }
   ],
   "source": [
    "data = pd.read_csv(final_dir)\n",
    "\n",
    "data.head(3)"
   ]
  },
  {
   "cell_type": "code",
   "execution_count": 6,
   "id": "249d97da",
   "metadata": {},
   "outputs": [
    {
     "data": {
      "text/plain": [
       "(185990, 16)"
      ]
     },
     "execution_count": 6,
     "metadata": {},
     "output_type": "execute_result"
    }
   ],
   "source": [
    "# Checking the shape of the DataFrame\n",
    "data.shape"
   ]
  },
  {
   "cell_type": "code",
   "execution_count": 7,
   "id": "c8ef4733",
   "metadata": {},
   "outputs": [
    {
     "data": {
      "text/plain": [
       "34066"
      ]
     },
     "execution_count": 7,
     "metadata": {},
     "output_type": "execute_result"
    }
   ],
   "source": [
    "data['video_id'].nunique()"
   ]
  },
  {
   "cell_type": "code",
   "execution_count": 8,
   "id": "33c27023",
   "metadata": {},
   "outputs": [],
   "source": [
    "with open('VideoIDs.txt', 'w') as file:\n",
    "    file.write(','.join(data['video_id'].unique()))"
   ]
  },
  {
   "cell_type": "code",
   "execution_count": 9,
   "id": "e8c44abd",
   "metadata": {},
   "outputs": [],
   "source": [
    "videos_str = open(\"VideoIDs.txt\", 'r').read()\n",
    "videos_list = videos_str.split(',')"
   ]
  },
  {
   "cell_type": "code",
   "execution_count": 10,
   "id": "54b2416b",
   "metadata": {
    "scrolled": true
   },
   "outputs": [
    {
     "data": {
      "text/plain": [
       "34066"
      ]
     },
     "execution_count": 10,
     "metadata": {},
     "output_type": "execute_result"
    }
   ],
   "source": [
    "len(videos_list)"
   ]
  },
  {
   "cell_type": "code",
   "execution_count": 11,
   "id": "a7978bab",
   "metadata": {},
   "outputs": [
    {
     "data": {
      "text/html": [
       "<div>\n",
       "<style scoped>\n",
       "    .dataframe tbody tr th:only-of-type {\n",
       "        vertical-align: middle;\n",
       "    }\n",
       "\n",
       "    .dataframe tbody tr th {\n",
       "        vertical-align: top;\n",
       "    }\n",
       "\n",
       "    .dataframe thead th {\n",
       "        text-align: right;\n",
       "    }\n",
       "</style>\n",
       "<table border=\"1\" class=\"dataframe\">\n",
       "  <thead>\n",
       "    <tr style=\"text-align: right;\">\n",
       "      <th></th>\n",
       "      <th>video_id</th>\n",
       "      <th>title</th>\n",
       "      <th>publishedAt</th>\n",
       "      <th>channelTitle</th>\n",
       "      <th>categoryId</th>\n",
       "      <th>trending_date</th>\n",
       "      <th>tags</th>\n",
       "      <th>view_count</th>\n",
       "      <th>likes</th>\n",
       "      <th>dislikes</th>\n",
       "      <th>comment_count</th>\n",
       "      <th>thumbnail_link</th>\n",
       "      <th>comments_disabled</th>\n",
       "      <th>ratings_disabled</th>\n",
       "      <th>description</th>\n",
       "    </tr>\n",
       "  </thead>\n",
       "  <tbody>\n",
       "    <tr>\n",
       "      <th>0</th>\n",
       "      <td>3C66w5Z0ixs</td>\n",
       "      <td>I ASKED HER TO BE MY GIRLFRIEND...</td>\n",
       "      <td>2020-08-11T19:20:14Z</td>\n",
       "      <td>Brawadis</td>\n",
       "      <td>22</td>\n",
       "      <td>2020-08-12T00:00:00Z</td>\n",
       "      <td>brawadis|prank|basketball|skits|ghost|funny vi...</td>\n",
       "      <td>1514614</td>\n",
       "      <td>156908</td>\n",
       "      <td>5855</td>\n",
       "      <td>35313</td>\n",
       "      <td>https://i.ytimg.com/vi/3C66w5Z0ixs/default.jpg</td>\n",
       "      <td>False</td>\n",
       "      <td>False</td>\n",
       "      <td>SUBSCRIBE to BRAWADIS ▶ http://bit.ly/Subscrib...</td>\n",
       "    </tr>\n",
       "    <tr>\n",
       "      <th>1</th>\n",
       "      <td>M9Pmf9AB4Mo</td>\n",
       "      <td>Apex Legends | Stories from the Outlands – “Th...</td>\n",
       "      <td>2020-08-11T17:00:10Z</td>\n",
       "      <td>Apex Legends</td>\n",
       "      <td>20</td>\n",
       "      <td>2020-08-12T00:00:00Z</td>\n",
       "      <td>Apex Legends|Apex Legends characters|new Apex ...</td>\n",
       "      <td>2381688</td>\n",
       "      <td>146739</td>\n",
       "      <td>2794</td>\n",
       "      <td>16549</td>\n",
       "      <td>https://i.ytimg.com/vi/M9Pmf9AB4Mo/default.jpg</td>\n",
       "      <td>False</td>\n",
       "      <td>False</td>\n",
       "      <td>While running her own modding shop, Ramya Pare...</td>\n",
       "    </tr>\n",
       "    <tr>\n",
       "      <th>2</th>\n",
       "      <td>J78aPJ3VyNs</td>\n",
       "      <td>I left youtube for a month and THIS is what ha...</td>\n",
       "      <td>2020-08-11T16:34:06Z</td>\n",
       "      <td>jacksepticeye</td>\n",
       "      <td>24</td>\n",
       "      <td>2020-08-12T00:00:00Z</td>\n",
       "      <td>jacksepticeye|funny|funny meme|memes|jacksepti...</td>\n",
       "      <td>2038853</td>\n",
       "      <td>353787</td>\n",
       "      <td>2628</td>\n",
       "      <td>40221</td>\n",
       "      <td>https://i.ytimg.com/vi/J78aPJ3VyNs/default.jpg</td>\n",
       "      <td>False</td>\n",
       "      <td>False</td>\n",
       "      <td>I left youtube for a month and this is what ha...</td>\n",
       "    </tr>\n",
       "  </tbody>\n",
       "</table>\n",
       "</div>"
      ],
      "text/plain": [
       "      video_id                                              title  \\\n",
       "0  3C66w5Z0ixs                 I ASKED HER TO BE MY GIRLFRIEND...   \n",
       "1  M9Pmf9AB4Mo  Apex Legends | Stories from the Outlands – “Th...   \n",
       "2  J78aPJ3VyNs  I left youtube for a month and THIS is what ha...   \n",
       "\n",
       "            publishedAt   channelTitle  categoryId         trending_date  \\\n",
       "0  2020-08-11T19:20:14Z       Brawadis          22  2020-08-12T00:00:00Z   \n",
       "1  2020-08-11T17:00:10Z   Apex Legends          20  2020-08-12T00:00:00Z   \n",
       "2  2020-08-11T16:34:06Z  jacksepticeye          24  2020-08-12T00:00:00Z   \n",
       "\n",
       "                                                tags  view_count   likes  \\\n",
       "0  brawadis|prank|basketball|skits|ghost|funny vi...     1514614  156908   \n",
       "1  Apex Legends|Apex Legends characters|new Apex ...     2381688  146739   \n",
       "2  jacksepticeye|funny|funny meme|memes|jacksepti...     2038853  353787   \n",
       "\n",
       "   dislikes  comment_count                                  thumbnail_link  \\\n",
       "0      5855          35313  https://i.ytimg.com/vi/3C66w5Z0ixs/default.jpg   \n",
       "1      2794          16549  https://i.ytimg.com/vi/M9Pmf9AB4Mo/default.jpg   \n",
       "2      2628          40221  https://i.ytimg.com/vi/J78aPJ3VyNs/default.jpg   \n",
       "\n",
       "   comments_disabled  ratings_disabled  \\\n",
       "0              False             False   \n",
       "1              False             False   \n",
       "2              False             False   \n",
       "\n",
       "                                         description  \n",
       "0  SUBSCRIBE to BRAWADIS ▶ http://bit.ly/Subscrib...  \n",
       "1  While running her own modding shop, Ramya Pare...  \n",
       "2  I left youtube for a month and this is what ha...  "
      ]
     },
     "execution_count": 11,
     "metadata": {},
     "output_type": "execute_result"
    }
   ],
   "source": [
    "# Dropping channelID column as it is not necessary for the analysis and prediction \n",
    "\n",
    "data.drop(['channelId'], axis = 1, inplace = True)\n",
    "\n",
    "# Validating the above code\n",
    "\n",
    "data.head(3)"
   ]
  },
  {
   "cell_type": "code",
   "execution_count": 12,
   "id": "74c69cdf",
   "metadata": {
    "scrolled": true
   },
   "outputs": [
    {
     "data": {
      "text/html": [
       "<div>\n",
       "<style scoped>\n",
       "    .dataframe tbody tr th:only-of-type {\n",
       "        vertical-align: middle;\n",
       "    }\n",
       "\n",
       "    .dataframe tbody tr th {\n",
       "        vertical-align: top;\n",
       "    }\n",
       "\n",
       "    .dataframe thead th {\n",
       "        text-align: right;\n",
       "    }\n",
       "</style>\n",
       "<table border=\"1\" class=\"dataframe\">\n",
       "  <thead>\n",
       "    <tr style=\"text-align: right;\">\n",
       "      <th></th>\n",
       "      <th>Count</th>\n",
       "      <th>Percentage</th>\n",
       "    </tr>\n",
       "  </thead>\n",
       "  <tbody>\n",
       "    <tr>\n",
       "      <th>description</th>\n",
       "      <td>4048.0</td>\n",
       "      <td>2.18</td>\n",
       "    </tr>\n",
       "    <tr>\n",
       "      <th>video_id</th>\n",
       "      <td>0.0</td>\n",
       "      <td>0.00</td>\n",
       "    </tr>\n",
       "    <tr>\n",
       "      <th>title</th>\n",
       "      <td>0.0</td>\n",
       "      <td>0.00</td>\n",
       "    </tr>\n",
       "    <tr>\n",
       "      <th>publishedAt</th>\n",
       "      <td>0.0</td>\n",
       "      <td>0.00</td>\n",
       "    </tr>\n",
       "    <tr>\n",
       "      <th>channelTitle</th>\n",
       "      <td>0.0</td>\n",
       "      <td>0.00</td>\n",
       "    </tr>\n",
       "    <tr>\n",
       "      <th>categoryId</th>\n",
       "      <td>0.0</td>\n",
       "      <td>0.00</td>\n",
       "    </tr>\n",
       "    <tr>\n",
       "      <th>trending_date</th>\n",
       "      <td>0.0</td>\n",
       "      <td>0.00</td>\n",
       "    </tr>\n",
       "    <tr>\n",
       "      <th>tags</th>\n",
       "      <td>0.0</td>\n",
       "      <td>0.00</td>\n",
       "    </tr>\n",
       "    <tr>\n",
       "      <th>view_count</th>\n",
       "      <td>0.0</td>\n",
       "      <td>0.00</td>\n",
       "    </tr>\n",
       "    <tr>\n",
       "      <th>likes</th>\n",
       "      <td>0.0</td>\n",
       "      <td>0.00</td>\n",
       "    </tr>\n",
       "    <tr>\n",
       "      <th>dislikes</th>\n",
       "      <td>0.0</td>\n",
       "      <td>0.00</td>\n",
       "    </tr>\n",
       "    <tr>\n",
       "      <th>comment_count</th>\n",
       "      <td>0.0</td>\n",
       "      <td>0.00</td>\n",
       "    </tr>\n",
       "    <tr>\n",
       "      <th>thumbnail_link</th>\n",
       "      <td>0.0</td>\n",
       "      <td>0.00</td>\n",
       "    </tr>\n",
       "    <tr>\n",
       "      <th>comments_disabled</th>\n",
       "      <td>0.0</td>\n",
       "      <td>0.00</td>\n",
       "    </tr>\n",
       "    <tr>\n",
       "      <th>ratings_disabled</th>\n",
       "      <td>0.0</td>\n",
       "      <td>0.00</td>\n",
       "    </tr>\n",
       "  </tbody>\n",
       "</table>\n",
       "</div>"
      ],
      "text/plain": [
       "                    Count  Percentage\n",
       "description        4048.0        2.18\n",
       "video_id              0.0        0.00\n",
       "title                 0.0        0.00\n",
       "publishedAt           0.0        0.00\n",
       "channelTitle          0.0        0.00\n",
       "categoryId            0.0        0.00\n",
       "trending_date         0.0        0.00\n",
       "tags                  0.0        0.00\n",
       "view_count            0.0        0.00\n",
       "likes                 0.0        0.00\n",
       "dislikes              0.0        0.00\n",
       "comment_count         0.0        0.00\n",
       "thumbnail_link        0.0        0.00\n",
       "comments_disabled     0.0        0.00\n",
       "ratings_disabled      0.0        0.00"
      ]
     },
     "execution_count": 12,
     "metadata": {},
     "output_type": "execute_result"
    }
   ],
   "source": [
    "# Checking null values\n",
    "\n",
    "def null_values(df):\n",
    "    temp = df.isna().sum()\n",
    "    temp_1 = round(temp * 100 / df.shape[0], 2)\n",
    "    \n",
    "    return pd.DataFrame((temp, temp_1), index = ['Count', 'Percentage']).T.sort_values('Count', ascending = False)\n",
    "\n",
    "\n",
    "null_values(data)"
   ]
  },
  {
   "cell_type": "markdown",
   "id": "9e26903b",
   "metadata": {},
   "source": [
    "We can see that there are around 10% missing values in `description` column and only 1 missing value in `channelTitle` column.\n",
    "- We shall keep the `description` column as it is while analysis and do the null value treatment during model building.\n",
    "- We shall delete one row from which has the null value in `channelTitle` column."
   ]
  },
  {
   "cell_type": "code",
   "execution_count": 13,
   "id": "62c013d1",
   "metadata": {},
   "outputs": [
    {
     "data": {
      "text/plain": [
       "video_id             object\n",
       "title                object\n",
       "publishedAt          object\n",
       "channelTitle         object\n",
       "categoryId            int64\n",
       "trending_date        object\n",
       "tags                 object\n",
       "view_count            int64\n",
       "likes                 int64\n",
       "dislikes              int64\n",
       "comment_count         int64\n",
       "thumbnail_link       object\n",
       "comments_disabled      bool\n",
       "ratings_disabled       bool\n",
       "description          object\n",
       "dtype: object"
      ]
     },
     "execution_count": 13,
     "metadata": {},
     "output_type": "execute_result"
    }
   ],
   "source": [
    "# Let's check the datatypes of each column in DataFrame\n",
    "\n",
    "data.dtypes"
   ]
  },
  {
   "cell_type": "markdown",
   "id": "e46f0419",
   "metadata": {},
   "source": [
    "- `publishedAt`, `trending_date` are object type. Let's convert it to Datetime format."
   ]
  },
  {
   "cell_type": "code",
   "execution_count": 14,
   "id": "9a1285b0",
   "metadata": {},
   "outputs": [
    {
     "data": {
      "text/plain": [
       "publishedAt      datetime64[ns, UTC]\n",
       "trending_date    datetime64[ns, UTC]\n",
       "dtype: object"
      ]
     },
     "execution_count": 14,
     "metadata": {},
     "output_type": "execute_result"
    }
   ],
   "source": [
    "# Converting 'publishedAt' and 'trending_date' to datetime objects\n",
    "\n",
    "data['publishedAt'] = pd.to_datetime(data['publishedAt'])\n",
    "data['trending_date'] = pd.to_datetime(data['trending_date'])\n",
    "\n",
    "# Validating the above changes\n",
    "\n",
    "data.dtypes[['publishedAt', 'trending_date']]"
   ]
  },
  {
   "cell_type": "code",
   "execution_count": 15,
   "id": "852d213d",
   "metadata": {},
   "outputs": [
    {
     "data": {
      "text/plain": [
       "array([22, 20, 24, 10, 26, 27, 23, 28,  1, 25, 17, 19, 15,  2, 29],\n",
       "      dtype=int64)"
      ]
     },
     "execution_count": 15,
     "metadata": {},
     "output_type": "execute_result"
    }
   ],
   "source": [
    "data['categoryId'].unique()\n"
   ]
  },
  {
   "cell_type": "markdown",
   "id": "6741d36a",
   "metadata": {},
   "source": [
    "We can see that `categoryId` column has id's of repective categories. We can access the description of categoryId from the `US_category_id.json` file."
   ]
  },
  {
   "cell_type": "code",
   "execution_count": 16,
   "id": "5eadd0e7",
   "metadata": {},
   "outputs": [
    {
     "data": {
      "text/plain": [
       "0    People & Blogs\n",
       "1            Gaming\n",
       "2     Entertainment\n",
       "3             Music\n",
       "4     Howto & Style\n",
       "Name: categoryId, dtype: object"
      ]
     },
     "execution_count": 16,
     "metadata": {},
     "output_type": "execute_result"
    }
   ],
   "source": [
    "# Let's import US_category_id.json file and map the category id's respectively\n",
    "\n",
    "category_path = '\\\\'.join(final_dir.split('\\\\')[:-1]) + '\\\\US_category_id.json'\n",
    "\n",
    "\n",
    "# Creating a dictionary object which stores the category id and its respective category\n",
    "category_dict = {}\n",
    "\n",
    "with open(category_path, 'r') as file:\n",
    "    json_data = json.load(file)\n",
    "    for item in json_data['items']:\n",
    "        category_dict[int(item['id'])] = item['snippet']['title']\n",
    "    \n",
    "data['categoryId'] = data['categoryId'].apply(lambda x: category_dict[x])\n",
    "\n",
    "# Validating the above code\n",
    "data['categoryId'].head()"
   ]
  },
  {
   "cell_type": "markdown",
   "id": "88f70ef6",
   "metadata": {},
   "source": [
    "<b> Note: </b>\n",
    "- Although we were using IN data for analysis. The `IN_category_id.json` was missing some data.\n",
    "- Upon research, we found out that the `id` and `title` are same irrespective of the country.\n",
    "- Hence, we have used `US_category_id.json` in the above case."
   ]
  },
  {
   "cell_type": "code",
   "execution_count": 17,
   "id": "6fd0e7f6",
   "metadata": {},
   "outputs": [
    {
     "data": {
      "text/html": [
       "<div>\n",
       "<style scoped>\n",
       "    .dataframe tbody tr th:only-of-type {\n",
       "        vertical-align: middle;\n",
       "    }\n",
       "\n",
       "    .dataframe tbody tr th {\n",
       "        vertical-align: top;\n",
       "    }\n",
       "\n",
       "    .dataframe thead th {\n",
       "        text-align: right;\n",
       "    }\n",
       "</style>\n",
       "<table border=\"1\" class=\"dataframe\">\n",
       "  <thead>\n",
       "    <tr style=\"text-align: right;\">\n",
       "      <th></th>\n",
       "      <th>video_id</th>\n",
       "      <th>title</th>\n",
       "      <th>publishedAt</th>\n",
       "      <th>channelTitle</th>\n",
       "      <th>categoryId</th>\n",
       "      <th>trending_date</th>\n",
       "      <th>tags</th>\n",
       "      <th>view_count</th>\n",
       "      <th>likes</th>\n",
       "      <th>dislikes</th>\n",
       "      <th>comment_count</th>\n",
       "      <th>thumbnail_link</th>\n",
       "      <th>comments_disabled</th>\n",
       "      <th>ratings_disabled</th>\n",
       "      <th>description</th>\n",
       "    </tr>\n",
       "  </thead>\n",
       "  <tbody>\n",
       "    <tr>\n",
       "      <th>0</th>\n",
       "      <td>3C66w5Z0ixs</td>\n",
       "      <td>I ASKED HER TO BE MY GIRLFRIEND...</td>\n",
       "      <td>2020-08-11 19:20:14+00:00</td>\n",
       "      <td>Brawadis</td>\n",
       "      <td>People &amp; Blogs</td>\n",
       "      <td>2020-08-12 00:00:00+00:00</td>\n",
       "      <td>brawadis|prank|basketball|skits|ghost|funny vi...</td>\n",
       "      <td>1514614</td>\n",
       "      <td>156908</td>\n",
       "      <td>5855</td>\n",
       "      <td>35313</td>\n",
       "      <td>https://i.ytimg.com/vi/3C66w5Z0ixs/default.jpg</td>\n",
       "      <td>False</td>\n",
       "      <td>False</td>\n",
       "      <td>SUBSCRIBE to BRAWADIS ▶ http://bit.ly/Subscrib...</td>\n",
       "    </tr>\n",
       "    <tr>\n",
       "      <th>1</th>\n",
       "      <td>M9Pmf9AB4Mo</td>\n",
       "      <td>Apex Legends | Stories from the Outlands – “Th...</td>\n",
       "      <td>2020-08-11 17:00:10+00:00</td>\n",
       "      <td>Apex Legends</td>\n",
       "      <td>Gaming</td>\n",
       "      <td>2020-08-12 00:00:00+00:00</td>\n",
       "      <td>Apex Legends|Apex Legends characters|new Apex ...</td>\n",
       "      <td>2381688</td>\n",
       "      <td>146739</td>\n",
       "      <td>2794</td>\n",
       "      <td>16549</td>\n",
       "      <td>https://i.ytimg.com/vi/M9Pmf9AB4Mo/default.jpg</td>\n",
       "      <td>False</td>\n",
       "      <td>False</td>\n",
       "      <td>While running her own modding shop, Ramya Pare...</td>\n",
       "    </tr>\n",
       "    <tr>\n",
       "      <th>2</th>\n",
       "      <td>J78aPJ3VyNs</td>\n",
       "      <td>I left youtube for a month and THIS is what ha...</td>\n",
       "      <td>2020-08-11 16:34:06+00:00</td>\n",
       "      <td>jacksepticeye</td>\n",
       "      <td>Entertainment</td>\n",
       "      <td>2020-08-12 00:00:00+00:00</td>\n",
       "      <td>jacksepticeye|funny|funny meme|memes|jacksepti...</td>\n",
       "      <td>2038853</td>\n",
       "      <td>353787</td>\n",
       "      <td>2628</td>\n",
       "      <td>40221</td>\n",
       "      <td>https://i.ytimg.com/vi/J78aPJ3VyNs/default.jpg</td>\n",
       "      <td>False</td>\n",
       "      <td>False</td>\n",
       "      <td>I left youtube for a month and this is what ha...</td>\n",
       "    </tr>\n",
       "    <tr>\n",
       "      <th>3</th>\n",
       "      <td>kXLn3HkpjaA</td>\n",
       "      <td>XXL 2020 Freshman Class Revealed - Official An...</td>\n",
       "      <td>2020-08-11 16:38:55+00:00</td>\n",
       "      <td>XXL</td>\n",
       "      <td>Music</td>\n",
       "      <td>2020-08-12 00:00:00+00:00</td>\n",
       "      <td>xxl freshman|xxl freshmen|2020 xxl freshman|20...</td>\n",
       "      <td>496771</td>\n",
       "      <td>23251</td>\n",
       "      <td>1856</td>\n",
       "      <td>7647</td>\n",
       "      <td>https://i.ytimg.com/vi/kXLn3HkpjaA/default.jpg</td>\n",
       "      <td>False</td>\n",
       "      <td>False</td>\n",
       "      <td>Subscribe to XXL → http://bit.ly/subscribe-xxl...</td>\n",
       "    </tr>\n",
       "    <tr>\n",
       "      <th>4</th>\n",
       "      <td>VIUo6yapDbc</td>\n",
       "      <td>Ultimate DIY Home Movie Theater for The LaBran...</td>\n",
       "      <td>2020-08-11 15:10:05+00:00</td>\n",
       "      <td>Mr. Kate</td>\n",
       "      <td>Howto &amp; Style</td>\n",
       "      <td>2020-08-12 00:00:00+00:00</td>\n",
       "      <td>The LaBrant Family|DIY|Interior Design|Makeove...</td>\n",
       "      <td>1123889</td>\n",
       "      <td>45802</td>\n",
       "      <td>964</td>\n",
       "      <td>2196</td>\n",
       "      <td>https://i.ytimg.com/vi/VIUo6yapDbc/default.jpg</td>\n",
       "      <td>False</td>\n",
       "      <td>False</td>\n",
       "      <td>Transforming The LaBrant Family's empty white ...</td>\n",
       "    </tr>\n",
       "  </tbody>\n",
       "</table>\n",
       "</div>"
      ],
      "text/plain": [
       "      video_id                                              title  \\\n",
       "0  3C66w5Z0ixs                 I ASKED HER TO BE MY GIRLFRIEND...   \n",
       "1  M9Pmf9AB4Mo  Apex Legends | Stories from the Outlands – “Th...   \n",
       "2  J78aPJ3VyNs  I left youtube for a month and THIS is what ha...   \n",
       "3  kXLn3HkpjaA  XXL 2020 Freshman Class Revealed - Official An...   \n",
       "4  VIUo6yapDbc  Ultimate DIY Home Movie Theater for The LaBran...   \n",
       "\n",
       "                publishedAt   channelTitle      categoryId  \\\n",
       "0 2020-08-11 19:20:14+00:00       Brawadis  People & Blogs   \n",
       "1 2020-08-11 17:00:10+00:00   Apex Legends          Gaming   \n",
       "2 2020-08-11 16:34:06+00:00  jacksepticeye   Entertainment   \n",
       "3 2020-08-11 16:38:55+00:00            XXL           Music   \n",
       "4 2020-08-11 15:10:05+00:00       Mr. Kate   Howto & Style   \n",
       "\n",
       "              trending_date  \\\n",
       "0 2020-08-12 00:00:00+00:00   \n",
       "1 2020-08-12 00:00:00+00:00   \n",
       "2 2020-08-12 00:00:00+00:00   \n",
       "3 2020-08-12 00:00:00+00:00   \n",
       "4 2020-08-12 00:00:00+00:00   \n",
       "\n",
       "                                                tags  view_count   likes  \\\n",
       "0  brawadis|prank|basketball|skits|ghost|funny vi...     1514614  156908   \n",
       "1  Apex Legends|Apex Legends characters|new Apex ...     2381688  146739   \n",
       "2  jacksepticeye|funny|funny meme|memes|jacksepti...     2038853  353787   \n",
       "3  xxl freshman|xxl freshmen|2020 xxl freshman|20...      496771   23251   \n",
       "4  The LaBrant Family|DIY|Interior Design|Makeove...     1123889   45802   \n",
       "\n",
       "   dislikes  comment_count                                  thumbnail_link  \\\n",
       "0      5855          35313  https://i.ytimg.com/vi/3C66w5Z0ixs/default.jpg   \n",
       "1      2794          16549  https://i.ytimg.com/vi/M9Pmf9AB4Mo/default.jpg   \n",
       "2      2628          40221  https://i.ytimg.com/vi/J78aPJ3VyNs/default.jpg   \n",
       "3      1856           7647  https://i.ytimg.com/vi/kXLn3HkpjaA/default.jpg   \n",
       "4       964           2196  https://i.ytimg.com/vi/VIUo6yapDbc/default.jpg   \n",
       "\n",
       "   comments_disabled  ratings_disabled  \\\n",
       "0              False             False   \n",
       "1              False             False   \n",
       "2              False             False   \n",
       "3              False             False   \n",
       "4              False             False   \n",
       "\n",
       "                                         description  \n",
       "0  SUBSCRIBE to BRAWADIS ▶ http://bit.ly/Subscrib...  \n",
       "1  While running her own modding shop, Ramya Pare...  \n",
       "2  I left youtube for a month and this is what ha...  \n",
       "3  Subscribe to XXL → http://bit.ly/subscribe-xxl...  \n",
       "4  Transforming The LaBrant Family's empty white ...  "
      ]
     },
     "execution_count": 17,
     "metadata": {},
     "output_type": "execute_result"
    }
   ],
   "source": [
    "# Checking the Dataframe after the changes\n",
    "\n",
    "data.head()"
   ]
  },
  {
   "cell_type": "code",
   "execution_count": 19,
   "id": "6ef953b5",
   "metadata": {},
   "outputs": [],
   "source": [
    "def column_start_end(x):\n",
    "    return([min(x), max(x)])"
   ]
  },
  {
   "cell_type": "code",
   "execution_count": 20,
   "id": "bb7f8d66",
   "metadata": {
    "scrolled": true
   },
   "outputs": [],
   "source": [
    "df = data.groupby('video_id').agg({'title':st.mode, 'publishedAt':np.min, 'channelTitle':st.mode, 'categoryId':st.mode,\n",
    "              'trending_date': column_start_end, 'tags': st.mode, 'likes': column_start_end,\n",
    "                'comments_disabled': st.mode, 'ratings_disabled': st.mode}).reset_index()"
   ]
  },
  {
   "cell_type": "code",
   "execution_count": 21,
   "id": "dbdd2ff7",
   "metadata": {},
   "outputs": [
    {
     "data": {
      "text/html": [
       "<div>\n",
       "<style scoped>\n",
       "    .dataframe tbody tr th:only-of-type {\n",
       "        vertical-align: middle;\n",
       "    }\n",
       "\n",
       "    .dataframe tbody tr th {\n",
       "        vertical-align: top;\n",
       "    }\n",
       "\n",
       "    .dataframe thead th {\n",
       "        text-align: right;\n",
       "    }\n",
       "</style>\n",
       "<table border=\"1\" class=\"dataframe\">\n",
       "  <thead>\n",
       "    <tr style=\"text-align: right;\">\n",
       "      <th></th>\n",
       "      <th>video_id</th>\n",
       "      <th>title</th>\n",
       "      <th>publishedAt</th>\n",
       "      <th>channelTitle</th>\n",
       "      <th>categoryId</th>\n",
       "      <th>trending_date</th>\n",
       "      <th>tags</th>\n",
       "      <th>likes</th>\n",
       "      <th>dislikes</th>\n",
       "      <th>comments_disabled</th>\n",
       "      <th>ratings_disabled</th>\n",
       "    </tr>\n",
       "  </thead>\n",
       "  <tbody>\n",
       "    <tr>\n",
       "      <th>0</th>\n",
       "      <td>--14w5SOEUs</td>\n",
       "      <td>Migos - Avalanche (Official Video)</td>\n",
       "      <td>2021-06-10 16:00:00+00:00</td>\n",
       "      <td>MigosVEVO</td>\n",
       "      <td>Music</td>\n",
       "      <td>[2021-06-11 00:00:00+00:00, 2021-06-15 00:00:0...</td>\n",
       "      <td>Migos|Avalanche|Quality|Control|Music/Motown|R...</td>\n",
       "      <td>[122830, 262692]</td>\n",
       "      <td>[867, 4107]</td>\n",
       "      <td>False</td>\n",
       "      <td>False</td>\n",
       "    </tr>\n",
       "    <tr>\n",
       "      <th>1</th>\n",
       "      <td>--2O86Z0hsM</td>\n",
       "      <td>MY TESLA PAYS FOR ITSELF</td>\n",
       "      <td>2022-03-09 23:19:08+00:00</td>\n",
       "      <td>jf.okay</td>\n",
       "      <td>Entertainment</td>\n",
       "      <td>[2022-03-11 00:00:00+00:00, 2022-03-15 00:00:0...</td>\n",
       "      <td>[None]</td>\n",
       "      <td>[16481, 17290]</td>\n",
       "      <td>[0, 0]</td>\n",
       "      <td>False</td>\n",
       "      <td>False</td>\n",
       "    </tr>\n",
       "    <tr>\n",
       "      <th>2</th>\n",
       "      <td>--40TEbZ9Is</td>\n",
       "      <td>Supporting Actress in a Comedy: 73rd Emmys</td>\n",
       "      <td>2021-09-20 01:03:32+00:00</td>\n",
       "      <td>Television Academy</td>\n",
       "      <td>Entertainment</td>\n",
       "      <td>[2021-09-21 00:00:00+00:00, 2021-09-25 00:00:0...</td>\n",
       "      <td>[None]</td>\n",
       "      <td>[6299, 8029]</td>\n",
       "      <td>[286, 369]</td>\n",
       "      <td>False</td>\n",
       "      <td>False</td>\n",
       "    </tr>\n",
       "    <tr>\n",
       "      <th>3</th>\n",
       "      <td>--5-brQiQFg</td>\n",
       "      <td>Washington Commanders vs. San Francisco 49ers ...</td>\n",
       "      <td>2022-12-25 00:30:17+00:00</td>\n",
       "      <td>NFL</td>\n",
       "      <td>Sports</td>\n",
       "      <td>[2022-12-26 00:00:00+00:00, 2022-12-26 00:00:0...</td>\n",
       "      <td>[None]</td>\n",
       "      <td>[14603, 14603]</td>\n",
       "      <td>[0, 0]</td>\n",
       "      <td>False</td>\n",
       "      <td>False</td>\n",
       "    </tr>\n",
       "    <tr>\n",
       "      <th>4</th>\n",
       "      <td>--DKkzWVh-E</td>\n",
       "      <td>Why Retaining Walls Collapse</td>\n",
       "      <td>2021-12-07 13:00:00+00:00</td>\n",
       "      <td>Practical Engineering</td>\n",
       "      <td>Education</td>\n",
       "      <td>[2021-12-08 00:00:00+00:00, 2021-12-11 00:00:0...</td>\n",
       "      <td>retaining wall|New Jersey highway|Direct Conne...</td>\n",
       "      <td>[18445, 29991]</td>\n",
       "      <td>[147, 320]</td>\n",
       "      <td>False</td>\n",
       "      <td>False</td>\n",
       "    </tr>\n",
       "  </tbody>\n",
       "</table>\n",
       "</div>"
      ],
      "text/plain": [
       "      video_id                                              title  \\\n",
       "0  --14w5SOEUs                 Migos - Avalanche (Official Video)   \n",
       "1  --2O86Z0hsM                           MY TESLA PAYS FOR ITSELF   \n",
       "2  --40TEbZ9Is         Supporting Actress in a Comedy: 73rd Emmys   \n",
       "3  --5-brQiQFg  Washington Commanders vs. San Francisco 49ers ...   \n",
       "4  --DKkzWVh-E                       Why Retaining Walls Collapse   \n",
       "\n",
       "                publishedAt           channelTitle     categoryId  \\\n",
       "0 2021-06-10 16:00:00+00:00              MigosVEVO          Music   \n",
       "1 2022-03-09 23:19:08+00:00                jf.okay  Entertainment   \n",
       "2 2021-09-20 01:03:32+00:00     Television Academy  Entertainment   \n",
       "3 2022-12-25 00:30:17+00:00                    NFL         Sports   \n",
       "4 2021-12-07 13:00:00+00:00  Practical Engineering      Education   \n",
       "\n",
       "                                       trending_date  \\\n",
       "0  [2021-06-11 00:00:00+00:00, 2021-06-15 00:00:0...   \n",
       "1  [2022-03-11 00:00:00+00:00, 2022-03-15 00:00:0...   \n",
       "2  [2021-09-21 00:00:00+00:00, 2021-09-25 00:00:0...   \n",
       "3  [2022-12-26 00:00:00+00:00, 2022-12-26 00:00:0...   \n",
       "4  [2021-12-08 00:00:00+00:00, 2021-12-11 00:00:0...   \n",
       "\n",
       "                                                tags             likes  \\\n",
       "0  Migos|Avalanche|Quality|Control|Music/Motown|R...  [122830, 262692]   \n",
       "1                                             [None]    [16481, 17290]   \n",
       "2                                             [None]      [6299, 8029]   \n",
       "3                                             [None]    [14603, 14603]   \n",
       "4  retaining wall|New Jersey highway|Direct Conne...    [18445, 29991]   \n",
       "\n",
       "      dislikes  comments_disabled  ratings_disabled  \n",
       "0  [867, 4107]              False             False  \n",
       "1       [0, 0]              False             False  \n",
       "2   [286, 369]              False             False  \n",
       "3       [0, 0]              False             False  \n",
       "4   [147, 320]              False             False  "
      ]
     },
     "execution_count": 21,
     "metadata": {},
     "output_type": "execute_result"
    }
   ],
   "source": [
    "df.head()"
   ]
  },
  {
   "cell_type": "code",
   "execution_count": 22,
   "id": "7d7c3066",
   "metadata": {},
   "outputs": [],
   "source": [
    "df['trending_date_start'] = df['trending_date'].apply(lambda x: min(x))\n",
    "df['trending_date_end'] = df['trending_date'].apply(lambda x: max(x))\n",
    "df.drop('trending_date', axis = 1, inplace = True)"
   ]
  },
  {
   "cell_type": "code",
   "execution_count": 23,
   "id": "48d1d1a6",
   "metadata": {},
   "outputs": [
    {
     "data": {
      "text/html": [
       "<div>\n",
       "<style scoped>\n",
       "    .dataframe tbody tr th:only-of-type {\n",
       "        vertical-align: middle;\n",
       "    }\n",
       "\n",
       "    .dataframe tbody tr th {\n",
       "        vertical-align: top;\n",
       "    }\n",
       "\n",
       "    .dataframe thead th {\n",
       "        text-align: right;\n",
       "    }\n",
       "</style>\n",
       "<table border=\"1\" class=\"dataframe\">\n",
       "  <thead>\n",
       "    <tr style=\"text-align: right;\">\n",
       "      <th></th>\n",
       "      <th>video_id</th>\n",
       "      <th>title</th>\n",
       "      <th>publishedAt</th>\n",
       "      <th>channelTitle</th>\n",
       "      <th>categoryId</th>\n",
       "      <th>tags</th>\n",
       "      <th>likes</th>\n",
       "      <th>dislikes</th>\n",
       "      <th>comments_disabled</th>\n",
       "      <th>ratings_disabled</th>\n",
       "      <th>trending_date_start</th>\n",
       "      <th>trending_date_end</th>\n",
       "    </tr>\n",
       "  </thead>\n",
       "  <tbody>\n",
       "    <tr>\n",
       "      <th>0</th>\n",
       "      <td>--14w5SOEUs</td>\n",
       "      <td>Migos - Avalanche (Official Video)</td>\n",
       "      <td>2021-06-10 16:00:00+00:00</td>\n",
       "      <td>MigosVEVO</td>\n",
       "      <td>Music</td>\n",
       "      <td>Migos|Avalanche|Quality|Control|Music/Motown|R...</td>\n",
       "      <td>[122830, 262692]</td>\n",
       "      <td>[867, 4107]</td>\n",
       "      <td>False</td>\n",
       "      <td>False</td>\n",
       "      <td>2021-06-11 00:00:00+00:00</td>\n",
       "      <td>2021-06-15 00:00:00+00:00</td>\n",
       "    </tr>\n",
       "    <tr>\n",
       "      <th>1</th>\n",
       "      <td>--2O86Z0hsM</td>\n",
       "      <td>MY TESLA PAYS FOR ITSELF</td>\n",
       "      <td>2022-03-09 23:19:08+00:00</td>\n",
       "      <td>jf.okay</td>\n",
       "      <td>Entertainment</td>\n",
       "      <td>[None]</td>\n",
       "      <td>[16481, 17290]</td>\n",
       "      <td>[0, 0]</td>\n",
       "      <td>False</td>\n",
       "      <td>False</td>\n",
       "      <td>2022-03-11 00:00:00+00:00</td>\n",
       "      <td>2022-03-15 00:00:00+00:00</td>\n",
       "    </tr>\n",
       "    <tr>\n",
       "      <th>2</th>\n",
       "      <td>--40TEbZ9Is</td>\n",
       "      <td>Supporting Actress in a Comedy: 73rd Emmys</td>\n",
       "      <td>2021-09-20 01:03:32+00:00</td>\n",
       "      <td>Television Academy</td>\n",
       "      <td>Entertainment</td>\n",
       "      <td>[None]</td>\n",
       "      <td>[6299, 8029]</td>\n",
       "      <td>[286, 369]</td>\n",
       "      <td>False</td>\n",
       "      <td>False</td>\n",
       "      <td>2021-09-21 00:00:00+00:00</td>\n",
       "      <td>2021-09-25 00:00:00+00:00</td>\n",
       "    </tr>\n",
       "    <tr>\n",
       "      <th>3</th>\n",
       "      <td>--5-brQiQFg</td>\n",
       "      <td>Washington Commanders vs. San Francisco 49ers ...</td>\n",
       "      <td>2022-12-25 00:30:17+00:00</td>\n",
       "      <td>NFL</td>\n",
       "      <td>Sports</td>\n",
       "      <td>[None]</td>\n",
       "      <td>[14603, 14603]</td>\n",
       "      <td>[0, 0]</td>\n",
       "      <td>False</td>\n",
       "      <td>False</td>\n",
       "      <td>2022-12-26 00:00:00+00:00</td>\n",
       "      <td>2022-12-26 00:00:00+00:00</td>\n",
       "    </tr>\n",
       "    <tr>\n",
       "      <th>4</th>\n",
       "      <td>--DKkzWVh-E</td>\n",
       "      <td>Why Retaining Walls Collapse</td>\n",
       "      <td>2021-12-07 13:00:00+00:00</td>\n",
       "      <td>Practical Engineering</td>\n",
       "      <td>Education</td>\n",
       "      <td>retaining wall|New Jersey highway|Direct Conne...</td>\n",
       "      <td>[18445, 29991]</td>\n",
       "      <td>[147, 320]</td>\n",
       "      <td>False</td>\n",
       "      <td>False</td>\n",
       "      <td>2021-12-08 00:00:00+00:00</td>\n",
       "      <td>2021-12-11 00:00:00+00:00</td>\n",
       "    </tr>\n",
       "  </tbody>\n",
       "</table>\n",
       "</div>"
      ],
      "text/plain": [
       "      video_id                                              title  \\\n",
       "0  --14w5SOEUs                 Migos - Avalanche (Official Video)   \n",
       "1  --2O86Z0hsM                           MY TESLA PAYS FOR ITSELF   \n",
       "2  --40TEbZ9Is         Supporting Actress in a Comedy: 73rd Emmys   \n",
       "3  --5-brQiQFg  Washington Commanders vs. San Francisco 49ers ...   \n",
       "4  --DKkzWVh-E                       Why Retaining Walls Collapse   \n",
       "\n",
       "                publishedAt           channelTitle     categoryId  \\\n",
       "0 2021-06-10 16:00:00+00:00              MigosVEVO          Music   \n",
       "1 2022-03-09 23:19:08+00:00                jf.okay  Entertainment   \n",
       "2 2021-09-20 01:03:32+00:00     Television Academy  Entertainment   \n",
       "3 2022-12-25 00:30:17+00:00                    NFL         Sports   \n",
       "4 2021-12-07 13:00:00+00:00  Practical Engineering      Education   \n",
       "\n",
       "                                                tags             likes  \\\n",
       "0  Migos|Avalanche|Quality|Control|Music/Motown|R...  [122830, 262692]   \n",
       "1                                             [None]    [16481, 17290]   \n",
       "2                                             [None]      [6299, 8029]   \n",
       "3                                             [None]    [14603, 14603]   \n",
       "4  retaining wall|New Jersey highway|Direct Conne...    [18445, 29991]   \n",
       "\n",
       "      dislikes  comments_disabled  ratings_disabled       trending_date_start  \\\n",
       "0  [867, 4107]              False             False 2021-06-11 00:00:00+00:00   \n",
       "1       [0, 0]              False             False 2022-03-11 00:00:00+00:00   \n",
       "2   [286, 369]              False             False 2021-09-21 00:00:00+00:00   \n",
       "3       [0, 0]              False             False 2022-12-26 00:00:00+00:00   \n",
       "4   [147, 320]              False             False 2021-12-08 00:00:00+00:00   \n",
       "\n",
       "          trending_date_end  \n",
       "0 2021-06-15 00:00:00+00:00  \n",
       "1 2022-03-15 00:00:00+00:00  \n",
       "2 2021-09-25 00:00:00+00:00  \n",
       "3 2022-12-26 00:00:00+00:00  \n",
       "4 2021-12-11 00:00:00+00:00  "
      ]
     },
     "execution_count": 23,
     "metadata": {},
     "output_type": "execute_result"
    }
   ],
   "source": [
    "df.head()"
   ]
  },
  {
   "cell_type": "code",
   "execution_count": 24,
   "id": "3b3468fd",
   "metadata": {},
   "outputs": [],
   "source": [
    "df['likes_start'] = df['likes'].apply(lambda x: min(x))\n",
    "df['likes_end'] = df['likes'].apply(lambda x: max(x))\n",
    "df.drop('likes', axis = 1, inplace = True)"
   ]
  },
  {
   "cell_type": "code",
   "execution_count": 26,
   "id": "41dbbde9",
   "metadata": {},
   "outputs": [
    {
     "data": {
      "text/html": [
       "<div>\n",
       "<style scoped>\n",
       "    .dataframe tbody tr th:only-of-type {\n",
       "        vertical-align: middle;\n",
       "    }\n",
       "\n",
       "    .dataframe tbody tr th {\n",
       "        vertical-align: top;\n",
       "    }\n",
       "\n",
       "    .dataframe thead th {\n",
       "        text-align: right;\n",
       "    }\n",
       "</style>\n",
       "<table border=\"1\" class=\"dataframe\">\n",
       "  <thead>\n",
       "    <tr style=\"text-align: right;\">\n",
       "      <th></th>\n",
       "      <th>video_id</th>\n",
       "      <th>title</th>\n",
       "      <th>publishedAt</th>\n",
       "      <th>channelTitle</th>\n",
       "      <th>categoryId</th>\n",
       "      <th>tags</th>\n",
       "      <th>comments_disabled</th>\n",
       "      <th>ratings_disabled</th>\n",
       "      <th>trending_date_start</th>\n",
       "      <th>trending_date_end</th>\n",
       "      <th>likes_start</th>\n",
       "      <th>likes_end</th>\n",
       "      <th>dislikes_start</th>\n",
       "      <th>dislikes_end</th>\n",
       "    </tr>\n",
       "  </thead>\n",
       "  <tbody>\n",
       "    <tr>\n",
       "      <th>0</th>\n",
       "      <td>--14w5SOEUs</td>\n",
       "      <td>Migos - Avalanche (Official Video)</td>\n",
       "      <td>2021-06-10 16:00:00+00:00</td>\n",
       "      <td>MigosVEVO</td>\n",
       "      <td>Music</td>\n",
       "      <td>Migos|Avalanche|Quality|Control|Music/Motown|R...</td>\n",
       "      <td>False</td>\n",
       "      <td>False</td>\n",
       "      <td>2021-06-11 00:00:00+00:00</td>\n",
       "      <td>2021-06-15 00:00:00+00:00</td>\n",
       "      <td>122830</td>\n",
       "      <td>262692</td>\n",
       "      <td>867</td>\n",
       "      <td>4107</td>\n",
       "    </tr>\n",
       "    <tr>\n",
       "      <th>1</th>\n",
       "      <td>--2O86Z0hsM</td>\n",
       "      <td>MY TESLA PAYS FOR ITSELF</td>\n",
       "      <td>2022-03-09 23:19:08+00:00</td>\n",
       "      <td>jf.okay</td>\n",
       "      <td>Entertainment</td>\n",
       "      <td>[None]</td>\n",
       "      <td>False</td>\n",
       "      <td>False</td>\n",
       "      <td>2022-03-11 00:00:00+00:00</td>\n",
       "      <td>2022-03-15 00:00:00+00:00</td>\n",
       "      <td>16481</td>\n",
       "      <td>17290</td>\n",
       "      <td>0</td>\n",
       "      <td>0</td>\n",
       "    </tr>\n",
       "    <tr>\n",
       "      <th>2</th>\n",
       "      <td>--40TEbZ9Is</td>\n",
       "      <td>Supporting Actress in a Comedy: 73rd Emmys</td>\n",
       "      <td>2021-09-20 01:03:32+00:00</td>\n",
       "      <td>Television Academy</td>\n",
       "      <td>Entertainment</td>\n",
       "      <td>[None]</td>\n",
       "      <td>False</td>\n",
       "      <td>False</td>\n",
       "      <td>2021-09-21 00:00:00+00:00</td>\n",
       "      <td>2021-09-25 00:00:00+00:00</td>\n",
       "      <td>6299</td>\n",
       "      <td>8029</td>\n",
       "      <td>286</td>\n",
       "      <td>369</td>\n",
       "    </tr>\n",
       "    <tr>\n",
       "      <th>3</th>\n",
       "      <td>--5-brQiQFg</td>\n",
       "      <td>Washington Commanders vs. San Francisco 49ers ...</td>\n",
       "      <td>2022-12-25 00:30:17+00:00</td>\n",
       "      <td>NFL</td>\n",
       "      <td>Sports</td>\n",
       "      <td>[None]</td>\n",
       "      <td>False</td>\n",
       "      <td>False</td>\n",
       "      <td>2022-12-26 00:00:00+00:00</td>\n",
       "      <td>2022-12-26 00:00:00+00:00</td>\n",
       "      <td>14603</td>\n",
       "      <td>14603</td>\n",
       "      <td>0</td>\n",
       "      <td>0</td>\n",
       "    </tr>\n",
       "    <tr>\n",
       "      <th>4</th>\n",
       "      <td>--DKkzWVh-E</td>\n",
       "      <td>Why Retaining Walls Collapse</td>\n",
       "      <td>2021-12-07 13:00:00+00:00</td>\n",
       "      <td>Practical Engineering</td>\n",
       "      <td>Education</td>\n",
       "      <td>retaining wall|New Jersey highway|Direct Conne...</td>\n",
       "      <td>False</td>\n",
       "      <td>False</td>\n",
       "      <td>2021-12-08 00:00:00+00:00</td>\n",
       "      <td>2021-12-11 00:00:00+00:00</td>\n",
       "      <td>18445</td>\n",
       "      <td>29991</td>\n",
       "      <td>147</td>\n",
       "      <td>320</td>\n",
       "    </tr>\n",
       "  </tbody>\n",
       "</table>\n",
       "</div>"
      ],
      "text/plain": [
       "      video_id                                              title  \\\n",
       "0  --14w5SOEUs                 Migos - Avalanche (Official Video)   \n",
       "1  --2O86Z0hsM                           MY TESLA PAYS FOR ITSELF   \n",
       "2  --40TEbZ9Is         Supporting Actress in a Comedy: 73rd Emmys   \n",
       "3  --5-brQiQFg  Washington Commanders vs. San Francisco 49ers ...   \n",
       "4  --DKkzWVh-E                       Why Retaining Walls Collapse   \n",
       "\n",
       "                publishedAt           channelTitle     categoryId  \\\n",
       "0 2021-06-10 16:00:00+00:00              MigosVEVO          Music   \n",
       "1 2022-03-09 23:19:08+00:00                jf.okay  Entertainment   \n",
       "2 2021-09-20 01:03:32+00:00     Television Academy  Entertainment   \n",
       "3 2022-12-25 00:30:17+00:00                    NFL         Sports   \n",
       "4 2021-12-07 13:00:00+00:00  Practical Engineering      Education   \n",
       "\n",
       "                                                tags  comments_disabled  \\\n",
       "0  Migos|Avalanche|Quality|Control|Music/Motown|R...              False   \n",
       "1                                             [None]              False   \n",
       "2                                             [None]              False   \n",
       "3                                             [None]              False   \n",
       "4  retaining wall|New Jersey highway|Direct Conne...              False   \n",
       "\n",
       "   ratings_disabled       trending_date_start         trending_date_end  \\\n",
       "0             False 2021-06-11 00:00:00+00:00 2021-06-15 00:00:00+00:00   \n",
       "1             False 2022-03-11 00:00:00+00:00 2022-03-15 00:00:00+00:00   \n",
       "2             False 2021-09-21 00:00:00+00:00 2021-09-25 00:00:00+00:00   \n",
       "3             False 2022-12-26 00:00:00+00:00 2022-12-26 00:00:00+00:00   \n",
       "4             False 2021-12-08 00:00:00+00:00 2021-12-11 00:00:00+00:00   \n",
       "\n",
       "   likes_start  likes_end  dislikes_start  dislikes_end  \n",
       "0       122830     262692             867          4107  \n",
       "1        16481      17290               0             0  \n",
       "2         6299       8029             286           369  \n",
       "3        14603      14603               0             0  \n",
       "4        18445      29991             147           320  "
      ]
     },
     "execution_count": 26,
     "metadata": {},
     "output_type": "execute_result"
    }
   ],
   "source": [
    "df.head()"
   ]
  },
  {
   "cell_type": "code",
   "execution_count": 29,
   "id": "c60e5a39",
   "metadata": {},
   "outputs": [],
   "source": [
    "df['tags'] = df['tags'].apply(lambda x: x if x!= '[None]' else np.nan)\n",
    "df['tagCount'] = df['tags'].apply(lambda x: 0 if type(x) == float else len(list(x.split('|'))))"
   ]
  },
  {
   "cell_type": "code",
   "execution_count": 56,
   "id": "2ed11aac",
   "metadata": {
    "scrolled": true
   },
   "outputs": [],
   "source": [
    "df['hoursTakenToTrend'] = round((df['trending_date_start'] - df['publishedAt']).dt.seconds/(60*60), 1)"
   ]
  },
  {
   "cell_type": "code",
   "execution_count": 62,
   "id": "790b57df",
   "metadata": {},
   "outputs": [],
   "source": [
    "df['trendingDaysDuration'] = (df['trending_date_end'] - df['trending_date_start']).dt.days"
   ]
  },
  {
   "cell_type": "markdown",
   "id": "2c224409",
   "metadata": {},
   "source": [
    "## XXXXXXXXXXXXXXXXXXXXXXXXXXXXXXXXXXXXXXXXXXXXXXXXXXXXXXXXXXXXXXXXX"
   ]
  },
  {
   "cell_type": "code",
   "execution_count": null,
   "id": "e5463f10",
   "metadata": {},
   "outputs": [],
   "source": []
  },
  {
   "cell_type": "code",
   "execution_count": null,
   "id": "9ce97398",
   "metadata": {},
   "outputs": [],
   "source": []
  },
  {
   "cell_type": "code",
   "execution_count": null,
   "id": "eee953ee",
   "metadata": {},
   "outputs": [],
   "source": []
  },
  {
   "cell_type": "code",
   "execution_count": null,
   "id": "a5df6e1f",
   "metadata": {},
   "outputs": [],
   "source": []
  },
  {
   "cell_type": "code",
   "execution_count": null,
   "id": "aff6718f",
   "metadata": {},
   "outputs": [],
   "source": []
  },
  {
   "cell_type": "code",
   "execution_count": null,
   "id": "601be803",
   "metadata": {},
   "outputs": [],
   "source": []
  },
  {
   "cell_type": "code",
   "execution_count": null,
   "id": "9291b590",
   "metadata": {},
   "outputs": [],
   "source": []
  },
  {
   "cell_type": "code",
   "execution_count": null,
   "id": "94340e48",
   "metadata": {},
   "outputs": [],
   "source": []
  },
  {
   "cell_type": "code",
   "execution_count": null,
   "id": "d473d53e",
   "metadata": {},
   "outputs": [],
   "source": []
  },
  {
   "cell_type": "code",
   "execution_count": null,
   "id": "774fec6f",
   "metadata": {},
   "outputs": [],
   "source": []
  },
  {
   "cell_type": "code",
   "execution_count": null,
   "id": "df1b3e37",
   "metadata": {},
   "outputs": [],
   "source": []
  },
  {
   "cell_type": "code",
   "execution_count": null,
   "id": "35da4072",
   "metadata": {},
   "outputs": [],
   "source": []
  },
  {
   "cell_type": "code",
   "execution_count": null,
   "id": "8d9c41c9",
   "metadata": {},
   "outputs": [],
   "source": []
  },
  {
   "cell_type": "code",
   "execution_count": null,
   "id": "12f195d4",
   "metadata": {},
   "outputs": [],
   "source": [
    "plt.figure(figsize = (10, 5))\n",
    "sns.histplot(data['tagCount'], kde = True)\n",
    "plt.show()"
   ]
  },
  {
   "cell_type": "code",
   "execution_count": null,
   "id": "7bcb169c",
   "metadata": {},
   "outputs": [],
   "source": [
    "# Let's check the correlation between the numerical columns\n",
    "\n",
    "plt.figure(figsize = (10, 8))\n",
    "sns.heatmap(data[['view_count', 'likes', 'dislikes', 'comment_count', 'daysTakenToTrend', 'tagCount']].corr(), linewidths=.5, annot=True, cmap='coolwarm')\n",
    "plt.show()"
   ]
  },
  {
   "cell_type": "markdown",
   "id": "477e3748",
   "metadata": {},
   "source": [
    "- `view_count` and `likes` are highly correlated. It is more likely that the video with more views has more likes.\n",
    "- `comment_count` and `likes` are relatively highly correlated when compared to `comment_count` and `views`.\n",
    "- `daysTakenToTrend` is not correlated to any feature. Which is interesting as it is impossible to correlate how many days the video will take to trend based on comment_count or dislikes or likes or view_count."
   ]
  },
  {
   "cell_type": "code",
   "execution_count": null,
   "id": "57d02477",
   "metadata": {},
   "outputs": [],
   "source": [
    "######################### likes per view"
   ]
  },
  {
   "cell_type": "code",
   "execution_count": null,
   "id": "a0ae50dc",
   "metadata": {},
   "outputs": [],
   "source": [
    "# Checking number of videos based on each Category\n",
    "\n",
    "plt.figure(figsize = (10, 4))\n",
    "sns.countplot(data['categoryId'], order = data['categoryId'].value_counts().sort_values(ascending = False).index)\n",
    "plt.xticks(rotation = 90)\n",
    "plt.show()"
   ]
  },
  {
   "cell_type": "markdown",
   "id": "ac88407a",
   "metadata": {},
   "source": [
    "There are more `Entertainment` videos and least type is `Nonprofits & Activism`"
   ]
  },
  {
   "cell_type": "code",
   "execution_count": null,
   "id": "c9e173a7",
   "metadata": {},
   "outputs": [],
   "source": [
    "plt.figure(figsize = (10, 6))\n",
    "sns.barplot(data = data, x = 'categoryId', y = 'likes',\n",
    "            order = data.groupby('categoryId')['likes'].mean().sort_values(ascending = False).index, ci = 0)\n",
    "\n",
    "plt.xticks(rotation = 90)\n",
    "plt.show()"
   ]
  },
  {
   "cell_type": "markdown",
   "id": "3e36e3b5",
   "metadata": {},
   "source": [
    "- `Pets & Animals` videos has most average likes and `New & Policts` videos has least average likes."
   ]
  },
  {
   "cell_type": "code",
   "execution_count": null,
   "id": "9358dfc4",
   "metadata": {},
   "outputs": [],
   "source": [
    "plt.figure(figsize = (10, 6))\n",
    "sns.barplot(data = data, x = 'categoryId', y = 'comment_count',\n",
    "            order = data.groupby('categoryId')['comment_count'].mean().sort_values(ascending = False).index, ci = 0)\n",
    "\n",
    "plt.xticks(rotation = 90)\n",
    "plt.show()"
   ]
  },
  {
   "cell_type": "markdown",
   "id": "9483b68e",
   "metadata": {},
   "source": [
    "`Music` videos has most average comment count and `Nonprofits & Activism` has least average comment count."
   ]
  },
  {
   "cell_type": "code",
   "execution_count": null,
   "id": "a37d9e8d",
   "metadata": {},
   "outputs": [],
   "source": [
    "plt.figure(figsize = (10, 6))\n",
    "sns.barplot(data = data, x = 'categoryId', y = 'daysTakenToTrend',\n",
    "            order = data.groupby('categoryId')['daysTakenToTrend'].mean().sort_values(ascending = False).index, ci = 0)\n",
    "\n",
    "plt.xticks(rotation = 90)\n",
    "plt.show()"
   ]
  },
  {
   "cell_type": "markdown",
   "id": "6a2d9e2d",
   "metadata": {},
   "source": [
    "It is interesting to note that `News & Politics` videos take less time to trend and `Music`, `Comedy` and `Pets & Animals` videos take more time to trend."
   ]
  },
  {
   "cell_type": "code",
   "execution_count": null,
   "id": "0ad6243d",
   "metadata": {},
   "outputs": [],
   "source": [
    "sns.countplot(data['comments_disabled'])\n",
    "plt.show()"
   ]
  },
  {
   "cell_type": "code",
   "execution_count": null,
   "id": "5669513f",
   "metadata": {},
   "outputs": [],
   "source": [
    "plt.figure(figsize = (10, 5))\n",
    "sns.countplot(data[data['ratings_disabled'] == True]['categoryId'], \n",
    "              order = data[data['ratings_disabled'] == True].groupby('categoryId')['ratings_disabled'].count().sort_values(ascending = False).index)\n",
    "plt.xticks(rotation = 90)\n",
    "plt.show()"
   ]
  },
  {
   "cell_type": "code",
   "execution_count": null,
   "id": "3b1812ae",
   "metadata": {},
   "outputs": [],
   "source": [
    "plt.figure(figsize = (10, 5))\n",
    "sns.countplot(data[data['tags'] == '[None]']['categoryId'], \n",
    "              order = data[data['tags'] == '[None]'].groupby('categoryId')['ratings_disabled'].count().sort_values(ascending = False).index)\n",
    "plt.xticks(rotation = 90)\n",
    "plt.show()"
   ]
  },
  {
   "cell_type": "code",
   "execution_count": null,
   "id": "f82e727d",
   "metadata": {},
   "outputs": [],
   "source": [
    "# Let's extract weekday from the trendingdate\n",
    "data['day'] = data['trending_date'].dt.day_name()"
   ]
  },
  {
   "cell_type": "code",
   "execution_count": null,
   "id": "a9a2fbd7",
   "metadata": {},
   "outputs": [],
   "source": [
    "# Let's plot number of trending videos for each day of the week\n",
    "sns.countplot(data['day'])\n",
    "plt.show()"
   ]
  },
  {
   "cell_type": "code",
   "execution_count": null,
   "id": "59f702e2",
   "metadata": {},
   "outputs": [],
   "source": [
    "# Daily several videos trend but which video trends for the longest number of days will be the question."
   ]
  },
  {
   "cell_type": "code",
   "execution_count": null,
   "id": "3cc1bf60",
   "metadata": {},
   "outputs": [],
   "source": [
    "# Modify\n",
    "plt.figure(figsize = (15,4))\n",
    "sns.countplot(data = data, x = 'categoryId', hue = 'day')"
   ]
  },
  {
   "cell_type": "code",
   "execution_count": null,
   "id": "e4af3994",
   "metadata": {},
   "outputs": [],
   "source": [
    "# categories that are taking minimum or moderate or maximum number of days to trend\n",
    "(data.groupby('categoryId')['daysTakenToTrend'].var().sort_values()).plot.bar()"
   ]
  },
  {
   "cell_type": "code",
   "execution_count": null,
   "id": "6cd10b95",
   "metadata": {},
   "outputs": [],
   "source": [
    "\n",
    "data['like/dislike ratio'] = round(data['likes']/data['dislikes'], 2)"
   ]
  },
  {
   "cell_type": "code",
   "execution_count": null,
   "id": "91a2db89",
   "metadata": {},
   "outputs": [],
   "source": [
    "# Modify\n",
    "plt.figure(figsize = (8, 10))\n",
    "sns.histplot(data = data, x = 'like/dislike ratio', y = 'categoryId')"
   ]
  },
  {
   "cell_type": "code",
   "execution_count": null,
   "id": "b0c5b91b",
   "metadata": {},
   "outputs": [],
   "source": []
  },
  {
   "cell_type": "code",
   "execution_count": null,
   "id": "1296684f",
   "metadata": {},
   "outputs": [],
   "source": []
  }
 ],
 "metadata": {
  "kernelspec": {
   "display_name": "Python 3 (ipykernel)",
   "language": "python",
   "name": "python3"
  },
  "language_info": {
   "codemirror_mode": {
    "name": "ipython",
    "version": 3
   },
   "file_extension": ".py",
   "mimetype": "text/x-python",
   "name": "python",
   "nbconvert_exporter": "python",
   "pygments_lexer": "ipython3",
   "version": "3.9.13"
  }
 },
 "nbformat": 4,
 "nbformat_minor": 5
}
